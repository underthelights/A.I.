{
  "nbformat": 4,
  "nbformat_minor": 0,
  "metadata": {
    "kernelspec": {
      "display_name": "Python 3",
      "language": "python",
      "name": "python3"
    },
    "language_info": {
      "codemirror_mode": {
        "name": "ipython",
        "version": 3
      },
      "file_extension": ".py",
      "mimetype": "text/x-python",
      "name": "python",
      "nbconvert_exporter": "python",
      "pygments_lexer": "ipython3",
      "version": "3.5.5"
    },
    "colab": {
      "name": "Chapter_3-Naive_Bayes_Classifier.ipynb",
      "provenance": [],
      "toc_visible": true,
      "include_colab_link": true
    }
  },
  "cells": [
    {
      "cell_type": "markdown",
      "metadata": {
        "id": "view-in-github",
        "colab_type": "text"
      },
      "source": [
        "<a href=\"https://colab.research.google.com/github/underthelights/A.I./blob/main/KAIST/%EC%9D%B8%EA%B3%B5%EC%A7%80%EB%8A%A5%20%EB%B0%8F%20%EA%B8%B0%EA%B3%84%ED%95%99%EC%8A%B5%20%EA%B0%9C%EB%A1%A0/Chapter_3_Naive_Bayes_Classifier.ipynb\" target=\"_parent\"><img src=\"https://colab.research.google.com/assets/colab-badge.svg\" alt=\"Open In Colab\"/></a>"
      ]
    },
    {
      "cell_type": "markdown",
      "metadata": {
        "id": "xC2aydup7Ns5"
      },
      "source": [
        "# Naive Bayes Classifier \n",
        "\n",
        "###  <div align=center> Moon Il-chul(icmoon@kaist.ac.kr); Shin Dong-hyeok(tlsehdgur0@kaist.ac.kr) </div>\n",
        "\n",
        "본 코드는 Naive Bayes Classifier의 구현 예시입니다.  \n",
        "본 코드는 여러개의 문서 속 단어들을 통해 각 문서의 sentiment를 확률적으로 classification하고, 이 결과값을 각 문서의 실제 sentiment와 비교하여 정확도를 측정합니다.   \n",
        "본 코드를 통하여, 간단하고도 효율적인 Naive Bayes Classifier의 이론과 구현 과정을 익힐 수 있습니다.\n",
        "\n",
        "### 데이터 입력 및 전처리 과정 \n",
        "\n",
        "주어진 sentimentdataset.mat 파일에는 3종류의 matlab 변수가 저장되어 있습니다.\n",
        "\n",
        "* bagofword : 198 X 29717 numpy ndarray, 198개의 문서에서 29717개의 단어에 대한 bag of word 저장\n",
        "* sentiment : 198 X 1 numpy ndarray, 198개의 문서에 대한 positive sentiment/negative sentiment를 각각 0과 1로 저장\n",
        "* words : 29717 X 1 numpy ndarray, 29717개의 unique 단어 저장 \n",
        "\n",
        "\n",
        "### 실제 구현부\n",
        "\n",
        "Naive Bayes Classifier는 Bayes Theorem과 Conditional independent assumption을 이용하여 classification을 수행하는 모델입니다.\n",
        "Naive Bayes Classifier function은 아래와 같이 표현합니다.\n",
        "$$f_{NB} (x)=argmax_{Y=y} P(Y=y)\\prod_{i=1}^d P(X_i=x_i \\mid Y=y)$$\n",
        "\n",
        "본 코드에서는 Naive Bayes Classfier fucntion을 구하기 위해 단계적으로 확률을 구합니다.\n",
        "\n",
        "실제 구현에서 필요한 각 확률을 구할 때, 주어진 데이터로부터 cntXbyY, cntY를 이용하여 계산하였습니다.\n",
        "\n",
        "* probsXbyY : numword X 2 numpy ndarray, 각 i번째 행은 likelihood $P(X_i=x_i \\mid Y=y)$을 의미 \n",
        "    $$P(X_i=x_i \\mid Y=y_j) = \\frac{cntXbyY[i,j]+\\alpha-1}{cntY[j]+\\alpha+\\beta-2} ... (prbsXbyY에 대한 MAP 추론 참조)$$\n",
        "* probsY : 2 X 1 numpy ndarray, class prior $P(Y=y)$를 의미 \n",
        "    $$P(Y=y_j)=\\frac{cntY}{\\sum_{j}{cntY[j]}}$$\n",
        "* probsSentiment : 198 X 2 numpy ndarray, 각 행은 문서가 0 또는 1을 가질 확률을 나타냄, $P(Y=y)\\prod_{i=1}^d P(X_i=x_i \\mid Y=y)$\n",
        "\n",
        "#### probsXbyY에 대한 MAP 추론\n",
        "\n",
        "실제 구현 과정에서 $P(X_i=x_i \\mid Y=y_j)$를 구할 때 고려해 주어야하는 사항이 있습니다.   \n",
        "\n",
        "만약 cntXbyY[i,j]가 0일 경우, MLE를 이용하면 $P(X_i=x_i \\mid Y=y_j)= \\frac{cntXbyY[i,j]}{cntY[j]}$로 해당 값이 0이 됩니다.   \n",
        "이로 인해 추후 likelihood를 모두 곱하는 과정에서 다른 likelihood의 값과 관계없이 0이 되는 Numerical error가 발생하게 됩니다.\n",
        "\n",
        "위와 같은 문제가 발생하는 이유는 $P(X_i=x_i \\mid Y=y_j)$가 0이 될 수 있다는 강한 가정이 존재하기 때문입니다.   \n",
        "따라서, 우리는 $p=P(X_i=positive \\mid Y=y_j)$에 적절한 가정으로 prior를 부여함으로써 이러한 문제점을 해결할 수 있습니다. \n",
        "\n",
        "현재 Random Variable $X_i=x_i \\mid Y=y_j$은 Bernoulli distribution with p을 가지므로, \n",
        "$P(X=x \\mid Y=y)=\\prod_{i=1}^d P(X_i=x_i \\mid Y=y)$은 Binomial distribution with n, p을 가지게 됩니다.  \n",
        "이때, $p=P(X_i=1 \\mid Y=y)$는 Beta distribution with $\\alpha=2, \\beta=2$를 따르는 Random Variable로 가정합니다.  \n",
        "\n",
        "위의 결과를 바탕으로 MAP로 구한 $\\hat{p}$의 값은 아래와 같습니다.\n",
        "$$\\hat{p}=P(X_i=x_i \\mid Y=y_j) = \\frac{cntXbyY[i,j]+\\alpha-1}{cntY[j]+\\alpha+\\beta-2}$$\n"
      ]
    },
    {
      "cell_type": "code",
      "metadata": {
        "collapsed": true,
        "id": "86mIs77T7Ns9"
      },
      "source": [
        "'''\n",
        "@ copyright: AAI lab (http://aailab.kaist.ac.kr/xe2/page_GBex27)\n",
        "@ author: Moon Il-chul: icmoon@kaist.ac.kr\n",
        "@ annotated by Shin Dong-hyeok: tlsehdgur0@kaist.ac.kr\n",
        "'''\n",
        "\n",
        "import scipy.io as sio\n",
        "import numpy as np\n",
        "import matplotlib.pyplot as plt\n",
        "from math import log  \n",
        "%matplotlib inline  "
      ],
      "execution_count": null,
      "outputs": []
    },
    {
      "cell_type": "code",
      "metadata": {
        "colab": {
          "base_uri": "https://localhost:8080/"
        },
        "id": "lMSlt7mV7Vin",
        "outputId": "619f78a0-0270-478f-ba31-9086b9a17756"
      },
      "source": [
        "from google.colab import drive\n",
        "drive.mount('/content/drive')"
      ],
      "execution_count": null,
      "outputs": [
        {
          "output_type": "stream",
          "text": [
            "Mounted at /content/drive\n"
          ],
          "name": "stdout"
        }
      ]
    },
    {
      "cell_type": "code",
      "metadata": {
        "collapsed": true,
        "scrolled": true,
        "id": "mkxmOyyI7Ns9"
      },
      "source": [
        "data = sio.loadmat('/content/drive/MyDrive/Colab Notebooks/MLBasic @ KAIST/Week03/sentimentdataset.mat', chars_as_strings=1, matlab_compatible=1)  \n",
        "\n",
        "bagofword = data['bagofword'];  \n",
        "sentiment = data['sentiment'];  \n",
        "sentiment = sentiment.astype(int);\n",
        "words = data['word'];\n",
        "\n",
        "# 낱개로 떨어져있는 단어를 하나의 온전한 단어로 합쳐주는 과정\n",
        "# ex) [['h', 'o', 'l', 'e', 's']]  -> 'holes'\n",
        "word = []  \n",
        "for n in range(2000):\n",
        "    word = word + [str(''.join(letter)) for letter in words[n][0]]"
      ],
      "execution_count": null,
      "outputs": []
    },
    {
      "cell_type": "code",
      "metadata": {
        "collapsed": true,
        "id": "mMcoPTqV7Ns-"
      },
      "source": [
        "cell = 10;  # Training set의 크기를 변화시키는 횟수\n",
        "replication = 2; # 반복횟수\n",
        "numTesting = 50; # Testing set의 크기\n",
        "numWord = 2000;\n",
        "alpha = 2.0 # Beta Distribution의 parameter\n",
        "beta = 2.0 # Beta Distribution의 parameter\n",
        "\n",
        "trainingAccuracy = np.zeros((replication, 10));\n",
        "testingAccuracy = np.zeros((replication,10));\n",
        "avgTraining = np.zeros((cell,1));\n",
        "stdTraining = np.zeros((cell,1));\n",
        "avgTesting = np.zeros((cell,1));\n",
        "stdTesting = np.zeros((cell,1));"
      ],
      "execution_count": null,
      "outputs": []
    },
    {
      "cell_type": "code",
      "metadata": {
        "id": "UqNHb0hJqX4G"
      },
      "source": [
        "\n",
        "for M in range(1,cell+1): # Training set의 변화 횟수만큼 반복  \n",
        "    N = M * 10;  # N : Training set의 갯수\n",
        "    for rep in range(replication):  \n",
        "        sample = np.random.permutation(np.arange(198))\n",
        "        \n",
        "        # 데이터에 랜덤성 부여\n",
        "        X = bagofword[sample]; \n",
        "        Y = sentiment[sample];\n",
        "        \n",
        "        cntXbyY = np.zeros((numWord,2))\n",
        "        for i in range(numWord): \n",
        "            for j in range(N): \n",
        "                if X[j,i] >= 1: # j번째 문서에 i번째 단어가 있을 경우\n",
        "                    cntXbyY[i,Y[j]] = cntXbyY[i,Y[j]] + 1; # j번째 문서의 실제 sentiment에 +1을 해준다  \n",
        "        \n",
        "        # cntY : Training set에 Positive sentiment와 Negative sentiment의 갯수 \n",
        "        cntY = np.zeros((2,1)); \n",
        "        for j in range(N): # Training set만큼 counting \n",
        "            if Y[j] == 0: \n",
        "                cntY[0] = cntY[0] + 1; \n",
        "            else:\n",
        "                cntY[1] = cntY[1] + 1;\n",
        "        \n",
        "        # probsXbyY : Sentiment가 주어질 때, 각 단어가 해당 Sentiment를 가질 확률\n",
        "        # 해당 단어가 등장하는 Positive(또는 Negative) Sentiment 문서의 갯수 / Positive(또는 Negative) Sentiment의 갯수\n",
        "        probsXbyY = np.zeros((numWord, 2));\n",
        "        for i in range(numWord):\n",
        "            for j in range(2):\n",
        "                probsXbyY[i,j] = (cntXbyY[i,j]+alpha-1) / float(cntY[j]+alpha+beta-2);\n",
        "                \n",
        "     \n",
        "        # probsY : 어떤 문서가 Positive 또는 Negative Sentiment를 가질 확률\n",
        "        # Positive(또는 Negative) Sentiment인 문서 갯수 / 전체 문서 갯수\n",
        "        probsY = np.zeros((2,1));\n",
        "        for j in range(2):\n",
        "            probsY[j] = cntY[j] / float(cntY[0]+cntY[1])\n",
        "            \n",
        "        logProbsSentiment = np.zeros((198,2));\n",
        "        for i in range(198):\n",
        "            for k in range(2):\n",
        "                logProbsSentiment[i,k] = 0;\n",
        "                for j in range(numWord):\n",
        "                    if X[i,j] == 1:\n",
        "                        logProbsSentiment[i,k] = logProbsSentiment[i,k] + log(probsXbyY[j,k]);\n",
        "                    else:\n",
        "                        logProbsSentiment[i,k] = logProbsSentiment[i,k] + log(1 - probsXbyY[j,k]);\n",
        "                logProbsSentiment[i,k] = logProbsSentiment[i,k] + log(probsY[k,0]);\n",
        "        \n",
        "        # 각 문서에 대하여 Sentiment 값을 추정하여 결정  \n",
        "        estSentiment = np.zeros((198,1)); \n",
        "        for i in range(198): # 전체 문서수(198개)만큼 반복 실행\n",
        "            if logProbsSentiment[i,0] > logProbsSentiment[i,1]: # i번째 문서의 probsSentiment가 0일 확률이 1일 확률보다 클 경우 \n",
        "                estSentiment[i] = 0;\n",
        "            else:\n",
        "                estSentiment[i] = 1;\n",
        "                \n",
        "        # Training set에 대하여 각각의 실제 Sentiment 값과 비교하여 정확도 계산\n",
        "        cntCorrect = 0; \n",
        "        for i in range(N): # N(Training set 갯수)만큼 반복 실행\n",
        "            if estSentiment[i] == Y[i]:\n",
        "                cntCorrect = cntCorrect + 1;\n",
        "        trainingAccuracy[rep,M-1] = cntCorrect / float(N);\n",
        "        \n",
        "        # Testing set에 대하여 각각의 실제 Sentiment 값과 비교하여 정확도 계산\n",
        "        cntCorrect = 0; \n",
        "        for i  in range(N,N+numTesting+1):  # N개 이후의 numTesting 갯수만큼 반복 실행\n",
        "            if estSentiment[i] == Y[i]:\n",
        "                cntCorrect = cntCorrect + 1;\n",
        "        testingAccuracy[rep,M-1] = cntCorrect / float(numTesting);\n",
        "    \n",
        "    # 정확도의 평균값 계산\n",
        "    avgTraining[M-1] = np.mean(trainingAccuracy[:,M-1]);\n",
        "    avgTesting[M-1] = np.mean(testingAccuracy[:,M-1]);\n",
        "    # 정확도의 표준편차 계산\n",
        "    stdTraining[M-1] = np.std(trainingAccuracy[:,M-1]);\n",
        "    stdTesting[M-1] = np.std(testingAccuracy[:,M-1]);"
      ],
      "execution_count": null,
      "outputs": []
    },
    {
      "cell_type": "markdown",
      "metadata": {
        "id": "ZlmAT9TIqa9K"
      },
      "source": [
        "Plotting Figures"
      ]
    },
    {
      "cell_type": "code",
      "metadata": {
        "scrolled": true,
        "colab": {
          "base_uri": "https://localhost:8080/",
          "height": 122
        },
        "id": "nuUOAVjj7Ns_",
        "outputId": "9cb7e3d3-3a31-49c2-d900-652f953c39aa"
      },
      "source": [
        "plt.figure(1, figsize=(7,5))\n",
        "plt.errorbar(np.dot(10,range(1,cell+1)),avgTraining,yerr = stdTraining/np.sqrt(replication), fmt='-o', color='r', label = \"Training\");\n",
        "plt.errorbar(np.dot(10,range(1,cell+1)),avgTesting,yerr = stdTesting/np.sqrt(replication),  fmt='-o', color='b', label = \"Testing\");\n",
        "\n",
        "plt.legend(bbox_to_anchor=(1.05, 1), loc=2, borderaxespad=0.)\n",
        "plt.xlabel('Number of Training Cases', fontsize = 14)\n",
        "plt.ylabel('Classification Accuracy', fontsize = 14)\n",
        "\n",
        "plt.show();"
      ],
      "execution_count": null,
      "outputs": [
        {
          "output_type": "stream",
          "text": [
            "/usr/local/lib/python3.7/dist-packages/ipykernel_launcher.py:2: MatplotlibDeprecationWarning: Support for passing a (n, 1)-shaped error array to errorbar() is deprecated since Matplotlib 3.1 and will be removed in 3.3; pass a 1D array instead.\n",
            "  \n",
            "/usr/local/lib/python3.7/dist-packages/ipykernel_launcher.py:3: MatplotlibDeprecationWarning: Support for passing a (n, 1)-shaped error array to errorbar() is deprecated since Matplotlib 3.1 and will be removed in 3.3; pass a 1D array instead.\n",
            "  This is separate from the ipykernel package so we can avoid doing imports until\n"
          ],
          "name": "stderr"
        },
        {
          "output_type": "display_data",
          "data": {
            "image/png": "[encoded data removed]",
            "text/plain": [
              "<Figure size 504x360 with 1 Axes>"
            ]
          },
          "metadata": {
            "tags": [],
            "needs_background": "light"
          }
        }
      ]
    },
    {
      "cell_type": "markdown",
      "metadata": {
        "collapsed": true,
        "id": "ZpcQU-397NtA"
      },
      "source": [
        "### 결과 해석부\n",
        "\n",
        "위의 그래프는 Training set의 크기를 변화시키며 Naive Bayes Classifier를 통해 classification을 한 후 각 문서의 실제 sentiment와 비교하여 정확도를 측정한 결과입니다.  \n",
        "\n",
        "이러한 결과를 바탕으로, Naive Bayes Classifier가 주어진 데이터를 어떻게 classification하는지 알 수 있습니다. \n"
      ]
    }
  ]
}