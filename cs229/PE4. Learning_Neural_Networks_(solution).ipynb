{
  "nbformat": 4,
  "nbformat_minor": 0,
  "metadata": {
    "kernelspec": {
      "display_name": "Python 3",
      "language": "python",
      "name": "python3"
    },
    "language_info": {
      "codemirror_mode": {
        "name": "ipython",
        "version": 3
      },
      "file_extension": ".py",
      "mimetype": "text/x-python",
      "name": "python",
      "nbconvert_exporter": "python",
      "pygments_lexer": "ipython3",
      "version": "3.7.1"
    },
    "colab": {
      "name": "PE4 - Learning Neural Networks (Exercises).ipynb",
      "provenance": [],
      "include_colab_link": true
    }
  },
  "cells": [
    {
      "cell_type": "markdown",
      "metadata": {
        "id": "view-in-github",
        "colab_type": "text"
      },
      "source": [
        "<a href=\"https://colab.research.google.com/github/underthelights/A.I./blob/main/cs229/PE4.%20Learning_Neural_Networks_(solution).ipynb\" target=\"_parent\"><img src=\"https://colab.research.google.com/assets/colab-badge.svg\" alt=\"Open In Colab\"/></a>"
      ]
    },
    {
      "cell_type": "markdown",
      "metadata": {
        "id": "7FCsA0MxqOYC"
      },
      "source": [
        "# Neural Networks Learning\n",
        "\n",
        "Stanford CS229 - Machine Learning by Andrew Ng. Programming exercise 4.\n",
        "\n",
        "Please check out [the repository on GitHub](https://github.com/rickwierenga/CS229-Python/). If you spot any mistakes or inconcistencies, please create an issue. For questions you can find me on Twitter: [@rickwierenga](https://twitter.com/rickwierenga). Starring the project on GitHub means a ton to me!"
      ]
    },
    {
      "cell_type": "code",
      "metadata": {
        "id": "oN7WIS4PqOYD"
      },
      "source": [
        "import numpy as np\n",
        "import pandas as pd\n",
        "import matplotlib.pylab as plt\n",
        "from scipy.optimize import minimize\n",
        "%matplotlib inline"
      ],
      "execution_count": 1,
      "outputs": []
    },
    {
      "cell_type": "markdown",
      "metadata": {
        "id": "SWsnlYtcqOYD"
      },
      "source": [
        "## Neural networks\n",
        "\n",
        "---\n",
        "In the previous exercise, you implemented feedforward propagation for neural networks and used it to predict handwritten digits with the weights we provided. In this exercise, you will implement the backpropagation algorithm to learn the parameters for the neural network.\n",
        "\n",
        "Load the data and view some samples in the same way as [ex3](https://github.com/rickwierenga/CS229-Python/tree/master/ex3).\n",
        "\n",
        "Remember the output of a neural network: $h_\\Theta(x) \\in \\mathbb{R}^K$. We want y to be a 2 dimensional vector in the form that are network should output. For example, we would represent the output 1 as:\n",
        "\n",
        "$\\begin{bmatrix}0\\\\1\\\\0\\\\0\\\\0\\\\0\\\\0\\\\0\\\\0\\\\0\\end{bmatrix}$"
      ]
    },
    {
      "cell_type": "code",
      "metadata": {
        "id": "joET-EUsqOYD"
      },
      "source": [
        "def remap(y, K):\n",
        "    m = len(y)\n",
        "    out = np.zeros((m, K))\n",
        "    for index in range(m):\n",
        "        out[index][y[index] - 1] = 1\n",
        "    return out"
      ],
      "execution_count": 2,
      "outputs": []
    },
    {
      "cell_type": "code",
      "metadata": {
        "colab": {
          "base_uri": "https://localhost:8080/"
        },
        "id": "qvRa6z_0rRKa",
        "outputId": "6c5caa7b-fe9f-4813-9555-cf10813936e8"
      },
      "source": [
        "from google.colab import drive\n",
        "drive.mount('/content/drive')"
      ],
      "execution_count": 4,
      "outputs": [
        {
          "output_type": "stream",
          "text": [
            "Mounted at /content/drive\n"
          ],
          "name": "stdout"
        }
      ]
    },
    {
      "cell_type": "code",
      "metadata": {
        "id": "Z7caLBVHqOYE"
      },
      "source": [
        "import scipy.io as sio\n",
        "\n",
        "# Load data\n",
        "data = sio.loadmat(\"/content/drive/MyDrive/Colab Notebooks/cs229 @ Stanford/ex4/ex4data1.mat\")\n",
        "X = data[\"X\"]\n",
        "y = data[\"y\"]\n",
        "y = y.reshape(len(y))\n",
        "\n",
        "# Initialize some useful variables\n",
        "m, n = X.shape\n",
        "input_layer_size = 400\n",
        "hidden_layer_size = 25\n",
        "K = 10 # number of classes / output_layer_size\n",
        "\n",
        "# remap y\n",
        "mapped_y = remap(y, K)"
      ],
      "execution_count": 5,
      "outputs": []
    },
    {
      "cell_type": "code",
      "metadata": {
        "id": "o-O0268BqOYE",
        "colab": {
          "base_uri": "https://localhost:8080/",
          "height": 298
        },
        "outputId": "2cafe579-352b-4239-dd04-6d573e90b0ed"
      },
      "source": [
        "import random\n",
        "from PIL import Image\n",
        "\n",
        "# get 100 random images from the dataset\n",
        "num_samples = 100\n",
        "samples = random.sample(list(X), num_samples)\n",
        "display_img = Image.new('RGB', (200, 200))\n",
        "\n",
        "# loop over the images, turn them into a PIL image\n",
        "i = 0\n",
        "for col in range(10):\n",
        "    for row in range(10):\n",
        "        array = samples[i]\n",
        "        array = ((array / max(array)) * 255).reshape((20, 20)).transpose() # redistribute values\n",
        "        img = Image.fromarray(array)\n",
        "        display_img.paste(img, (col*20, row*20))\n",
        "        i += 1\n",
        "\n",
        "# present display_img\n",
        "plt.title('Examples from the dataset')\n",
        "plt.imshow(display_img, interpolation='nearest')"
      ],
      "execution_count": 6,
      "outputs": [
        {
          "output_type": "execute_result",
          "data": {
            "text/plain": [
              "<matplotlib.image.AxesImage at 0x7fde99e7dc50>"
            ]
          },
          "metadata": {
            "tags": []
          },
          "execution_count": 6
        },
        {
          "output_type": "display_data",
          "data": {
            "image/png": "[encoded data removed]",
            "text/plain": [
              "<Figure size 432x288 with 1 Axes>"
            ]
          },
          "metadata": {
            "tags": [],
            "needs_background": "light"
          }
        }
      ]
    },
    {
      "cell_type": "markdown",
      "metadata": {
        "id": "4jCLYF5XqOYF"
      },
      "source": [
        "Load the provided weights."
      ]
    },
    {
      "cell_type": "code",
      "metadata": {
        "id": "sukZmRIIqOYF"
      },
      "source": [
        "# load the pretrained weights\n",
        "theta = sio.loadmat(\"/content/drive/MyDrive/Colab Notebooks/cs229 @ Stanford/ex4/ex4weights.mat\")\n",
        "theta_1 = theta['Theta1']\n",
        "theta_2 = theta['Theta2']\n",
        "nn_params = np.concatenate([theta_1.flatten(), theta_2.flatten()])"
      ],
      "execution_count": 7,
      "outputs": []
    },
    {
      "cell_type": "markdown",
      "metadata": {
        "id": "fqYyj1CFqOYF"
      },
      "source": [
        "### Feedforward\n",
        "These are the functions for doing feedforward as written [ex3](https://github.com/rickwierenga/CS229-Python/tree/master/ex3)."
      ]
    },
    {
      "cell_type": "code",
      "metadata": {
        "id": "GJP1nefEqOYG"
      },
      "source": [
        "def sigmoid(z):\n",
        "    return 1 / (1 + np.exp(-z))\n",
        "\n",
        "def add_bias(X):\n",
        "    m = len(X)\n",
        "    bias = np.ones(m)\n",
        "    # concatenate bias , x.t\n",
        "    X = np.vstack((bias, X.T)).T\n",
        "    return X\n",
        "\n",
        "def forward(theta, X):\n",
        "    return sigmoid(theta @ X)"
      ],
      "execution_count": 8,
      "outputs": []
    },
    {
      "cell_type": "markdown",
      "metadata": {
        "id": "yUpfYgCEqOYG"
      },
      "source": [
        "### Cost Function\n",
        "\n",
        "Remember the following variables from the lectures: \n",
        "\n",
        "* $L$: Total number of layers in the network\n",
        "* $s_l$: number of units (not counting bias unit) in layer $l$.\n",
        "* $K$: number of output classes\n",
        "\n",
        "The cost function for neural networks without regularization:\n",
        "\n",
        "$$J(\\theta) = \\frac{1}{m}\\displaystyle\\sum_{i=1}^{m}\\displaystyle\\sum_{k=1}^{K}\\begin{bmatrix} -y^{(i)}_k \\log (h_\\theta(x^{(i)}) - (1 - y^{(i)})_k \\log(1-(h_\\theta(x^{(i)}))_k)\\end{bmatrix}$$\n",
        "\n",
        "And with regularization:\n",
        "\n",
        "$$J(\\theta) = -\\frac{1}{m}\\displaystyle\\sum_{i=1}^{m}\\displaystyle\\sum_{k=1}^{K}\\begin{bmatrix} -y^{(i)}_k \\log ((h_\\theta(x^{(i)}-(1-y^{(i)})_k) \\log(1-(h_\\theta(x^{(i)}))_k)\\end{bmatrix} + \\frac{\\lambda}{2m} \\displaystyle\\sum_{l=1}^{L-1}\\displaystyle\\sum_{i=1}^{s_l}\\displaystyle\\sum_{j=1}^{s_l+1}(\\Theta^{(l)}_{ji})^2$$\n",
        "\n",
        "The double sum adds up the costs for each cell in the output layer. The triple sum adds up the squares of all $\\Theta$s in the network.\n",
        "\n",
        "**Exercise**: Implement the cost function for neural networks, `compute_nn_cost`, in Python. There are some structural comments to help you."
      ]
    },
    {
      "cell_type": "code",
      "metadata": {
        "id": "LbQWz5LXqOYG"
      },
      "source": [
        "def feed_forward(X, theta_1, theta_2):\n",
        "    \"\"\" Get predictions from the neural network, given X and Theta (in the form of theta_1, theta_2)\"\"\"\n",
        "    m = len(X)\n",
        "    activation_layer_1 = forward(theta_1, add_bias(X).T)\n",
        "    activation_layer_1 = add_bias(activation_layer_1.T).T\n",
        "    predictions = forward(theta_2, activation_layer_1)\n",
        "    predictions = predictions.reshape((m, len(predictions)))\n",
        "    return predictions\n",
        "\n",
        "def compute_nn_cost(nn_params, X, y, input_layer_size, hidden_layer_size, K, _lambda=0):\n",
        "    m = len(y)\n",
        "    \n",
        "    # Extract theta_1 and theta_2 from nn_params\n",
        "    theta_1 = nn_params[:hidden_layer_size * (input_layer_size + 1)].reshape((hidden_layer_size, (input_layer_size + 1)))\n",
        "    theta_2 = nn_params[(hidden_layer_size * (input_layer_size + 1)):].reshape((K, (hidden_layer_size + 1)))\n",
        "    \n",
        "    # Feed forward the network to get the predictions\n",
        "    activation_layer_1 = add_bias(forward(theta_1, add_bias(X).T).T)\n",
        "    predictions = forward(theta_2, activation_layer_1.T).T\n",
        "    \n",
        "    # Compute the cost of the current prediction\n",
        "    network_cost = (1 / m) * np.sum(-y * np.log(predictions) - (1 - y) * np.log(1 - predictions))\n",
        "    regularization = (_lambda / (2 * m)) * (np.sum(theta_1 ** 2) + np.sum(theta_2 ** 2))\n",
        "\n",
        "    return network_cost + regularization"
      ],
      "execution_count": 19,
      "outputs": []
    },
    {
      "cell_type": "code",
      "metadata": {
        "id": "eisKRtO7qOYH",
        "colab": {
          "base_uri": "https://localhost:8080/"
        },
        "outputId": "f10deb1b-3013-4b9d-8029-156c9f7e328a"
      },
      "source": [
        "J = compute_nn_cost(nn_params, X, mapped_y,\n",
        "                    input_layer_size=input_layer_size,\n",
        "                    hidden_layer_size=hidden_layer_size,\n",
        "                    K=10)\n",
        "_lambda = 1\n",
        "J_reg = compute_nn_cost(nn_params, X, mapped_y,\n",
        "                        input_layer_size=input_layer_size,\n",
        "                        hidden_layer_size=hidden_layer_size,\n",
        "                        K=10,\n",
        "                        _lambda=_lambda)\n",
        "\n",
        "print('Cost without regularization: {:2}% (0.29 approx)'.format(J))\n",
        "print('Cost with regularization: {:2}% (0.38 approx)'.format(J_reg))"
      ],
      "execution_count": 20,
      "outputs": [
        {
          "output_type": "stream",
          "text": [
            "Cost without regularization: 0.2876291651613189% (0.29 approx)\n",
            "Cost with regularization: 0.384487796242894% (0.38 approx)\n"
          ],
          "name": "stdout"
        }
      ]
    },
    {
      "cell_type": "markdown",
      "metadata": {
        "id": "4E2Z3o0aqOYH"
      },
      "source": [
        "## Backpropogation\n",
        "\n",
        "---\n",
        "\n",
        "### The Algorithm\n",
        "As the name suggests, backpropogation is roughly the opposite of feedforward propogation. Backpropogation is an algorithm that trains neural networks by computing the gradient and thereupon applying it to the neural network.\n",
        "\n",
        "Backpropogation (Backprop) starts at the end of the network. It finds the difference between the output of the neural network and the desired output. This value gets stored in $\\delta_j^{(l)}$, the error/cost for $a_j^{(l)}$. Also, $\\frac{\\delta}{\\delta z_j^{(l)}} = \\delta_j^{(l)}$. The process formaly:\n",
        "\n",
        "$$\\delta_j^{(l)} = a_j^{(l)} - y_j$$ for $l = L$\n",
        "\n",
        "$$\\delta_j^{(l)} = (\\Theta^{(l)})^T\\delta^{(l+1)} .* g'(z^{(l)}) = (\\Theta^{(l)})^T\\delta^{(l+1)} .* \\delta^{(l)}$$ for $L > l > 1$\n",
        "\n",
        "Also: \n",
        "\n",
        "$$D^{(l)}_{ij} = \\frac{\\delta}{\\delta \\Theta_j^{(l)}}J(\\Theta)$$\n",
        "\n",
        "As you would probably have expected, we don't apply the gradient to the input layer, layer 1, because we don't want to change our input in order to get a better output.\n",
        "\n",
        "The complete algorithm:\n",
        "\n",
        "Set $\\Delta^{(l)}_{ij} = 0$ for all ($l$, $i$, $j$)\n",
        "\n",
        "for $i = $ to $m$\n",
        "1. Perform forward propogation to compute $a^{(l)}$ for $l = 2, 3, ..., L$\n",
        "2. Using $y^{(l)}$, compute $\\delta^{(L)} = a^{(L)} - y^{(i)}$\n",
        "3. Compute $\\delta^{(L-2)}$, ..., $\\delta^{(2)}$\n",
        "4. $\\Delta^{(l)}_{ij} := \\Delta^{(l)}_{ij} + a^{(l)}_j\\delta^{(l+1)}_i$\n",
        "\n",
        "$D^{(l)}_{i0} = \\frac{1}{m}\\Delta^{(l)}_{i0}$\n",
        "\n",
        "$D^{(l)}_{ij} = \\frac{1}{m}\\Delta^{(l)}_{ij} + \\lambda\\Theta^{(l)}_{ij}$ if y $\\neq 0$\n",
        "\n",
        "### Gradient Checking\n",
        "After you've implemented code to compute the gradient, it's often a good idea to validate your code by comparing the gradient to an approximation of it. The approximiation is defined as: \n",
        "\n",
        "$$\\frac{J(\\theta+\\epsilon) - J(\\theta-\\epsilon)}{2\\epsilon} \\approx D$$\n",
        "\n",
        "### Random Initialization\n",
        "\n",
        "If all values in the neural networks are the same, the neural network will fail to develop advanced patterns and it will not function. This is the reason we use a random value for theta as the initial input (break the symmetry).\n",
        "\n",
        "### Neural Network Traning\n",
        "Follow these steps when training a neural network:\n",
        "1. Randomly initialize weights (avoid **symmetric ... **)\n",
        "2. Implement forward propogation to get $h_\\Theta(x^{(i)})$ from any $x^{(i)}$.\n",
        "3. Implement code to compute cost function $J(\\Theta)$.\n",
        "4. Implement backprop to compute partial derrivatives $\\frac{\\delta}{\\delta \\Theta^{(l)}_{jk}}J(\\Theta)$. \n",
        "    * Usually with a for loop over the training examples:\n",
        "        * Perform forward and backward propogation using one example\n",
        "        * Get activations $a^{(l)}$ and delta terms $d^{(l)}$ for $l = 2, ..., L$\n",
        "5. Use gradient checking to compare $\\frac{\\delta}{\\delta \\Theta^{(l)}_{jk}}J(\\Theta)$ computed using back propogation vs. using numerical estate of gradient of $J(\\Theta)$. Then disable gradient checking code.\n",
        "6. Use gradient descent or advanced optimization method with backpropogation to try to minimize $J(\\Theta)$ as a function of parameters $\\Theta$.\n",
        "\n",
        "---\n",
        "\n",
        "In this part of the exercise, you will implement the backpropagation algorithm to compute the gradient for the neural network cost function. Once you have computed the gradient, you will be able to train the neural network by minimizing the cost function $J(\\theta)$ using an advanced optimization algorithm such as cg."
      ]
    },
    {
      "cell_type": "markdown",
      "metadata": {
        "id": "UrchTGoIqOYI"
      },
      "source": [
        "### Sigmoid Gradient\n",
        "**Exercise**: Implement the gradient for the sigmoid function."
      ]
    },
    {
      "cell_type": "code",
      "metadata": {
        "id": "JKjptoDvqOYI"
      },
      "source": [
        "def sigmoid_gradient(z):\n",
        "    return sigmoid(z) *(1-sigmoid(z))"
      ],
      "execution_count": 21,
      "outputs": []
    },
    {
      "cell_type": "markdown",
      "metadata": {
        "id": "gOd4Y9wzqOYJ"
      },
      "source": [
        "### Initializing Parameters\n",
        "**Exercise**: Initialize random weights."
      ]
    },
    {
      "cell_type": "code",
      "metadata": {
        "id": "OF9uUWPXqOYJ"
      },
      "source": [
        "def initialize_random_weights(L_in, L_out):\n",
        "    epsilon = 0.12\n",
        "    rnd = np.random.random((L_out, L_in +1)) * (2*epsilon) - epsilon\n",
        "    return rnd"
      ],
      "execution_count": 23,
      "outputs": []
    },
    {
      "cell_type": "code",
      "metadata": {
        "id": "JwttmAKTqOYJ"
      },
      "source": [
        "initial_theta_1 = initialize_random_weights(input_layer_size, hidden_layer_size)\n",
        "initial_theta_2 = initialize_random_weights(hidden_layer_size, K)\n",
        "initial_nn_parameters = np.concatenate([initial_theta_1.flatten(), initial_theta_2.flatten()])"
      ],
      "execution_count": 24,
      "outputs": []
    },
    {
      "cell_type": "markdown",
      "metadata": {
        "id": "-8-esfErqOYJ"
      },
      "source": [
        "### Implement backpropogation\n",
        "**Exercise**: Implement back propogation in Python"
      ]
    },
    {
      "cell_type": "code",
      "metadata": {
        "id": "xW8H57_wqOYJ"
      },
      "source": [
        "def backprop_gradient(nn_params, X, y, input_layer_size, hidden_layer_size, K, _lambda=None):\n",
        "    \"\"\" See the backpropogation cell for a detailed explanation about this algorithm \"\"\"\n",
        "    m = len(y)\n",
        "\n",
        "    # Extract theta_1 and theta_2 from nn_params\n",
        "    theta_1 = nn_params[:hidden_layer_size * (input_layer_size + 1)].reshape((hidden_layer_size, (input_layer_size + 1)))\n",
        "    theta_2 = nn_params[(hidden_layer_size * (input_layer_size + 1)):].reshape((K, (hidden_layer_size + 1)))\n",
        "\n",
        "    # Initialize delta variables\n",
        "    Delta1 = np.zeros(theta_1.shape)\n",
        "    Delta2 = np.zeros(theta_2.shape)\n",
        "\n",
        "    # Loop over every training example\n",
        "    for i in range(m):     \n",
        "        # Get predictions\n",
        "        Xi = np.concatenate(([1], X[i]))\n",
        "        activation_layer_2 = np.concatenate(([1], forward(theta_1, Xi))) # include the bias cell\n",
        "        predictions = forward(theta_2, activation_layer_2)\n",
        "        predictions = predictions.reshape((len(predictions), 1))\n",
        "\n",
        "        # Get deltas\n",
        "        delta3 = predictions.reshape(len(predictions)) - y[i]\n",
        "        delta2 = theta_2[:,1:].T @ delta3 * sigmoid_gradient(theta_1 @ Xi) # ignore the first weight because we don't adjust the bias \n",
        "        \n",
        "        # Save the partial derrivatives\n",
        "        Delta2 += delta3.reshape((len(delta3), 1)) @ activation_layer_2.reshape((1, len(activation_layer_2)))\n",
        "        Delta1 += delta2.reshape((len(delta2), 1)) @ Xi.reshape((1, len(Xi)))\n",
        "\n",
        "    # get the gradients\n",
        "    if _lambda:\n",
        "        grad1 = (1/m) * Delta1 + (_lambda / m) * theta_1\n",
        "        grad2 = (1/m) * Delta2 + (_lambda / m) * theta_2\n",
        "    else:\n",
        "        grad1 = (1/m) * Delta1\n",
        "        grad2 = (1/m) * Delta2\n",
        "        \n",
        "    # Unroll gradients\n",
        "    gradient = np.concatenate((grad1.flatten(), grad2.flatten()))\n",
        "\n",
        "    return gradient"
      ],
      "execution_count": 25,
      "outputs": []
    },
    {
      "cell_type": "code",
      "metadata": {
        "id": "vW1l81TZqOYK"
      },
      "source": [
        "# This cell contains functions for testing the gradient. You do not have to understand them.\n",
        "def debug_initialize_weights(fan_out, fan_in):\n",
        "    W = np.sin(np.arange(1, (fan_in + 1) * fan_out + 1)) / 10\n",
        "    return W.reshape(fan_out, fan_in + 1)\n",
        "\n",
        "def compute_numerical_gradient(cost_function, nn_params, X, y, input_layer_size, hidden_layer_size, K, _lambda):\n",
        "    numgrad = np.zeros(nn_params.shape)\n",
        "    perturb = np.zeros(nn_params.shape)\n",
        "    e = 1e-4\n",
        "    for p in range(len(nn_params)):\n",
        "        # Set pertubation vector\n",
        "        perturb[p] = e\n",
        "        loss_1 = cost_function(nn_params-perturb, X, y, \n",
        "                               input_layer_size=input_layer_size, \n",
        "                               hidden_layer_size=hidden_layer_size, \n",
        "                               K=K, \n",
        "                               _lambda=_lambda)\n",
        "        loss_2 = cost_function(nn_params+perturb, X, y, \n",
        "                               input_layer_size=input_layer_size, \n",
        "                               hidden_layer_size=hidden_layer_size, \n",
        "                               K=K, \n",
        "                               _lambda=_lambda)\n",
        "        \n",
        "        # Compute numerical gradient\n",
        "        numgrad[p] = (loss_2 - loss_1) / (2*e)\n",
        "        perturb[p] = 0\n",
        "    return numgrad\n",
        "\n",
        "def check_gradient(cost_function, gradient_function, _lambda=0):\n",
        "    \"\"\" Check the gradient function \"\"\"\n",
        "\n",
        "    # Initialize test values\n",
        "    input_layer_size = 3\n",
        "    hidden_layer_size = 5\n",
        "    K = 3\n",
        "    m = 5\n",
        "    \n",
        "    theta_1 = debug_initialize_weights(hidden_layer_size, input_layer_size)\n",
        "    theta_2 = debug_initialize_weights(K, hidden_layer_size)\n",
        "    X = debug_initialize_weights(m, input_layer_size - 1)\n",
        "    y = 1 + np.mod(np.arange(1, m+1), K)\n",
        "    out = np.zeros((m, K))\n",
        "    for index in range(m):\n",
        "        out[index][y[index] - 1] = 1\n",
        "    y = out\n",
        "    \n",
        "    # Unroll parameters\n",
        "    nn_params = np.concatenate([theta_1.flatten(), theta_2.flatten()])\n",
        "    \n",
        "    # Compute gradient via backprop\n",
        "    backprop_gradient = gradient_function(nn_params, X, y,\n",
        "                                          input_layer_size=input_layer_size,\n",
        "                                          hidden_layer_size=hidden_layer_size,\n",
        "                                          K=K,\n",
        "                                          _lambda=_lambda)\n",
        "    \n",
        "    # Compute numerical gradient\n",
        "    numerical_gradient = compute_numerical_gradient(cost_function, nn_params, X, y,\n",
        "                                                    input_layer_size=input_layer_size,\n",
        "                                                    hidden_layer_size=hidden_layer_size,\n",
        "                                                    K=K,\n",
        "                                                    _lambda=_lambda)\n",
        "    \n",
        "    # Compare the backprop and numerical gradient\n",
        "    gradients = pd.DataFrame({'Backprop': backprop_gradient, \n",
        "                              'Numerical': numerical_gradient, \n",
        "                              'Difference':np.abs(backprop_gradient - numerical_gradient)})\n",
        "    pd.options.display.max_rows = 5\n",
        "    print(gradients)\n",
        "    \n",
        "    # Compute the difference\n",
        "    diff = np.linalg.norm(numerical_gradient - backprop_gradient) / np.linalg.norm(backprop_gradient + numerical_gradient)\n",
        "    print('If the backprop gradient is computed well, the relative diffrence will be no more than 1e-9: {}'.format(diff))"
      ],
      "execution_count": 26,
      "outputs": []
    },
    {
      "cell_type": "markdown",
      "metadata": {
        "id": "yaLzEH5HqOYK"
      },
      "source": [
        "Test the backpropogation algorithm (with and without regularization)"
      ]
    },
    {
      "cell_type": "code",
      "metadata": {
        "id": "dg9McPYTqOYK",
        "colab": {
          "base_uri": "https://localhost:8080/"
        },
        "outputId": "af669e65-c44f-4c28-8c3b-ac5880e46023"
      },
      "source": [
        "print('The gradients without regularization: ')\n",
        "check_gradient(compute_nn_cost, backprop_gradient)\n",
        "\n",
        "print('\\n-------------\\n')\n",
        "\n",
        "print('The gradients with regularization (lambda=3): ')\n",
        "check_gradient(compute_nn_cost, backprop_gradient, _lambda=3)"
      ],
      "execution_count": 27,
      "outputs": [
        {
          "output_type": "stream",
          "text": [
            "The gradients without regularization: \n",
            "    Backprop  Numerical    Difference\n",
            "0   0.012316   0.012316  9.615204e-12\n",
            "1   0.000174   0.000174  9.094188e-13\n",
            "..       ...        ...           ...\n",
            "36  0.054741   0.054741  8.854098e-13\n",
            "37  0.050293   0.050293  1.425839e-12\n",
            "\n",
            "[38 rows x 3 columns]\n",
            "If the backprop gradient is computed well, the relative diffrence will be no more than 1e-9: 1.906216983835849e-11\n",
            "\n",
            "-------------\n",
            "\n",
            "The gradients with regularization (lambda=3): \n",
            "    Backprop  Numerical    Difference\n",
            "0   0.062804   0.062804  9.045792e-12\n",
            "1   0.054732   0.054732  3.022305e-13\n",
            "..       ...        ...           ...\n",
            "36 -0.002943  -0.002943  1.112353e-12\n",
            "37  0.005234   0.005234  7.031042e-13\n",
            "\n",
            "[38 rows x 3 columns]\n",
            "If the backprop gradient is computed well, the relative diffrence will be no more than 1e-9: 1.6860327651828987e-11\n"
          ],
          "name": "stdout"
        }
      ]
    },
    {
      "cell_type": "markdown",
      "metadata": {
        "id": "kfXPtXBBqOYK"
      },
      "source": [
        "### Training the neural network\n",
        "\n",
        "The neural network will now be trained using your functions."
      ]
    },
    {
      "cell_type": "code",
      "metadata": {
        "id": "-_2TpiGaqOYL",
        "colab": {
          "base_uri": "https://localhost:8080/"
        },
        "outputId": "3ef2927b-5dcb-482a-8aa3-74c0be7f981b"
      },
      "source": [
        "# Get random initial values for theta\n",
        "initial_theta_1 = initialize_random_weights(input_layer_size, hidden_layer_size)\n",
        "initial_theta_2 = initialize_random_weights(hidden_layer_size, K)\n",
        "initial_nn_parameters = np.concatenate([initial_theta_1.flatten(), initial_theta_2.flatten()])\n",
        "\n",
        "# Set config\n",
        "_lambda = 1\n",
        "args = (X, mapped_y, input_layer_size, hidden_layer_size, K, _lambda)\n",
        "\n",
        "# Train NN\n",
        "result = minimize(compute_nn_cost, initial_nn_parameters, args=args,\n",
        "                            method='CG', jac=backprop_gradient, \n",
        "                            options={\"maxiter\": 50, \"disp\" : 1})\n",
        "nn_params = result.x\n",
        "theta_1 = nn_params[:hidden_layer_size * (input_layer_size + 1)].reshape((hidden_layer_size, (input_layer_size + 1)))\n",
        "theta_2 = nn_params[(hidden_layer_size * (input_layer_size + 1)):].reshape((K, (hidden_layer_size + 1)))"
      ],
      "execution_count": 28,
      "outputs": [
        {
          "output_type": "stream",
          "text": [
            "Warning: Maximum number of iterations has been exceeded.\n",
            "         Current function value: 0.437971\n",
            "         Iterations: 50\n",
            "         Function evaluations: 108\n",
            "         Gradient evaluations: 108\n"
          ],
          "name": "stdout"
        }
      ]
    },
    {
      "cell_type": "markdown",
      "metadata": {
        "id": "fUAE2dBNqOYL"
      },
      "source": [
        "### Visualising the hidden layer\n",
        "\n",
        "You can now \"visualize\" what the neural network is learning by displaying the hidden units to see what features they are capturing in the data."
      ]
    },
    {
      "cell_type": "code",
      "metadata": {
        "id": "BomntV16qOYL",
        "colab": {
          "base_uri": "https://localhost:8080/",
          "height": 298
        },
        "outputId": "ea7fd512-ace6-4092-c52c-c1f4ad0fb834"
      },
      "source": [
        "# get 100 random images from the dataset\n",
        "num_samples = 100\n",
        "hidden_unit_visual = theta_1[:, 1:]\n",
        "display_img = Image.new('RGB', (100, 100))\n",
        "\n",
        "# loop over the images, turn them into a PIL image\n",
        "i = 0\n",
        "for col in range(5):\n",
        "    for row in range(5):\n",
        "        array = hidden_unit_visual[i]\n",
        "        array = ((array / max(array)) * 255).reshape((20, 20)).transpose() # redistribute values\n",
        "        img = Image.fromarray(array)\n",
        "        display_img.paste(img, (col*20, row*20))\n",
        "        i += 1\n",
        "\n",
        "# present display_img\n",
        "plt.title('Visualisation of hidden layer 1')\n",
        "plt.imshow(display_img, interpolation='nearest')"
      ],
      "execution_count": 29,
      "outputs": [
        {
          "output_type": "execute_result",
          "data": {
            "text/plain": [
              "<matplotlib.image.AxesImage at 0x7fde91611f90>"
            ]
          },
          "metadata": {
            "tags": []
          },
          "execution_count": 29
        },
        {
          "output_type": "display_data",
          "data": {
            "image/png": "[encoded data removed]",
            "text/plain": [
              "<Figure size 432x288 with 1 Axes>"
            ]
          },
          "metadata": {
            "tags": [],
            "needs_background": "light"
          }
        }
      ]
    },
    {
      "cell_type": "markdown",
      "metadata": {
        "id": "Fkox6YTJqOYL"
      },
      "source": [
        "### Evaluating the model\n",
        "\n",
        "Get the accuracy on the training set for the trained values of theta. According to the exercise, you should have an accuracy of about 95%. However, this may vary due to the random initalization."
      ]
    },
    {
      "cell_type": "code",
      "metadata": {
        "id": "5-DouXeWqOYL",
        "colab": {
          "base_uri": "https://localhost:8080/",
          "height": 36
        },
        "outputId": "9c37cbbf-73c3-4dab-b5af-c434f3f332e8"
      },
      "source": [
        "# Make sure to add 1 to the result as `y` is one indexed while the prediction is 0 indexed.\n",
        "layer2_activation = add_bias(forward(theta_1, add_bias(X).T).T).T\n",
        "predictions = forward(theta_2, layer2_activation).T\n",
        "\n",
        "accuracy = np.mean(np.argmax(predictions, axis = 1) + 1 == y) * 100\n",
        "'Training set accuracy using the a neural network with the trained values for theta: {:2}%'.format(accuracy)"
      ],
      "execution_count": 30,
      "outputs": [
        {
          "output_type": "execute_result",
          "data": {
            "application/vnd.google.colaboratory.intrinsic+json": {
              "type": "string"
            },
            "text/plain": [
              "'Training set accuracy using the a neural network with the trained values for theta: 96.39999999999999%'"
            ]
          },
          "metadata": {
            "tags": []
          },
          "execution_count": 30
        }
      ]
    },
    {
      "cell_type": "code",
      "metadata": {
        "id": "l5rWSZ4SqOYM"
      },
      "source": [
        ""
      ],
      "execution_count": null,
      "outputs": []
    }
  ]
}