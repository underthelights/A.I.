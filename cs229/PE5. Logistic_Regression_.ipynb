{
  "nbformat": 4,
  "nbformat_minor": 0,
  "metadata": {
    "kernelspec": {
      "display_name": "Python 3",
      "language": "python",
      "name": "python3"
    },
    "language_info": {
      "codemirror_mode": {
        "name": "ipython",
        "version": 3
      },
      "file_extension": ".py",
      "mimetype": "text/x-python",
      "name": "python",
      "nbconvert_exporter": "python",
      "pygments_lexer": "ipython3",
      "version": "3.7.1"
    },
    "colab": {
      "name": "PE5 - Logistic Regression (Exercises).ipynb",
      "provenance": [],
      "collapsed_sections": [],
      "include_colab_link": true
    }
  },
  "cells": [
    {
      "cell_type": "markdown",
      "metadata": {
        "id": "view-in-github",
        "colab_type": "text"
      },
      "source": [
        "<a href=\"https://colab.research.google.com/github/underthelights/A.I./blob/main/cs229/PE5.%20Logistic_Regression_.ipynb\" target=\"_parent\"><img src=\"https://colab.research.google.com/assets/colab-badge.svg\" alt=\"Open In Colab\"/></a>"
      ]
    },
    {
      "cell_type": "markdown",
      "metadata": {
        "id": "5vSk4Ku90KBt"
      },
      "source": [
        "# Regularized Linear Regression and Bias v.s. Variance\n",
        "\n",
        "Stanford CS229 - Machine Learning by Andrew Ng. Programming exercise 5.\n",
        "\n",
        "Please check out [the repository on GitHub](https://github.com/rickwierenga/CS229-Python/). If you spot any mistakes or inconcistencies, please create an issue. For questions you can find me on Twitter: [@rickwierenga](https://twitter.com/rickwierenga). Starring the project on GitHub means a ton to me!"
      ]
    },
    {
      "cell_type": "code",
      "metadata": {
        "id": "DZ3EFFCj0KBw"
      },
      "source": [
        "import numpy as np\n",
        "import pandas as pd\n",
        "import matplotlib.pylab as plt\n",
        "from scipy.optimize import minimize\n",
        "%matplotlib inline"
      ],
      "execution_count": 31,
      "outputs": []
    },
    {
      "cell_type": "code",
      "metadata": {
        "colab": {
          "base_uri": "https://localhost:8080/"
        },
        "id": "mNRCDF-00kQs",
        "outputId": "1cc7dff5-521f-4bcf-8e38-1a4ac1cb55aa"
      },
      "source": [
        "from google.colab import drive\n",
        "drive.mount('/content/drive')"
      ],
      "execution_count": 32,
      "outputs": [
        {
          "output_type": "stream",
          "text": [
            "Drive already mounted at /content/drive; to attempt to forcibly remount, call drive.mount(\"/content/drive\", force_remount=True).\n"
          ],
          "name": "stdout"
        }
      ]
    },
    {
      "cell_type": "markdown",
      "metadata": {
        "id": "Z-lOypuK0KBw"
      },
      "source": [
        "## Regularized Linear Regression\n",
        "\n",
        "---\n",
        "In the first half of the exercise, you will implement regularized linear regres- sion to predict the amount of water flowing out of a dam using the change of water level in a reservoir. In the next half, you will go through some diag- nostics of debugging learning algorithms and examine the effects of bias v.s. variance.\n",
        "\n",
        "Start by loading the data."
      ]
    },
    {
      "cell_type": "code",
      "metadata": {
        "id": "Seat5fwP0KBx"
      },
      "source": [
        "import scipy.io as sio\n",
        "\n",
        "# Load data\n",
        "data = sio.loadmat(\"/content/drive/MyDrive/Colab Notebooks/cs229 @ Stanford/ex5/ex5data1.mat\")\n",
        "X = data[\"X\"]\n",
        "m, n = X.shape\n",
        "y = data[\"y\"].reshape(m)\n",
        "Xval = data['Xval']\n",
        "mval, nval = Xval.shape\n",
        "yval = data['yval'].reshape(mval)\n",
        "\n",
        "# Add bias to X\n",
        "X = np.hstack((np.ones((m, 1)), X))\n",
        "Xval = np.hstack((np.ones((mval, 1)), Xval))"
      ],
      "execution_count": 33,
      "outputs": []
    },
    {
      "cell_type": "markdown",
      "metadata": {
        "id": "oSp5Y_is0KBx"
      },
      "source": [
        "### Visualising the data"
      ]
    },
    {
      "cell_type": "code",
      "metadata": {
        "colab": {
          "base_uri": "https://localhost:8080/",
          "height": 296
        },
        "id": "pcsVUU0P0KBx",
        "outputId": "6c09dfc3-b18f-4a05-a4fe-a178673d3486"
      },
      "source": [
        "plt.plot(X[:, 1], y, 'rx')\n",
        "plt.xlabel('Change in water leven (x)')\n",
        "plt.ylabel('Water flowing out of the dam (y)')"
      ],
      "execution_count": 34,
      "outputs": [
        {
          "output_type": "execute_result",
          "data": {
            "text/plain": [
              "Text(0, 0.5, 'Water flowing out of the dam (y)')"
            ]
          },
          "metadata": {
            "tags": []
          },
          "execution_count": 34
        },
        {
          "output_type": "display_data",
          "data": {
            "image/png": "[encoded data removed]",
            "text/plain": [
              "<Figure size 432x288 with 1 Axes>"
            ]
          },
          "metadata": {
            "tags": [],
            "needs_background": "light"
          }
        }
      ]
    },
    {
      "cell_type": "markdown",
      "metadata": {
        "id": "JCTuBEME0KBy"
      },
      "source": [
        "Recall the cost function for regularized linear regression: \n",
        "\n",
        "$$J(\\theta) = \\frac{1}{m}(\\displaystyle\\sum_{i=1}^{m}(h_\\theta(x^{(i)}) - y^{(i)})^2) + \\frac{\\lambda}{m}\\displaystyle\\sum_{j=1}^{n}{\\theta_j}^2$$\n",
        "\n",
        "**Exercise**: Write a regularized vectorized linear regression function."
      ]
    },
    {
      "cell_type": "code",
      "metadata": {
        "id": "7vVsJ96_0KBz"
      },
      "source": [
        "\n",
        "def linear_reg_cost_function(theta, X, y, _lambda):\n",
        "    m = len(y)\n",
        "    h = X@theta\n",
        "    cost = (h-y).T @ (h-y)/(2*m)\n",
        "    regularization = _lambda*(np.sum(theta[1:]**2))/(2*m)\n",
        "    return cost + regularization"
      ],
      "execution_count": 35,
      "outputs": []
    },
    {
      "cell_type": "markdown",
      "metadata": {
        "id": "wA0lCmPG0KBz"
      },
      "source": [
        "According to the exercise, using ones for theta should return 303.993 as intial cost."
      ]
    },
    {
      "cell_type": "code",
      "metadata": {
        "colab": {
          "base_uri": "https://localhost:8080/"
        },
        "id": "6x2vqoBq0KBz",
        "outputId": "d85a9ba6-a67b-4456-a521-de52a0c3428d"
      },
      "source": [
        "initial_theta = np.ones(2)\n",
        "linear_reg_cost_function(initial_theta, X, y, _lambda=1)"
      ],
      "execution_count": 36,
      "outputs": [
        {
          "output_type": "execute_result",
          "data": {
            "text/plain": [
              "303.9931922202643"
            ]
          },
          "metadata": {
            "tags": []
          },
          "execution_count": 36
        }
      ]
    },
    {
      "cell_type": "markdown",
      "metadata": {
        "id": "uDPOtM5n0KB0"
      },
      "source": [
        "### Regularized linear regression gradient\n",
        "\n",
        "The partial derrivatives for $\\theta_j$:\n",
        "\n",
        "$$\\frac{\\delta J(\\theta)}{\\delta\\theta_j} = \\frac{1}{m}\\displaystyle\\sum_{i=1}^{m}(h_\\theta(x^{(i)}) - y^{(i)})x_i^{(i)}$$ for $j=0$\n",
        "\n",
        "$$\\frac{\\delta J(\\theta)}{\\delta\\theta_j} = (\\frac{1}{m}\\displaystyle\\sum_{i=1}^{m}(h_\\theta(x^{(i)}) - y^{(i)})x_i^{(i)}) + \\frac{\\lambda}{m}\\theta_j$$ for $j\\geqslant 1$\n",
        "\n",
        "Vectorized: \n",
        "\n",
        "$$\\frac{\\delta J(\\theta)}{\\delta\\theta_j} = \\frac{1}{m} \\cdot X^T \\cdot (X\\theta - \\vec{y}) $$\n",
        "\n",
        "**Exercise**: Find the partial derrivatives of $J(\\theta)$. Your code should not contain any loops."
      ]
    },
    {
      "cell_type": "code",
      "metadata": {
        "id": "pPr3JJI70KB0"
      },
      "source": [
        "def compute_gradient(theta, X, y, _lambda):\n",
        "    hx = X @ theta\n",
        "    cost = (1/m) * X.T @ (hx - y)\n",
        "    regularization = (_lambda/m) * np.concatenate(([0], theta[1:]))\n",
        "    return cost + regularization"
      ],
      "execution_count": 37,
      "outputs": []
    },
    {
      "cell_type": "markdown",
      "metadata": {
        "id": "Q-Gv4b6b0KB0"
      },
      "source": [
        "You should get the following values: $\\begin{bmatrix}-15.30 && 598.250 \\end{bmatrix}$."
      ]
    },
    {
      "cell_type": "code",
      "metadata": {
        "id": "J2bPk87M0KB0",
        "colab": {
          "base_uri": "https://localhost:8080/"
        },
        "outputId": "4b9c2300-5eae-408c-ae20-5b4af079fa46"
      },
      "source": [
        "compute_gradient(initial_theta, X, y, _lambda=1)"
      ],
      "execution_count": 38,
      "outputs": [
        {
          "output_type": "execute_result",
          "data": {
            "text/plain": [
              "array([-15.30301567, 598.25074417])"
            ]
          },
          "metadata": {
            "tags": []
          },
          "execution_count": 38
        }
      ]
    },
    {
      "cell_type": "markdown",
      "metadata": {
        "id": "z89E0DXi0KB1"
      },
      "source": [
        "### Training the mdoel\n",
        "Now we can train the model using `scipy.optimize.minimize`. In this implementation, we set $\\lambda$ to 0."
      ]
    },
    {
      "cell_type": "code",
      "metadata": {
        "id": "tmP5HVho0KB1",
        "colab": {
          "base_uri": "https://localhost:8080/"
        },
        "outputId": "5ae9868a-085b-4365-cd4d-9981137c8bb8"
      },
      "source": [
        "_lambda = 0\n",
        "args = (X, y, _lambda)\n",
        "result = minimize(linear_reg_cost_function, initial_theta, args=args,\n",
        "                  method='CG', jac=compute_gradient,\n",
        "                  options={'maxiter': 50, 'disp': True})\n",
        "theta = result.x\n",
        "theta"
      ],
      "execution_count": 39,
      "outputs": [
        {
          "output_type": "stream",
          "text": [
            "Optimization terminated successfully.\n",
            "         Current function value: 22.373906\n",
            "         Iterations: 18\n",
            "         Function evaluations: 28\n",
            "         Gradient evaluations: 28\n"
          ],
          "name": "stdout"
        },
        {
          "output_type": "execute_result",
          "data": {
            "text/plain": [
              "array([13.08790734,  0.36777925])"
            ]
          },
          "metadata": {
            "tags": []
          },
          "execution_count": 39
        }
      ]
    },
    {
      "cell_type": "markdown",
      "metadata": {
        "id": "Pjz0yRnI0KB1"
      },
      "source": [
        "### Visualize the found $\\theta$\n",
        "\n",
        "Althought the found value is not a good value, it's the best conjugate gradient could find using our model."
      ]
    },
    {
      "cell_type": "code",
      "metadata": {
        "id": "ixqKnAuY0KB1",
        "colab": {
          "base_uri": "https://localhost:8080/",
          "height": 279
        },
        "outputId": "a04a673c-9c8a-41f8-9586-b1635d4aa013"
      },
      "source": [
        "plt.plot(X[:,1], y, 'rx', label='Training data')\n",
        "plt.plot(X[:,1], X.dot(theta), label='Regression')\n",
        "plt.legend()\n",
        "plt.xlabel('Change in water leven (x)')\n",
        "plt.ylabel('Water flowing out of the dam (y)')\n",
        "plt.show()"
      ],
      "execution_count": 40,
      "outputs": [
        {
          "output_type": "display_data",
          "data": {
            "image/png": "[encoded data removed]",
            "text/plain": [
              "<Figure size 432x288 with 1 Axes>"
            ]
          },
          "metadata": {
            "tags": [],
            "needs_background": "light"
          }
        }
      ]
    },
    {
      "cell_type": "markdown",
      "metadata": {
        "id": "vOYs2yU50KB2"
      },
      "source": [
        "## Bias Variance\n",
        "Models with high bias are not complex enough for the data and tend to underfit, while models with high variance overfit to the training data.\n",
        "\n",
        "### Learning Curves\n",
        "You will now implement code to generate the learning curves that will be useful in debugging learning algorithms. Recall that a learning curve plots training and cross validation error as a function of training set size.\n",
        "\n",
        "This model has a high bias problem.\n",
        "\n",
        "**Exercise**: Implement the learning curve function."
      ]
    },
    {
      "cell_type": "code",
      "metadata": {
        "id": "k13_hS9u0KB2"
      },
      "source": [
        "def learning_curve(X, y, Xval, yval, _lambda):\n",
        "    \"\"\" Get the learning curves for each value of m\n",
        "    \n",
        "    Returns:\n",
        "    :error_train: The training error of the dataset until i\n",
        "    :error_val:   The error of the _entire_ cross validation set\n",
        "    \"\"\"\n",
        "    m, n = X.shape\n",
        "    error_train = np.zeros((m, 1))\n",
        "    error_val   = np.zeros((m, 1))\n",
        "    \n",
        "    for i in range(1, m+1):\n",
        "        # Get a subset of the data\n",
        "        X_ = X[:i]\n",
        "        y_ = y[:i]\n",
        "\n",
        "        # Get the trained theta and cost\n",
        "        args = (X_, y_, _lambda)\n",
        "        initial_theta = np.ones(n)\n",
        "        result = minimize(linear_reg_cost_function, initial_theta, args=args,\n",
        "                  method='CG', jac=compute_gradient,\n",
        "                  options={'maxiter': 50, 'disp': False})\n",
        "        error_train[i-1] = result.fun\n",
        "        theta = result.x\n",
        "        \n",
        "        # Get the cost for the cross-validation set\n",
        "        error_val[i-1] = linear_reg_cost_function(theta, Xval, yval, _lambda)\n",
        "    \n",
        "    return error_train, error_val"
      ],
      "execution_count": 47,
      "outputs": []
    },
    {
      "cell_type": "code",
      "metadata": {
        "id": "lJOQNtac0KB2",
        "colab": {
          "base_uri": "https://localhost:8080/",
          "height": 282
        },
        "outputId": "9976fcc1-cc61-47b0-d981-7673f82736bf"
      },
      "source": [
        "error_train, error_val = learning_curve(X, y, Xval, yval, _lambda)\n",
        "plt.plot(error_train, label='train')\n",
        "plt.plot(error_val, label='validation')\n",
        "plt.legend()"
      ],
      "execution_count": 48,
      "outputs": [
        {
          "output_type": "execute_result",
          "data": {
            "text/plain": [
              "<matplotlib.legend.Legend at 0x7f327ef5ab10>"
            ]
          },
          "metadata": {
            "tags": []
          },
          "execution_count": 48
        },
        {
          "output_type": "display_data",
          "data": {
            "image/png": "[encoded data removed]",
            "text/plain": [
              "<Figure size 432x288 with 1 Axes>"
            ]
          },
          "metadata": {
            "tags": [],
            "needs_background": "light"
          }
        }
      ]
    },
    {
      "cell_type": "markdown",
      "metadata": {
        "id": "GIf1yPAJ0KB3"
      },
      "source": [
        "## Polynomial Regression\n",
        "The problem with our linear model was that it was too simple for the data and resulted in underfitting (high bias). In this part of the exercise, you will address this problem by adding more features.\n",
        "\n",
        "**Exercise**: Implement the function that maps the original training set X of size $m \\times 1$ into its higher powers. Specifically, when a training set X of size m × 1 is passed into the function, the function should return a $m \\times p$ matrix."
      ]
    },
    {
      "cell_type": "code",
      "metadata": {
        "id": "ImN3eRk90KB3"
      },
      "source": [
        "def polynomial_features(X, p):\n",
        "    m = len(X)\n",
        "    X_poly = X\n",
        "    for i in range(2, p + 1):\n",
        "        X_poly = np.hstack((X_poly, X ** i))\n",
        "    return X_poly\n"
      ],
      "execution_count": 53,
      "outputs": []
    },
    {
      "cell_type": "markdown",
      "metadata": {
        "id": "aSoOIRmN0KB3"
      },
      "source": [
        "Remember feature scaling:\n",
        "\n",
        "$$X := \\frac{X - \\mu}{\\sigma}$$\n",
        "\n",
        "Where $\\mu$ is the average value of $X$ and $\\sigma$ is the standard deviation.\n",
        "\n",
        "**Exercise**: Implement feature scaling."
      ]
    },
    {
      "cell_type": "code",
      "metadata": {
        "id": "4-rkH17j0KB4"
      },
      "source": [
        "def scale_features(X):\n",
        "    mu = X.mean(axis=0)\n",
        "    sigma = X.std(axis=0)\n",
        "    return (X - mu) / sigma, mu, sigma"
      ],
      "execution_count": 54,
      "outputs": []
    },
    {
      "cell_type": "markdown",
      "metadata": {
        "id": "9Bh4IrMF0KB4"
      },
      "source": [
        "Add polynomial features to $X$ and normalize it."
      ]
    },
    {
      "cell_type": "code",
      "metadata": {
        "id": "QEbc3wWj0KB4"
      },
      "source": [
        "p = 8\n",
        "\n",
        "# X\n",
        "X_poly = polynomial_features(X[:, 1:], p) # ignore the bias column when adding polynomial features.\n",
        "X_poly, mu, sigma = scale_features(X_poly)\n",
        "X_poly = np.hstack((np.ones((m, 1)), X_poly))\n",
        "\n",
        "# X_val\n",
        "X_val_poly = polynomial_features(X[:, 1:], p) # ignore the bias column when adding polynomial features.\n",
        "X_val_poly = (X_val_poly - mu) / sigma\n",
        "X_val_poly = np.hstack((np.ones((m, 1)), X_val_poly))\n",
        "\n",
        "# X_test\n",
        "X_test_poly = polynomial_features(X[:, 1:], p) # ignore the bias column when adding polynomial features.\n",
        "X_test_poly = (X_test_poly - mu) / sigma\n",
        "X_test_poly = np.hstack((np.ones((m, 1)), X_test_poly))"
      ],
      "execution_count": 55,
      "outputs": []
    },
    {
      "cell_type": "markdown",
      "metadata": {
        "id": "Y8pqJ_4Z0KB4"
      },
      "source": [
        "### Learning polynomial regression\n",
        "\n",
        "This example shows the learning curve and fit without regularization (high variance)."
      ]
    },
    {
      "cell_type": "code",
      "metadata": {
        "id": "j7HPc5uR0KB4",
        "colab": {
          "base_uri": "https://localhost:8080/"
        },
        "outputId": "ae3b3930-4dad-4294-c15d-2a9724557498"
      },
      "source": [
        "_lambda = 0\n",
        "args = (X_poly, y, _lambda)\n",
        "initial_theta = np.ones(p+1)\n",
        "result = minimize(linear_reg_cost_function, initial_theta, args=args,\n",
        "                  method='CG', jac=compute_gradient,\n",
        "                  options={'maxiter': 1000, 'disp': True})\n",
        "theta = result.x"
      ],
      "execution_count": 56,
      "outputs": [
        {
          "output_type": "stream",
          "text": [
            "Optimization terminated successfully.\n",
            "         Current function value: 0.028895\n",
            "         Iterations: 711\n",
            "         Function evaluations: 1408\n",
            "         Gradient evaluations: 1408\n"
          ],
          "name": "stdout"
        }
      ]
    },
    {
      "cell_type": "code",
      "metadata": {
        "id": "YAWk5W090KB5",
        "colab": {
          "base_uri": "https://localhost:8080/",
          "height": 281
        },
        "outputId": "84c49937-420e-4f76-aecd-d868525d75dc"
      },
      "source": [
        "# Plot training data\n",
        "plt.plot(X[:,1], y, 'rx', label='Training data')\n",
        "\n",
        "# Plot polynomial fit\n",
        "space = np.array(np.arange(np.min(X) - 5, np.max(X) + 5, 0.05)).reshape((1912, 1))\n",
        "X_poly_plt = polynomial_features(space, p)\n",
        "X_poly_plt = (X_poly_plt - mu) / sigma\n",
        "X_poly_plt = np.hstack((np.ones((X_poly_plt.shape[0], 1)), X_poly_plt))\n",
        "plt.plot(space, X_poly_plt @ theta, '--', label='Polynomial fit')\n",
        "\n",
        "# Plot\n",
        "plt.legend()\n",
        "plt.xlabel('Change in water leven (x)')\n",
        "plt.ylabel('Water flowing out of the dam (y)')\n",
        "plt.show()"
      ],
      "execution_count": 57,
      "outputs": [
        {
          "output_type": "display_data",
          "data": {
            "image/png": "[encoded data removed]",
            "text/plain": [
              "<Figure size 432x288 with 1 Axes>"
            ]
          },
          "metadata": {
            "tags": [],
            "needs_background": "light"
          }
        }
      ]
    },
    {
      "cell_type": "code",
      "metadata": {
        "id": "hlJFiCde0KB5",
        "colab": {
          "base_uri": "https://localhost:8080/",
          "height": 298
        },
        "outputId": "dac6e4c3-02e3-4acf-f258-76e51b4754ae"
      },
      "source": [
        "error_train, error_val = learning_curve(X_poly, y, X_val_poly, y, _lambda)\n",
        "plt.plot(error_train, label='train')\n",
        "plt.plot(error_val, label='validation')\n",
        "plt.title('Learning curve with no regularization')\n",
        "plt.legend()"
      ],
      "execution_count": 58,
      "outputs": [
        {
          "output_type": "execute_result",
          "data": {
            "text/plain": [
              "<matplotlib.legend.Legend at 0x7f327ecbd410>"
            ]
          },
          "metadata": {
            "tags": []
          },
          "execution_count": 58
        },
        {
          "output_type": "display_data",
          "data": {
            "image/png": "[encoded data removed]",
            "text/plain": [
              "<Figure size 432x288 with 1 Axes>"
            ]
          },
          "metadata": {
            "tags": [],
            "needs_background": "light"
          }
        }
      ]
    },
    {
      "cell_type": "markdown",
      "metadata": {
        "id": "aLh_q6W_0KB5"
      },
      "source": [
        "### Adjusting the regularization parameter"
      ]
    },
    {
      "cell_type": "code",
      "metadata": {
        "id": "4JmGCesD0KB5"
      },
      "source": [
        "def plot_regularization(_lambda):\n",
        "    \"\"\" Plot the fit and learning curve for a regularization parameter _lambda \"\"\"\n",
        "    \n",
        "    # 1. Fit\n",
        "    \n",
        "    # Find theta\n",
        "    args = (X_poly, y, _lambda)\n",
        "    initial_theta = np.ones(p+1)\n",
        "    result = minimize(linear_reg_cost_function, initial_theta, args=args,\n",
        "                      method='CG', jac=compute_gradient,\n",
        "                      options={'maxiter': 1000, 'disp': False})\n",
        "    theta = result.x\n",
        "    \n",
        "    # Plot training data\n",
        "    plt.plot(X[:,1], y, 'rx', label='Training data')\n",
        "\n",
        "    # Plot polynomial fit\n",
        "    space = np.array(np.arange(np.min(X) - 5, np.max(X) + 5, 0.05)).reshape((1912, 1))\n",
        "    X_poly_plt = polynomial_features(space, p)\n",
        "    X_poly_plt = (X_poly_plt - mu) / sigma\n",
        "    X_poly_plt = np.hstack((np.ones((X_poly_plt.shape[0], 1)), X_poly_plt))\n",
        "    plt.plot(space, X_poly_plt @ theta, '--', label='Polynomial fit')\n",
        "\n",
        "    # Plot\n",
        "    plt.legend()\n",
        "    plt.xlabel('Change in water leven (x)')\n",
        "    plt.ylabel('Water flowing out of the dam (y)')\n",
        "    plt.show()\n",
        "    \n",
        "    \n",
        "    # 2. Learning curve\n",
        "    \n",
        "    # Plot learning curve\n",
        "    error_train, error_val = learning_curve(X_poly, y, X_val_poly, y, _lambda)\n",
        "    plt.plot(error_train, label='train')\n",
        "    plt.plot(error_val, label='validation')\n",
        "    plt.title('Learning curve with no regularization')\n",
        "    plt.legend()\n",
        "    \n",
        "    plt.show()"
      ],
      "execution_count": 59,
      "outputs": []
    },
    {
      "cell_type": "code",
      "metadata": {
        "id": "Rr56DQcn0KB6",
        "colab": {
          "base_uri": "https://localhost:8080/",
          "height": 543
        },
        "outputId": "7f5290cb-64d8-43d9-9cea-8a52f3f20db8"
      },
      "source": [
        "# Good regularization\n",
        "plot_regularization(1)"
      ],
      "execution_count": 60,
      "outputs": [
        {
          "output_type": "display_data",
          "data": {
            "image/png": "[encoded data removed]",
            "text/plain": [
              "<Figure size 432x288 with 1 Axes>"
            ]
          },
          "metadata": {
            "tags": [],
            "needs_background": "light"
          }
        },
        {
          "output_type": "display_data",
          "data": {
            "image/png": "[encoded data removed]",
            "text/plain": [
              "<Figure size 432x288 with 1 Axes>"
            ]
          },
          "metadata": {
            "tags": [],
            "needs_background": "light"
          }
        }
      ]
    },
    {
      "cell_type": "code",
      "metadata": {
        "id": "gOPzpYHC0KB6",
        "colab": {
          "base_uri": "https://localhost:8080/",
          "height": 543
        },
        "outputId": "7ba42714-64f8-4a3b-dde4-f080b77679fd"
      },
      "source": [
        "# (Way) too much regularization\n",
        "plot_regularization(100)"
      ],
      "execution_count": 61,
      "outputs": [
        {
          "output_type": "display_data",
          "data": {
            "image/png": "[encoded data removed]",
            "text/plain": [
              "<Figure size 432x288 with 1 Axes>"
            ]
          },
          "metadata": {
            "tags": [],
            "needs_background": "light"
          }
        },
        {
          "output_type": "display_data",
          "data": {
            "image/png": "[encoded data removed]",
            "text/plain": [
              "<Figure size 432x288 with 1 Axes>"
            ]
          },
          "metadata": {
            "tags": [],
            "needs_background": "light"
          }
        }
      ]
    },
    {
      "cell_type": "code",
      "metadata": {
        "id": "xVwzwOAT0KB6"
      },
      "source": [
        ""
      ],
      "execution_count": 61,
      "outputs": []
    }
  ]
}