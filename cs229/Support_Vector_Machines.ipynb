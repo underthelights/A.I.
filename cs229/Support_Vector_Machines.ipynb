{
  "nbformat": 4,
  "nbformat_minor": 0,
  "metadata": {
    "kernelspec": {
      "display_name": "Python 3",
      "language": "python",
      "name": "python3"
    },
    "language_info": {
      "codemirror_mode": {
        "name": "ipython",
        "version": 3
      },
      "file_extension": ".py",
      "mimetype": "text/x-python",
      "name": "python",
      "nbconvert_exporter": "python",
      "pygments_lexer": "ipython3",
      "version": "3.7.1"
    },
    "colab": {
      "name": "Support Vector Machines (Exercises).ipynb",
      "provenance": [],
      "include_colab_link": true
    }
  },
  "cells": [
    {
      "cell_type": "markdown",
      "metadata": {
        "id": "view-in-github",
        "colab_type": "text"
      },
      "source": [
        "<a href=\"https://colab.research.google.com/github/underthelights/A.I./blob/main/cs229/Support_Vector_Machines.ipynb\" target=\"_parent\"><img src=\"https://colab.research.google.com/assets/colab-badge.svg\" alt=\"Open In Colab\"/></a>"
      ]
    },
    {
      "cell_type": "markdown",
      "metadata": {
        "id": "51BM-A-CI_NR"
      },
      "source": [
        "# Support Vector Machines\n",
        "\n",
        "Stanford CS229 - Machine Learning by Andrew Ng. Programming exercise 6.\n",
        "\n",
        "Please check out [the repository on GitHub](https://github.com/rickwierenga/CS229-Python/). If you spot any mistakes or inconcistencies, please create an issue. For questions you can find me on Twitter: [@rickwierenga](https://twitter.com/rickwierenga). Starring the project on GitHub means a ton to me!"
      ]
    },
    {
      "cell_type": "code",
      "metadata": {
        "id": "ksBlaiLdI_NU"
      },
      "source": [
        "import numpy as np\n",
        "import pandas as pd\n",
        "import matplotlib.pylab as plt\n",
        "import scipy.io as sio\n",
        "%matplotlib inline"
      ],
      "execution_count": 1,
      "outputs": []
    },
    {
      "cell_type": "code",
      "metadata": {
        "colab": {
          "base_uri": "https://localhost:8080/"
        },
        "id": "p-lcqzjFJFKL",
        "outputId": "b5a6d001-49cb-44d1-c86b-449d0692dcdb"
      },
      "source": [
        "from google.colab import drive\n",
        "drive.mount('/content/drive')"
      ],
      "execution_count": 2,
      "outputs": [
        {
          "output_type": "stream",
          "text": [
            "Mounted at /content/drive\n"
          ],
          "name": "stdout"
        }
      ]
    },
    {
      "cell_type": "markdown",
      "metadata": {
        "id": "iC_p2R6NI_NU"
      },
      "source": [
        "You should use a support vector machine when "
      ]
    },
    {
      "cell_type": "markdown",
      "metadata": {
        "id": "8LDjIiSyI_NV"
      },
      "source": [
        "## Support Vector Machines\n",
        "---\n",
        "In the first half of this exercise, you will be using support vector machines (SVMs) with various example 2D datasets. Experimenting with these datasets will help you gain an intuition of how SVMs work and how to use a Gaussian kernel with SVMs. In the next half of the exercise, you will be using support vector machines to build a spam classifier."
      ]
    },
    {
      "cell_type": "code",
      "metadata": {
        "id": "A57t8ei2I_NV"
      },
      "source": [
        "# Load data\n",
        "data = sio.loadmat(\"/content/drive/MyDrive/Colab Notebooks/cs229 @ Stanford/ex6/ex6data1.mat\")\n",
        "X = data[\"X\"]\n",
        "y = data[\"y\"].flatten()"
      ],
      "execution_count": 3,
      "outputs": []
    },
    {
      "cell_type": "markdown",
      "metadata": {
        "id": "h2AXebcMI_NV"
      },
      "source": [
        "### Visualising the data"
      ]
    },
    {
      "cell_type": "code",
      "metadata": {
        "colab": {
          "base_uri": "https://localhost:8080/",
          "height": 282
        },
        "id": "3PB7lRgnI_NV",
        "outputId": "ae1eb231-23a1-47a7-fc98-57bdab53f37a"
      },
      "source": [
        "pos = np.where(y==1)[0]\n",
        "neg = np.where(y==0)[0]\n",
        "\n",
        "plt.plot(X[pos, 0], X[pos, 1], 'bx')\n",
        "plt.plot(X[neg, 0], X[neg, 1], 'yo')"
      ],
      "execution_count": 4,
      "outputs": [
        {
          "output_type": "execute_result",
          "data": {
            "text/plain": [
              "[<matplotlib.lines.Line2D at 0x7f2978871ed0>]"
            ]
          },
          "metadata": {
            "tags": []
          },
          "execution_count": 4
        },
        {
          "output_type": "display_data",
          "data": {
            "image/png": "[encoded data removed]",
            "text/plain": [
              "<Figure size 432x288 with 1 Axes>"
            ]
          },
          "metadata": {
            "tags": [],
            "needs_background": "light"
          }
        }
      ]
    },
    {
      "cell_type": "markdown",
      "metadata": {
        "id": "dYqjqko1I_NX"
      },
      "source": [
        "### Training  a linear SVM\n",
        "Remember: high variance = overfit, high bias = underfit.\n",
        "\n",
        "$C$ is the regularization parameter for SVMs where $\\lambda$ was the regularization parameter for logistic regression.\n",
        "\n",
        "$$C = \\frac{1}{\\lambda}$$\n",
        "\n",
        "Training an SVM in Python can be done using `SciKit Learn`. How this works internally, is beyond the scope of these notebooks."
      ]
    },
    {
      "cell_type": "code",
      "metadata": {
        "id": "GHFalq4PI_NX"
      },
      "source": [
        "from sklearn.svm import SVC"
      ],
      "execution_count": 5,
      "outputs": []
    },
    {
      "cell_type": "code",
      "metadata": {
        "id": "M_3cbeMfI_NX"
      },
      "source": [
        "def train_svm(X, y, **params):\n",
        "    \"\"\" Train an SVM with data X, y and regularization parameter C \"\"\"\n",
        "    \n",
        "    model = SVC(**params)\n",
        "    clf = model.fit(X, y)\n",
        "    return clf"
      ],
      "execution_count": 6,
      "outputs": []
    },
    {
      "cell_type": "code",
      "metadata": {
        "id": "YbTwBvUUI_NY"
      },
      "source": [
        "def plot_svm_decision_boundary(clf):\n",
        "    \"\"\" Plot the decision boundary for an SVM \"\"\"\n",
        "    w = clf.coef_[0]\n",
        "    a = -w[0] / w[1]\n",
        "\n",
        "    xp = np.array(np.linspace(np.min(X[:, 0]), np.max(X[:, 0]), 100))\n",
        "    yp = a * xp - (clf.intercept_[0]) / w[1]\n",
        "    plt.plot(xp, yp, '-k')\n",
        "    plt.plot(X[pos, 0], X[pos, 1], 'bx')\n",
        "    plt.plot(X[neg, 0], X[neg, 1], 'yo')"
      ],
      "execution_count": 7,
      "outputs": []
    },
    {
      "cell_type": "code",
      "metadata": {
        "colab": {
          "base_uri": "https://localhost:8080/",
          "height": 265
        },
        "id": "SEXN5nX5I_NY",
        "outputId": "a4e1218b-6f0f-4f09-a0a8-fbd305b9f2e3"
      },
      "source": [
        "# Decision boundary with C=1. Notice that one example is not classified correctly.\n",
        "clf = train_svm(X, y, kernel='linear')\n",
        "plot_svm_decision_boundary(clf)"
      ],
      "execution_count": 8,
      "outputs": [
        {
          "output_type": "display_data",
          "data": {
            "image/png": "[encoded data removed]",
            "text/plain": [
              "<Figure size 432x288 with 1 Axes>"
            ]
          },
          "metadata": {
            "tags": [],
            "needs_background": "light"
          }
        }
      ]
    },
    {
      "cell_type": "code",
      "metadata": {
        "colab": {
          "base_uri": "https://localhost:8080/",
          "height": 282
        },
        "id": "7q--EPcXI_NY",
        "outputId": "550ebe90-57ad-4939-d44d-a3c3b24c8806"
      },
      "source": [
        "# Decision boundary with C=100. All examples are classified correctly but the boundary does not seem a natural fit.\n",
        "clf = train_svm(X, y, C=100, kernel='linear')\n",
        "print(clf.predict(X[0].reshape(1, 2)), X.shape, y.shape)\n",
        "plot_svm_decision_boundary(clf)"
      ],
      "execution_count": 9,
      "outputs": [
        {
          "output_type": "stream",
          "text": [
            "[1] (51, 2) (51,)\n"
          ],
          "name": "stdout"
        },
        {
          "output_type": "display_data",
          "data": {
            "image/png": "[encoded data removed]",
            "text/plain": [
              "<Figure size 432x288 with 1 Axes>"
            ]
          },
          "metadata": {
            "tags": [],
            "needs_background": "light"
          }
        }
      ]
    },
    {
      "cell_type": "markdown",
      "metadata": {
        "id": "AZ596stBI_NZ"
      },
      "source": [
        "## SVM with Gaussian Kernels\n",
        "---\n",
        "To find non-linear decision boundaries with the SVM, we need to first im- plement a Gaussian kernel. You can think of the Gaussian kernel as a sim- ilarity function that measures the “distance” between a pair of examples, $(x^{(i)},x^{(j)})$. The Gaussian kernel is also parameterized by a bandwidth parameter, $\\sigma$, which determines how fast the similarity metric decreases (to 0) as the examples are further apart.\n",
        "\n",
        "The Gaussian Kernel is defined as:\n",
        "\n",
        "$$K_{gaussian}(x^{(i)}, x^{(j)}) = \\exp\\left(-\\frac{\\left\\lVert x^{(i)} - x^{(j)} \\right\\rVert ^ 2}{2\\sigma^2}\\right) = \\exp\\left(-\\frac{\\displaystyle\\sum_{k=1}^{n}(x_k^{(i)} - x_k^{(j)})^2}{2\\sigma^2}\\right)$$.\n",
        "\n",
        "**Exercise**: Implement the Gaussian kernal function."
      ]
    },
    {
      "cell_type": "code",
      "metadata": {
        "id": "H3FdVMRWI_NZ"
      },
      "source": [
        "from sklearn.metrics.pairwise import euclidean_distances\n",
        "\n",
        "def gaussian_wrapper(sigma):\n",
        "    def gaussian_kernel(x1, x2):\n",
        "        d = euclidean_distances(x1, x2,squared=True)\n",
        "        # Placeholder. Remove this line.\n",
        "        return np.exp(-(d)/(2*np.square(sigma)))\n",
        "    \n",
        "    return gaussian_kernel"
      ],
      "execution_count": 16,
      "outputs": []
    },
    {
      "cell_type": "markdown",
      "metadata": {
        "id": "lrR8KmRII_NZ"
      },
      "source": [
        "The following code should return approximately $0.324652$."
      ]
    },
    {
      "cell_type": "code",
      "metadata": {
        "colab": {
          "base_uri": "https://localhost:8080/"
        },
        "id": "FIU4pQtxI_NZ",
        "outputId": "0c5ebf0f-f6aa-4096-94c1-5695ec1d6578"
      },
      "source": [
        "x1 = np.array([[1, 2, 1]])\n",
        "x2 = np.array([[0, 4, -1]])\n",
        "gaussian_wrapper(2)(x1, x2)"
      ],
      "execution_count": 17,
      "outputs": [
        {
          "output_type": "execute_result",
          "data": {
            "text/plain": [
              "array([[0.32465247]])"
            ]
          },
          "metadata": {
            "tags": []
          },
          "execution_count": 17
        }
      ]
    },
    {
      "cell_type": "markdown",
      "metadata": {
        "id": "ic7wBYFTI_Na"
      },
      "source": [
        "### Dataset 2"
      ]
    },
    {
      "cell_type": "code",
      "metadata": {
        "id": "RrFa4mC9I_Na"
      },
      "source": [
        "data = sio.loadmat(\"/content/drive/MyDrive/Colab Notebooks/cs229 @ Stanford/ex6/ex6data2.mat\")\n",
        "X = data[\"X\"]\n",
        "y = data[\"y\"].flatten()"
      ],
      "execution_count": 18,
      "outputs": []
    },
    {
      "cell_type": "code",
      "metadata": {
        "colab": {
          "base_uri": "https://localhost:8080/",
          "height": 282
        },
        "id": "JR7y-IKRI_Na",
        "outputId": "f2ea05e2-1b3a-45f5-f6db-ff62eebb4b3c"
      },
      "source": [
        "pos = np.where(y==1)[0]\n",
        "neg = np.where(y==0)[0]\n",
        "\n",
        "plt.plot(X[pos, 0], X[pos, 1], 'bx')\n",
        "plt.plot(X[neg, 0], X[neg, 1], 'yo')"
      ],
      "execution_count": 19,
      "outputs": [
        {
          "output_type": "execute_result",
          "data": {
            "text/plain": [
              "[<matplotlib.lines.Line2D at 0x7f2964cf07d0>]"
            ]
          },
          "metadata": {
            "tags": []
          },
          "execution_count": 19
        },
        {
          "output_type": "display_data",
          "data": {
            "image/png": "[encoded data removed]",
            "text/plain": [
              "<Figure size 432x288 with 1 Axes>"
            ]
          },
          "metadata": {
            "tags": [],
            "needs_background": "light"
          }
        }
      ]
    },
    {
      "cell_type": "code",
      "metadata": {
        "colab": {
          "base_uri": "https://localhost:8080/"
        },
        "id": "621yDAmDI_Na",
        "outputId": "d0155a3c-4790-404a-ee7a-46b70a2c6dbf"
      },
      "source": [
        "clf = SVC(C=1, kernel = gaussian_wrapper(0.1))\n",
        "clf.fit(X, y)"
      ],
      "execution_count": 20,
      "outputs": [
        {
          "output_type": "execute_result",
          "data": {
            "text/plain": [
              "SVC(C=1, break_ties=False, cache_size=200, class_weight=None, coef0=0.0,\n",
              "    decision_function_shape='ovr', degree=3, gamma='scale',\n",
              "    kernel=<function gaussian_wrapper.<locals>.gaussian_kernel at 0x7f2964cad050>,\n",
              "    max_iter=-1, probability=False, random_state=None, shrinking=True,\n",
              "    tol=0.001, verbose=False)"
            ]
          },
          "metadata": {
            "tags": []
          },
          "execution_count": 20
        }
      ]
    },
    {
      "cell_type": "code",
      "metadata": {
        "colab": {
          "base_uri": "https://localhost:8080/",
          "height": 282
        },
        "id": "qhp3gR_XI_Na",
        "outputId": "6a7ebea4-e882-4244-e5ce-7ef39c8a7f2d"
      },
      "source": [
        "xp1 = np.array(np.linspace(np.min(X[:, 0]), np.max(X[:, 0]), 200))\n",
        "xp2 = np.array(np.linspace(np.min(X[:, 1]), np.max(X[:, 1]), 200))\n",
        "xp1_mesh, xp2_mesh = np.meshgrid(xp1, xp2)\n",
        "grid = np.array(list(zip(xp1_mesh.flatten(), xp2_mesh.flatten())))\n",
        "prediction_grid = clf.predict(grid).reshape((200, 200))\n",
        "plt.contour(xp1, xp2, prediction_grid)\n",
        "plt.plot(X[pos, 0], X[pos, 1], 'bx')\n",
        "plt.plot(X[neg, 0], X[neg, 1], 'yo')"
      ],
      "execution_count": 21,
      "outputs": [
        {
          "output_type": "execute_result",
          "data": {
            "text/plain": [
              "[<matplotlib.lines.Line2D at 0x7f295bf4f710>]"
            ]
          },
          "metadata": {
            "tags": []
          },
          "execution_count": 21
        },
        {
          "output_type": "display_data",
          "data": {
            "image/png": "[encoded data removed]",
            "text/plain": [
              "<Figure size 432x288 with 1 Axes>"
            ]
          },
          "metadata": {
            "tags": [],
            "needs_background": "light"
          }
        }
      ]
    },
    {
      "cell_type": "markdown",
      "metadata": {
        "id": "-q7IzMe0I_Nb"
      },
      "source": [
        "### Dataset 3"
      ]
    },
    {
      "cell_type": "code",
      "metadata": {
        "id": "cMgimoX5I_Nb"
      },
      "source": [
        "data = sio.loadmat(\"/content/drive/MyDrive/Colab Notebooks/cs229 @ Stanford/ex6/ex6data3.mat\")\n",
        "X = data[\"X\"]\n",
        "y = data[\"y\"].flatten()"
      ],
      "execution_count": 24,
      "outputs": []
    },
    {
      "cell_type": "code",
      "metadata": {
        "id": "137qvf3tI_Nb"
      },
      "source": [
        "pos = np.where(y==1)[0]\n",
        "neg = np.where(y==0)[0]"
      ],
      "execution_count": 25,
      "outputs": []
    },
    {
      "cell_type": "code",
      "metadata": {
        "colab": {
          "base_uri": "https://localhost:8080/"
        },
        "id": "fFy2mojZI_Nb",
        "outputId": "4fd7683b-31a9-47ca-976a-e0a1dce7bd26"
      },
      "source": [
        "clf = SVC(C=2, kernel = gaussian_wrapper(0.1))\n",
        "clf.fit(X, y)"
      ],
      "execution_count": 26,
      "outputs": [
        {
          "output_type": "execute_result",
          "data": {
            "text/plain": [
              "SVC(C=2, break_ties=False, cache_size=200, class_weight=None, coef0=0.0,\n",
              "    decision_function_shape='ovr', degree=3, gamma='scale',\n",
              "    kernel=<function gaussian_wrapper.<locals>.gaussian_kernel at 0x7f295bf7f7a0>,\n",
              "    max_iter=-1, probability=False, random_state=None, shrinking=True,\n",
              "    tol=0.001, verbose=False)"
            ]
          },
          "metadata": {
            "tags": []
          },
          "execution_count": 26
        }
      ]
    },
    {
      "cell_type": "code",
      "metadata": {
        "colab": {
          "base_uri": "https://localhost:8080/",
          "height": 282
        },
        "id": "yigeuVsmI_Nb",
        "outputId": "58684c55-9048-4886-d56b-0ae8b66652a8"
      },
      "source": [
        "xp1 = np.array(np.linspace(np.min(X[:, 0]), np.max(X[:, 0]), 200))\n",
        "xp2 = np.array(np.linspace(np.min(X[:, 1]), np.max(X[:, 1]), 200))\n",
        "xp1_mesh, xp2_mesh = np.meshgrid(xp1, xp2)\n",
        "grid = np.array(list(zip(xp1_mesh.flatten(), xp2_mesh.flatten())))\n",
        "prediction_grid = clf.predict(grid).reshape((200, 200))\n",
        "plt.contour(xp1, xp2, prediction_grid)\n",
        "plt.plot(X[pos, 0], X[pos, 1], 'bx')\n",
        "plt.plot(X[neg, 0], X[neg, 1], 'yo')"
      ],
      "execution_count": 27,
      "outputs": [
        {
          "output_type": "execute_result",
          "data": {
            "text/plain": [
              "[<matplotlib.lines.Line2D at 0x7f295bc4b2d0>]"
            ]
          },
          "metadata": {
            "tags": []
          },
          "execution_count": 27
        },
        {
          "output_type": "display_data",
          "data": {
            "image/png": "[encoded data removed]",
            "text/plain": [
              "<Figure size 432x288 with 1 Axes>"
            ]
          },
          "metadata": {
            "tags": [],
            "needs_background": "light"
          }
        }
      ]
    },
    {
      "cell_type": "markdown",
      "metadata": {
        "id": "Fg652NyqI_Nc"
      },
      "source": [
        "## Spam Classification\n",
        "---\n",
        "Many email services today provide spam filters that are able to classify emails into spam and non-spam email with high accuracy. In this part of the exercise, you will use SVMs to build your own spam filter.\n",
        "\n",
        "You will be training a classifier to classify whether a given email, x, is spam ($y = 1$) or non-spam ($y = 0$). In particular, you need to convert each email into a feature vector $x \\in \\mathbb{R}^n$. The following parts of the exercise will walk you through how such a feature vector can be constructed from an email.\n",
        "\n",
        "### Strategy\n",
        "Before starting on a machine learning task, it is usually insightful to take a look at examples from the dataset. Figure 8 shows a sample email that contains a URL, an email address (at the end), numbers, and dollar amounts. While many emails would contain similar types of entities (e.g., numbers, other URLs, or other email addresses), the specific entities (e.g., the specific URL or specific dollar amount) will be different in almost every email. Therefore, one method often employed in processing emails is to “normalize” these values, so that all URLs are treated the same, all numbers are treated the same, etc. For example, we could replace each URL in the email with the unique string “httpaddr” to indicate that a URL was present.\n",
        "\n",
        "This has the effect of letting the spam classifier make a classification decision based on whether any URL was present, rather than whether a specific URL was present. This typically improves the performance of a spam classifier, since spammers often randomize the URLs, and thus the odds of seeing any particular URL again in a new piece of spam is very small.\n",
        "\n",
        "### Preprocessing\n",
        "In `process_email.py`, I have implemented the following email preprocessing and normalization steps:\n",
        "- Lower-casing: The entire email is converted into lower case, so that captialization is ignored (e.g., IndIcaTE is treated the same as indicate).\n",
        "- Stripping HTML: All HTML tags are removed from the emails. Many emails often come with HTML formatting; we remove all the HTML tags, so that only the content remains.\n",
        "- Normalizing URLs: All URLs are replaced with the text “httpaddr”.\n",
        "- Normalizing Email Addresses: All email addresses are replaced\n",
        "with the text “emailaddr”.\n",
        "- Normalizing Numbers: All numbers are replaced with the text\n",
        "“number”.\n",
        "- Normalizing Dollars: All dollar signs ($) are replaced with the text\n",
        "“dollar”.\n",
        "- Word Stemming: Words are reduced to their stemmed form. For example, “discount”, “discounts”, “discounted” and “discounting” are all replaced with “discount”. Sometimes, the Stemmer actually strips off additional characters from the end, so “include”, “includes”, “included”, and “including” are all replaced with “includ”.\n",
        "- Removal of non-words: Non-words and punctuation have been removed. All white spaces (tabs, newlines, spaces) have all been trimmed to a single space character."
      ]
    },
    {
      "cell_type": "code",
      "metadata": {
        "colab": {
          "base_uri": "https://localhost:8080/"
        },
        "id": "E8Ovkad6I_Nd",
        "outputId": "b000d01a-cc8f-4de0-9e03-3b56a097d5dc"
      },
      "source": [
        "!pip install process_email"
      ],
      "execution_count": 30,
      "outputs": [
        {
          "output_type": "stream",
          "text": [
            "\u001b[31mERROR: Could not find a version that satisfies the requirement process_email (from versions: none)\u001b[0m\n",
            "\u001b[31mERROR: No matching distribution found for process_email\u001b[0m\n"
          ],
          "name": "stdout"
        }
      ]
    },
    {
      "cell_type": "code",
      "metadata": {
        "colab": {
          "base_uri": "https://localhost:8080/",
          "height": 367
        },
        "id": "rNhw_WawLJWF",
        "outputId": "351a032b-de34-4e44-ba51-65f682e53844"
      },
      "source": [
        "from process_email import *\n",
        "\n",
        "# Demo of the process_email function. \n",
        "# Note: the indexes are all one lower than the exercise, because Python is 0-indexed where Octave is 1-indexed.\n",
        "with open('/content/drive/MyDrive/Colab Notebooks/cs229 @ Stanford/ex6/emailSample1.txt', 'r') as email:\n",
        "    email_contents = email.read()\n",
        "    tokens = process_email(email_contents)\n",
        "    print(tokens)"
      ],
      "execution_count": 32,
      "outputs": [
        {
          "output_type": "error",
          "ename": "ModuleNotFoundError",
          "evalue": "ignored",
          "traceback": [
            "\u001b[0;31m---------------------------------------------------------------------------\u001b[0m",
            "\u001b[0;31mModuleNotFoundError\u001b[0m                       Traceback (most recent call last)",
            "\u001b[0;32m<ipython-input-32-96cbcc50a622>\u001b[0m in \u001b[0;36m<module>\u001b[0;34m()\u001b[0m\n\u001b[0;32m----> 1\u001b[0;31m \u001b[0;32mfrom\u001b[0m \u001b[0mprocess_email\u001b[0m \u001b[0;32mimport\u001b[0m \u001b[0;34m*\u001b[0m\u001b[0;34m\u001b[0m\u001b[0;34m\u001b[0m\u001b[0m\n\u001b[0m\u001b[1;32m      2\u001b[0m \u001b[0;34m\u001b[0m\u001b[0m\n\u001b[1;32m      3\u001b[0m \u001b[0;31m# Demo of the process_email function.\u001b[0m\u001b[0;34m\u001b[0m\u001b[0;34m\u001b[0m\u001b[0;34m\u001b[0m\u001b[0m\n\u001b[1;32m      4\u001b[0m \u001b[0;31m# Note: the indexes are all one lower than the exercise, because Python is 0-indexed where Octave is 1-indexed.\u001b[0m\u001b[0;34m\u001b[0m\u001b[0;34m\u001b[0m\u001b[0;34m\u001b[0m\u001b[0m\n\u001b[1;32m      5\u001b[0m \u001b[0;32mwith\u001b[0m \u001b[0mopen\u001b[0m\u001b[0;34m(\u001b[0m\u001b[0;34m'/content/drive/MyDrive/Colab Notebooks/cs229 @ Stanford/ex6/emailSample1.txt'\u001b[0m\u001b[0;34m,\u001b[0m \u001b[0;34m'r'\u001b[0m\u001b[0;34m)\u001b[0m \u001b[0;32mas\u001b[0m \u001b[0memail\u001b[0m\u001b[0;34m:\u001b[0m\u001b[0;34m\u001b[0m\u001b[0;34m\u001b[0m\u001b[0m\n",
            "\u001b[0;31mModuleNotFoundError\u001b[0m: No module named 'process_email'",
            "",
            "\u001b[0;31m---------------------------------------------------------------------------\u001b[0;32m\nNOTE: If your import is failing due to a missing package, you can\nmanually install dependencies using either !pip or !apt.\n\nTo view examples of installing some common dependencies, click the\n\"Open Examples\" button below.\n\u001b[0;31m---------------------------------------------------------------------------\u001b[0m\n"
          ]
        }
      ]
    },
    {
      "cell_type": "markdown",
      "metadata": {
        "id": "7QhMloVaI_Nd"
      },
      "source": [
        "You will now implement the feature extraction that converts each email into a vector in $\\mathbb{R}^n$. For this exercise, you will be using $n = \\#$ words in vocabulary list. Specifically, the feature $x_i \\in \\{0, 1\\}$ for an email corresponds to whether the i-th word in the dictionary occurs in the email. That is, $x_i = 1$ if the i-th word is in the email and $x_i = 0$ if the i-th word is not present in the email.\n",
        "Thus, for a typical email, this feature would look like:\n",
        "$$\n",
        "x = \\begin{bmatrix}\n",
        "0 \\\\\n",
        "\\vdots \\\\\n",
        "1 \\\\\n",
        "0 \\\\\n",
        "\\vdots \\\\\n",
        "1 \\\\\n",
        "0 \\\\\n",
        "\\vdots \\\\\n",
        "0\n",
        "\\end{bmatrix} \\in \\mathbb{R}^n\n",
        "$$.\n",
        "\n",
        "**Exercise**: Implement `extract_features`."
      ]
    },
    {
      "cell_type": "code",
      "metadata": {
        "id": "sq9i9_xGI_Nd"
      },
      "source": [
        "def extract_features(tokens):\n",
        "    return np.zeros((1899, 1))"
      ],
      "execution_count": 33,
      "outputs": []
    },
    {
      "cell_type": "markdown",
      "metadata": {
        "id": "ftZUUt34I_Nd"
      },
      "source": [
        "The following code should return 45."
      ]
    },
    {
      "cell_type": "code",
      "metadata": {
        "colab": {
          "base_uri": "https://localhost:8080/",
          "height": 180
        },
        "id": "YY1e839_I_Ne",
        "outputId": "305cd135-b584-44b5-f74d-c468b69d889b"
      },
      "source": [
        "features = extract_features(tokens)\n",
        "np.count_nonzero(features)"
      ],
      "execution_count": 34,
      "outputs": [
        {
          "output_type": "error",
          "ename": "NameError",
          "evalue": "ignored",
          "traceback": [
            "\u001b[0;31m---------------------------------------------------------------------------\u001b[0m",
            "\u001b[0;31mNameError\u001b[0m                                 Traceback (most recent call last)",
            "\u001b[0;32m<ipython-input-34-be83095d021e>\u001b[0m in \u001b[0;36m<module>\u001b[0;34m()\u001b[0m\n\u001b[0;32m----> 1\u001b[0;31m \u001b[0mfeatures\u001b[0m \u001b[0;34m=\u001b[0m \u001b[0mextract_features\u001b[0m\u001b[0;34m(\u001b[0m\u001b[0mtokens\u001b[0m\u001b[0;34m)\u001b[0m\u001b[0;34m\u001b[0m\u001b[0;34m\u001b[0m\u001b[0m\n\u001b[0m\u001b[1;32m      2\u001b[0m \u001b[0mnp\u001b[0m\u001b[0;34m.\u001b[0m\u001b[0mcount_nonzero\u001b[0m\u001b[0;34m(\u001b[0m\u001b[0mfeatures\u001b[0m\u001b[0;34m)\u001b[0m\u001b[0;34m\u001b[0m\u001b[0;34m\u001b[0m\u001b[0m\n",
            "\u001b[0;31mNameError\u001b[0m: name 'tokens' is not defined"
          ]
        }
      ]
    },
    {
      "cell_type": "markdown",
      "metadata": {
        "id": "-XOWBy-VI_Ne"
      },
      "source": [
        "### Training an SVM for spam classification"
      ]
    },
    {
      "cell_type": "code",
      "metadata": {
        "id": "rRfGZnmpI_Ne"
      },
      "source": [
        "training_data = sio.loadmat(\"spamTrain.mat\")\n",
        "X = training_data[\"X\"]\n",
        "y = training_data[\"y\"].flatten()"
      ],
      "execution_count": null,
      "outputs": []
    },
    {
      "cell_type": "code",
      "metadata": {
        "id": "Trr-S5P3I_Ne"
      },
      "source": [
        "spam_predictor = SVC(C=0.1, kernel='linear')\n",
        "spam_predictor.fit(X, y)"
      ],
      "execution_count": null,
      "outputs": []
    },
    {
      "cell_type": "code",
      "metadata": {
        "id": "bV1wD5BTI_Ne"
      },
      "source": [
        "predictions = spam_predictor.predict(X)\n",
        "'Training accuracy: {:2f}%'.format(np.mean(predictions == y) * 100)"
      ],
      "execution_count": null,
      "outputs": []
    },
    {
      "cell_type": "code",
      "metadata": {
        "id": "TrI9m_CCI_Nf"
      },
      "source": [
        "testing_data = sio.loadmat(\"spamTest.mat\")\n",
        "X_test = testing_data[\"Xtest\"]\n",
        "y_test = testing_data[\"ytest\"].flatten()\n",
        "\n",
        "predictions = spam_predictor.predict(X_test)\n",
        "'Test accuracy: {:2f}%'.format(np.mean(predictions == y_test) * 100)"
      ],
      "execution_count": null,
      "outputs": []
    },
    {
      "cell_type": "markdown",
      "metadata": {
        "id": "UDVbGuJLI_Nf"
      },
      "source": [
        "### Top predictors\n",
        "\n",
        "To better understand how the spam classifier works, we can inspect the parameters to see which words the classifier thinks are the most predictive of spam."
      ]
    },
    {
      "cell_type": "code",
      "metadata": {
        "scrolled": true,
        "id": "KAIE_UGVI_Nf"
      },
      "source": [
        "weights = spam_predictor.coef_[0]\n",
        "df = pd.DataFrame({'vocabulary': vocabulary, 'weights': weights})\n",
        "df.sort_values(by='weights', ascending = False).head()"
      ],
      "execution_count": null,
      "outputs": []
    }
  ]
}