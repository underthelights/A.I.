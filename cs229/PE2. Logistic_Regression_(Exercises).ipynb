{
  "nbformat": 4,
  "nbformat_minor": 0,
  "metadata": {
    "kernelspec": {
      "display_name": "Python 3",
      "language": "python",
      "name": "python3"
    },
    "language_info": {
      "codemirror_mode": {
        "name": "ipython",
        "version": 3
      },
      "file_extension": ".py",
      "mimetype": "text/x-python",
      "name": "python",
      "nbconvert_exporter": "python",
      "pygments_lexer": "ipython3",
      "version": "3.7.1"
    },
    "colab": {
      "name": "PE2 - Logistic Regression (Exercises).ipynb",
      "provenance": [],
      "collapsed_sections": [],
      "include_colab_link": true
    }
  },
  "cells": [
    {
      "cell_type": "markdown",
      "metadata": {
        "id": "view-in-github",
        "colab_type": "text"
      },
      "source": [
        "<a href=\"https://colab.research.google.com/github/underthelights/A.I./blob/main/cs229/PE2.%20Logistic_Regression_(Exercises).ipynb\" target=\"_parent\"><img src=\"https://colab.research.google.com/assets/colab-badge.svg\" alt=\"Open In Colab\"/></a>"
      ]
    },
    {
      "cell_type": "markdown",
      "metadata": {
        "id": "rZj36sqK2F67"
      },
      "source": [
        "# Linear Regression\n",
        "\n",
        "Stanford CS229 - Machine Learning by Andrew Ng. Programming exercise 2 with solutions.\n",
        "\n",
        "Please check out [the repository on GitHub](https://github.com/rickwierenga/CS229-Python/). If you spot any mistakes or inconcistencies, please create an issue. For questions you can find me on Twitter: [@rickwierenga](https://twitter.com/rickwierenga). Starring the project on GitHub means a ton to me!"
      ]
    },
    {
      "cell_type": "code",
      "metadata": {
        "id": "UKpHuFvp2F7B"
      },
      "source": [
        "import numpy as np\n",
        "import pandas as pd\n",
        "import matplotlib.pylab as plt\n",
        "%matplotlib inline"
      ],
      "execution_count": 12,
      "outputs": []
    },
    {
      "cell_type": "markdown",
      "metadata": {
        "id": "UtoC6yF92F7C"
      },
      "source": [
        "## Logistic Regression\n",
        "\n",
        "---\n",
        "Logistic regression is predicting in which category a given data point is. In binary classifiction, there are only two categories:\n",
        "\n",
        "$$y \\in \\{0,1\\}$$\n",
        "\n",
        "In this exercise, you will implement logistic regression and apply it to two different datasets. Before starting on the programming exercise, we strongly recommend watching the video lectures and completing the review questions for the associated topics."
      ]
    },
    {
      "cell_type": "code",
      "metadata": {
        "colab": {
          "base_uri": "https://localhost:8080/"
        },
        "id": "g2ganTgm2-VY",
        "outputId": "017cfe0c-3b00-4313-c2ba-6c6445f1fbe0"
      },
      "source": [
        "from google.colab import drive \n",
        "drive.mount('/content/gdrive')\n",
        "\n"
      ],
      "execution_count": 13,
      "outputs": [
        {
          "output_type": "stream",
          "text": [
            "Drive already mounted at /content/gdrive; to attempt to forcibly remount, call drive.mount(\"/content/gdrive\", force_remount=True).\n"
          ],
          "name": "stdout"
        }
      ]
    },
    {
      "cell_type": "code",
      "metadata": {
        "colab": {
          "base_uri": "https://localhost:8080/"
        },
        "id": "r-Aabi4H2F7C",
        "outputId": "03cca6b9-b9b8-4ac1-f94e-5e32bc941539"
      },
      "source": [
        "# start by loading the data\n",
        "data = pd.read_csv(\"/content/gdrive/MyDrive/(2020~2022) 🔥/study_lectures /🤗/Open Course /Stanford/cs229_ML/ex2/ex2data1.txt\", header = None,  names = [\"Exam 1 Score\", \"Exam 2 Score\", \"Accepted\"])\n",
        "\n",
        "# initialize some useful variables\n",
        "m = len(data[\"Accepted\"])\n",
        "x0 = np.ones(m)\n",
        "size = np.array((data[\"Exam 1 Score\"]))\n",
        "bedrooms = np.array((data[\"Exam 2 Score\"]))\n",
        "X = np.array([x0, size, bedrooms]).T\n",
        "y = np.array(data[\"Accepted\"]).reshape((m,1))\n",
        "m, n = X.shape\n",
        "\n",
        "X[:5]"
      ],
      "execution_count": 14,
      "outputs": [
        {
          "output_type": "execute_result",
          "data": {
            "text/plain": [
              "array([[ 1.        , 34.62365962, 78.02469282],\n",
              "       [ 1.        , 30.28671077, 43.89499752],\n",
              "       [ 1.        , 35.84740877, 72.90219803],\n",
              "       [ 1.        , 60.18259939, 86.3085521 ],\n",
              "       [ 1.        , 79.03273605, 75.34437644]])"
            ]
          },
          "metadata": {
            "tags": []
          },
          "execution_count": 14
        }
      ]
    },
    {
      "cell_type": "markdown",
      "metadata": {
        "id": "ikQe65At2F7E"
      },
      "source": [
        "### Visualising the data\n",
        "A blue cross means accepted. A yellow oval means rejected."
      ]
    },
    {
      "cell_type": "code",
      "metadata": {
        "colab": {
          "base_uri": "https://localhost:8080/",
          "height": 265
        },
        "id": "1VpdFYhA2F7E",
        "outputId": "516873e8-8813-4dcb-fd5a-c6950f9f930f"
      },
      "source": [
        "# Find indices of positive and negative examples\n",
        "pos = np.where(y==1)[0]\n",
        "neg = np.where(y==0)[0]\n",
        "\n",
        "# Plot examples\n",
        "plt.plot(X[pos, 1], X[pos, 2], 'b+', label='Admitted')\n",
        "plt.plot(X[neg, 1], X[neg, 2], 'yo', label='Not admitted')\n",
        "plt.legend()\n",
        "plt.show()"
      ],
      "execution_count": 15,
      "outputs": [
        {
          "output_type": "display_data",
          "data": {
            "image/png": "[encoded data removed]",
            "text/plain": [
              "<Figure size 432x288 with 1 Axes>"
            ]
          },
          "metadata": {
            "tags": [],
            "needs_background": "light"
          }
        }
      ]
    },
    {
      "cell_type": "markdown",
      "metadata": {
        "id": "MbarA8Pz2F7E"
      },
      "source": [
        "### Sigmoid\n",
        "The sigmoid function, or logistic function, is a function that asymptotes at 0 and 1. The value at 0 is $\\frac{1}{2}$.\n",
        "\n",
        "$h_\\theta(x) = g(\\theta^Tx) = g(z) = \\frac{1}{1+ e^{-z}} = \\frac{1}{1+ e^{-\\theta^Tx}}$\n",
        "\n",
        "A plot of the sigmoid function:\n",
        "![sigmoid](notes/sigmoid.png)\n",
        "\n",
        "We are going to use the sigmoid function to predict how likely it is that a given data point is in category 0. Our hypothesis:\n",
        "\n",
        "$h_\\theta(x) = P(y = 0|x;\\theta)$\n",
        "\n",
        "Because there are only two categories (in this case), we can derrive that:\n",
        "\n",
        "$P(y = 0|x;\\theta) + P(y = 1|x;\\theta)= 1$\n",
        "\n",
        "**Exercise**: Implement the sigmoid function in Python."
      ]
    },
    {
      "cell_type": "code",
      "metadata": {
        "id": "iWx3Nib92F7F"
      },
      "source": [
        "def sigmoid(z):\n",
        "    return 1/(1+np.exp(-z))"
      ],
      "execution_count": 16,
      "outputs": []
    },
    {
      "cell_type": "markdown",
      "metadata": {
        "id": "I1neVN7Y2F7F"
      },
      "source": [
        "### Compute the Cost and Gradient\n",
        "\n",
        "#### The cost function\n",
        "\n",
        "The cost function in logistic regression differs from the one used in linear regression. The cost function in logistic regression:\n",
        "\n",
        "$$J(\\theta) = - \\begin{bmatrix}\\frac{1}{m}\\displaystyle\\sum_{i=1}^{m}-y^{(i)}\\log h(x^{(i)}-(1-y^{(i)})\\log(1-h_\\theta(x^{(i)}))\\end{bmatrix}$$\n",
        "\n",
        "Assume our hypothesis for an example is wrong, the higher probability $h_\\theta$ had predicted, the higher the penatly.\n",
        "\n",
        "A vectorized version of the cost function:\n",
        "\n",
        "$$J(\\theta) = \\frac{1}{m} ⋅(−y^T \\log(h)−(1−y)^T \\log(1−h))$$\n",
        "\n",
        "**Exercise**: Implement the vectorized cost function in Python."
      ]
    },
    {
      "cell_type": "code",
      "metadata": {
        "id": "GDMcp0uR2F7H"
      },
      "source": [
        "def compute_cost(theta, X, y):\n",
        "    m = len(y)\n",
        "    return (1/m) * (-y @ np.log(sigmoid(X@theta)) - (1-y) @ np.log(1-sigmoid(X@theta)) )"
      ],
      "execution_count": 17,
      "outputs": []
    },
    {
      "cell_type": "markdown",
      "metadata": {
        "id": "BgAkMEzf2F7H"
      },
      "source": [
        "#### The gradient\n",
        "\n",
        "The gradient is the step a minimization algorithm, like gradient descent, takes to get to the (local) minimum. Note that this step can be taken in a higher dimension and hence the gradient is a vector. In the previous programming exercise we used gradient descent. This time, we are going to use an algorithm called conjugate gradient to find the minimum. How that algorithm works is beyond the scope if this course. If you are interested, you can learn more about it [here](https://en.wikipedia.org/wiki/Conjugate_gradient_method).\n",
        "\n",
        "The partial derrivative or $J(\\theta)$:\n",
        "\n",
        "$$\\frac{\\delta}{\\delta\\theta_J} = \\frac{1}{m}\\displaystyle\\sum_{i = 1}^{m} \\begin{bmatrix}(h_\\theta(x^{(i)}) - y^{(i)}\\end{bmatrix}x_j^{(i)}$$\n",
        "\n",
        "Vectorized:\n",
        "\n",
        "$$\\frac{\\delta}{\\delta\\theta_J} = \\frac{1}{m} \\cdot X^T \\cdot (g(X\\cdot\\theta)-\\vec{y})$$\n",
        "\n",
        "**Exercise**: Write a function to compute the gradient."
      ]
    },
    {
      "cell_type": "code",
      "metadata": {
        "id": "cXE_R81x2F7H"
      },
      "source": [
        "def compute_gradient(theta, X, y):\n",
        "    m = len(y)\n",
        "    n = len(theta)\n",
        "    gradient = (1 / m) * X.T @ (sigmoid(X@theta) - y)\n",
        "    return gradient.reshape((n,))"
      ],
      "execution_count": 18,
      "outputs": []
    },
    {
      "cell_type": "markdown",
      "metadata": {
        "id": "YNiO-q0j2F7H"
      },
      "source": [
        "Test the cost and gradient function. We expect $J \\approx 0.693$ and $\\frac{\\delta}{\\delta\\theta_J} \\approx \\begin{bmatrix}-0.1000 & -12.0092 & -11.2628 \\end{bmatrix}$"
      ]
    },
    {
      "cell_type": "code",
      "metadata": {
        "colab": {
          "base_uri": "https://localhost:8080/"
        },
        "id": "t1BPFK322F7I",
        "outputId": "acec46c5-fb48-4448-b699-87298f8bc814"
      },
      "source": [
        "initial_theta = np.zeros(n)\n",
        "y = y.reshape(m)\n",
        "print('Cost: \\n{}\\n'.format(compute_cost(initial_theta, X, y)))\n",
        "print('Gradient: \\n{}'.format(compute_gradient(initial_theta, X, y)))"
      ],
      "execution_count": 19,
      "outputs": [
        {
          "output_type": "stream",
          "text": [
            "Cost: \n",
            "0.6931471805599453\n",
            "\n",
            "Gradient: \n",
            "[ -0.1        -12.00921659 -11.26284221]\n"
          ],
          "name": "stdout"
        }
      ]
    },
    {
      "cell_type": "markdown",
      "metadata": {
        "id": "NPt38VBg2F7I"
      },
      "source": [
        "### Learning $\\theta$ using conjugate gradient\n",
        "\n",
        "The optimization library we are going to use is `scipy.optimize`. We have to provide the algorithm with our cost function, initial guess, gradient among with some other (optional) configuration options.\n",
        "\n",
        "Please scan [the docs](https://docs.scipy.org/doc/scipy/reference/generated/scipy.optimize.minimize.html) of `minimize` first."
      ]
    },
    {
      "cell_type": "code",
      "metadata": {
        "scrolled": true,
        "colab": {
          "base_uri": "https://localhost:8080/"
        },
        "id": "mMDgluE22F7I",
        "outputId": "d190907a-d976-4bb8-c3fb-a89f87f9c21f"
      },
      "source": [
        "from scipy.optimize import minimize\n",
        "result = minimize(compute_cost, initial_theta, args = (X, y),\n",
        "                   method = 'CG', jac = compute_gradient, \n",
        "                   options = {\"maxiter\": 400, \"disp\" : 1})\n",
        "theta = result.x\n",
        "print('Conjugate gradient found the following values for theta: {}'.format(theta))"
      ],
      "execution_count": 20,
      "outputs": [
        {
          "output_type": "stream",
          "text": [
            "Optimization terminated successfully.\n",
            "         Current function value: 0.203498\n",
            "         Iterations: 58\n",
            "         Function evaluations: 134\n",
            "         Gradient evaluations: 134\n",
            "Conjugate gradient found the following values for theta: [-25.15806605   0.20620558   0.20144516]\n"
          ],
          "name": "stdout"
        },
        {
          "output_type": "stream",
          "text": [
            "/usr/local/lib/python3.7/dist-packages/ipykernel_launcher.py:3: RuntimeWarning: divide by zero encountered in log\n",
            "  This is separate from the ipykernel package so we can avoid doing imports until\n",
            "/usr/local/lib/python3.7/dist-packages/ipykernel_launcher.py:3: RuntimeWarning: invalid value encountered in matmul\n",
            "  This is separate from the ipykernel package so we can avoid doing imports until\n"
          ],
          "name": "stderr"
        }
      ]
    },
    {
      "cell_type": "markdown",
      "metadata": {
        "id": "4LQdBrJY2F7J"
      },
      "source": [
        "### The decision boundary\n",
        "The decision boundary is a line (in case of a 2d plane) that seperates the area where we predict $y=1$ and $y=0$."
      ]
    },
    {
      "cell_type": "code",
      "metadata": {
        "colab": {
          "base_uri": "https://localhost:8080/",
          "height": 282
        },
        "id": "l8I4glG32F7J",
        "outputId": "5c766f61-47a1-419f-f53a-22db808e13ae"
      },
      "source": [
        "# Find indices of positive and negative examples\n",
        "pos = np.where(y==1)[0]\n",
        "neg = np.where(y==0)[0]\n",
        "\n",
        "# Plot examples\n",
        "plt.plot(X[pos, 1], X[pos, 2], 'b+', label='Admitted')\n",
        "plt.plot(X[neg, 1], X[neg, 2], 'yo', label='Not admitted')\n",
        "plt.legend()\n",
        "\n",
        "# Plot the decision boundary\n",
        "plot_x = np.array([min(X[:,1])-2,  max(X[:,1])+2])\n",
        "plot_y = (-1./theta[2]) * ((theta[1] * (plot_x) + theta[0]))\n",
        "\n",
        "plt.plot(plot_x, plot_y, label='Decision boundary')\n",
        "\n",
        "# Legend, specific for the exercise\n",
        "plt.legend()"
      ],
      "execution_count": 21,
      "outputs": [
        {
          "output_type": "execute_result",
          "data": {
            "text/plain": [
              "<matplotlib.legend.Legend at 0x7f590003e190>"
            ]
          },
          "metadata": {
            "tags": []
          },
          "execution_count": 21
        },
        {
          "output_type": "display_data",
          "data": {
            "image/png": "[encoded data removed]",
            "text/plain": [
              "<Figure size 432x288 with 1 Axes>"
            ]
          },
          "metadata": {
            "tags": [],
            "needs_background": "light"
          }
        }
      ]
    },
    {
      "cell_type": "markdown",
      "metadata": {
        "id": "3HD_NMRU2F7J"
      },
      "source": [
        "### Evaluation\n",
        "#### Probability that a given student will be admitted"
      ]
    },
    {
      "cell_type": "code",
      "metadata": {
        "colab": {
          "base_uri": "https://localhost:8080/"
        },
        "id": "ZnT8Q5_V2F7K",
        "outputId": "4a2ad52a-0656-4d58-c208-acb02ad49128"
      },
      "source": [
        "prob = sigmoid(np.array([1, 45, 85]).dot(theta))\n",
        "print('For a student with scores 45 and 85, we predict an admission probability of {:.2}'.format(prob))"
      ],
      "execution_count": 22,
      "outputs": [
        {
          "output_type": "stream",
          "text": [
            "For a student with scores 45 and 85, we predict an admission probability of 0.78\n"
          ],
          "name": "stdout"
        }
      ]
    },
    {
      "cell_type": "markdown",
      "metadata": {
        "id": "m0KNbxde2F7K"
      },
      "source": [
        "#### Accuracy\n",
        "It's often a good idea to see how well your model trained. You can do that by checking how much datapoints we can predict correctly using $\\theta$. In a real world application, you should consider splitting your data (eg 80% - 20%) and test on data the model has not seen before. This gives you more realistic insight in how your model would perform in the real world - and that's your ultimate goal ;)\n",
        "\n",
        "In this example, we expect a training accuracy of 89.0%."
      ]
    },
    {
      "cell_type": "code",
      "metadata": {
        "colab": {
          "base_uri": "https://localhost:8080/"
        },
        "id": "r3jOrmp32F7K",
        "outputId": "3ad32790-239f-43c9-de5f-c7a30bb28223"
      },
      "source": [
        "p = np.zeros((m, 1))\n",
        "for (i, example) in enumerate(X):\n",
        "    prob = sigmoid(np.array(example.dot(theta)))\n",
        "    if prob >= 0.5:\n",
        "        p[i] = 1\n",
        "    else:\n",
        "        p[i] = 0\n",
        "print('Training Accuracy: {}%'.format(np.mean(p == y.reshape((m, 1))) * 100))"
      ],
      "execution_count": 23,
      "outputs": [
        {
          "output_type": "stream",
          "text": [
            "Training Accuracy: 89.0%\n"
          ],
          "name": "stdout"
        }
      ]
    },
    {
      "cell_type": "markdown",
      "metadata": {
        "id": "qRwIVWHY2F7K"
      },
      "source": [
        "## Regularized linear regression\n",
        "\n",
        "---\n",
        "Regularization is a meganism for preventing overfitting. _Overfitting_ means that our model works extremely well on the training set but bad in the real world. It's focussed on the training data. _Underfitting_ is either a not well trained model or the feature mapping is not done (correctly). We will use regularization in this exercise. Furtermore, we are going to look at a more complex decision boundary\n",
        "\n",
        "In this part of the exercise, you will implement regularized logistic regression to predict whether microchips from a fabrication plant passes quality assur- ance (QA). During QA, each microchip goes through various tests to ensure it is functioning correctly.\n",
        "\n",
        "Suppose you are the product manager of the factory and you have the test results for some microchips on two different tests. From these two tests, you would like to determine whether the microchips should be accepted or rejected. To help you make the decision, you have a dataset of test results on past microchips, from which you can build a logistic regression model."
      ]
    },
    {
      "cell_type": "code",
      "metadata": {
        "colab": {
          "base_uri": "https://localhost:8080/"
        },
        "id": "AN7PcrQR2F7L",
        "outputId": "6edd1d50-b403-4ffc-a2a1-b2c17a5f24ce"
      },
      "source": [
        "# start by loading the data\n",
        "data = pd.read_csv(\"/content/gdrive/MyDrive/(2020~2022) 🔥/study_lectures /🤗/Open Course /Stanford/cs229_ML/ex2/ex2data2.txt\", header = None, names = [\"Test 1\", \"Test 2\", \"Status\"])\n",
        "\n",
        "# initialize some useful variables\n",
        "m = len(data[\"Status\"])\n",
        "size = np.array((data[\"Test 1\"]))\n",
        "bedrooms = np.array((data[\"Test 2\"]))\n",
        "X = np.array([size, bedrooms]).T # don't add a column of ones yet.\n",
        "y = np.array(data[\"Status\"])\n",
        "\n",
        "X[:5]"
      ],
      "execution_count": 26,
      "outputs": [
        {
          "output_type": "execute_result",
          "data": {
            "text/plain": [
              "array([[ 0.051267,  0.69956 ],\n",
              "       [-0.092742,  0.68494 ],\n",
              "       [-0.21371 ,  0.69225 ],\n",
              "       [-0.375   ,  0.50219 ],\n",
              "       [-0.51325 ,  0.46564 ]])"
            ]
          },
          "metadata": {
            "tags": []
          },
          "execution_count": 26
        }
      ]
    },
    {
      "cell_type": "markdown",
      "metadata": {
        "id": "61ZtkjOL2F7L"
      },
      "source": [
        "### Visualising the data"
      ]
    },
    {
      "cell_type": "code",
      "metadata": {
        "colab": {
          "base_uri": "https://localhost:8080/",
          "height": 265
        },
        "id": "Nb6fZ1Rb2F7L",
        "outputId": "55c50858-3620-4937-ab07-bb86443e7610"
      },
      "source": [
        "# Find indices of positive and negative examples\n",
        "pos = np.where(y==1)[0]\n",
        "neg = np.where(y==0)[0]\n",
        "\n",
        "# Plot examples\n",
        "plt.plot(X[pos, 0], X[pos, 1], 'b+', label='Admitted')\n",
        "plt.plot(X[neg, 0], X[neg, 1], 'yo', label='Not admitted')\n",
        "plt.legend()\n",
        "plt.show()"
      ],
      "execution_count": 27,
      "outputs": [
        {
          "output_type": "display_data",
          "data": {
            "image/png": "[encoded data removed]",
            "text/plain": [
              "<Figure size 432x288 with 1 Axes>"
            ]
          },
          "metadata": {
            "tags": [],
            "needs_background": "light"
          }
        }
      ]
    },
    {
      "cell_type": "markdown",
      "metadata": {
        "id": "ehO3K0wf2F7L"
      },
      "source": [
        "### Feature Mapping\n",
        "\n",
        "One way to fit the data better is to create more features from each data point. While the feature mapping allows us to build a more expressive classifier, it also more susceptible to overfitting. This will also add $x_0$."
      ]
    },
    {
      "cell_type": "code",
      "metadata": {
        "id": "FeO-kLSm2F7M"
      },
      "source": [
        "def map_feature(X1, X2, degree):\n",
        "    if not type(X1) == np.ndarray:\n",
        "        X1 = np.array([X1])\n",
        "\n",
        "    if not type(X2) == np.ndarray:\n",
        "        X2 = np.array([X2])\n",
        "\n",
        "    assert X1.shape == X2.shape\n",
        "    \n",
        "    out = np.ones((len(X1), 1))\n",
        "    for i in range(1, degree+1):\n",
        "        for j in range(i + 1):\n",
        "            new = (X1 ** (i-j) * X2 ** j).reshape(len(X1), 1)\n",
        "            out = np.hstack((out, new))\n",
        "    return out\n",
        "\n",
        "X = map_feature(X[:,0], X[:,1], degree=6)\n",
        "m, n = X.shape"
      ],
      "execution_count": 28,
      "outputs": []
    },
    {
      "cell_type": "markdown",
      "metadata": {
        "id": "17ouTHoc2F7M"
      },
      "source": [
        "### Computing Cost and Gradient\n",
        "#### Cost function\n",
        "Regularization works by penalizing theta. Theta values can be high when an overfit occurs so we prefer to keep them low. $\\lambda$ is the regularization parameter. If $\\lambda=0$, no regularization happens. If $\\lambda$ is some big number, $\\theta$ has a very high penalty. Just like the learning rate $\\alpha$ you have to try out certain values and see which work.\n",
        "\n",
        "The cost function with regularization:\n",
        "\n",
        "$$J(\\theta) = \\frac{1}{m}\\displaystyle\\sum_{i=1}^{m}-\\begin{bmatrix}y^{(i)}\\log h(x^{(i)}+(1-y^{(i)}\\log(1-h_\\theta(x^{(i)})) \\end{bmatrix} + \\frac{\\lambda}{m}\\displaystyle\\sum_{j=1}^{n}{\\theta_j}^2$$\n",
        "\n",
        "**Exercise**: Implement the regularized cost function."
      ]
    },
    {
      "cell_type": "code",
      "metadata": {
        "id": "Rnc6Q6ks2F7M"
      },
      "source": [
        "def compute_regularized_cost(theta, X, y, _lambda):\n",
        "    m = len(y)\n",
        "\n",
        "    regularization = _lambda / (2 * m) * np.sum(theta[1:] ** 2) #np.squared()???/\n",
        "    cost = 1/m * (-y @ np.log(sigmoid(X @ theta)) - (1 - y) @ np.log(1 - sigmoid(X@theta)))\n",
        "    return cost + regularization\n",
        "    # return 1/m * (-y@np.log(sigmoid(X@theta)) - (1-y)@np.log(1-sigmoid(X@theta))) + _lambda/m * np,sum(theta[1:]**2)\n"
      ],
      "execution_count": 44,
      "outputs": []
    },
    {
      "cell_type": "markdown",
      "metadata": {
        "id": "Msi2PwCs2F7M"
      },
      "source": [
        "#### Gradient descent\n",
        "Gradient descent, just like the cost function, is slightly modified for regularization.\n",
        "\n",
        "For $\\theta_{j}$ where $j = 0$: \n",
        "\n",
        "$$\\theta_j := \\theta_j -\\alpha \\begin{bmatrix}\\frac{1}{m}\\displaystyle\\sum_{i=1}^{m}(h_\\theta(x^{(i)}-y^{(i)}){x_0}^{(i)}\\end{bmatrix}$$\n",
        "\n",
        "For $\\theta_{j}$ where $j \\in \\{1, 2, ..., n\\} $: \n",
        "\n",
        "$$\\theta_j := \\theta_j -\\alpha \\begin{bmatrix}\\frac{1}{m}\\displaystyle\\sum_{i=1}^{m}(h_\\theta(x^{(i)}-y^{(i)})x_j^{(i)} + \\frac{\\lambda}{m}{\\theta_j} \\end{bmatrix}$$\n",
        "\n",
        "Note that we don't penalize our bias vector $X_1$.\n",
        "\n",
        "**Exercise**: Implement `compute_regularized_gradient`."
      ]
    },
    {
      "cell_type": "code",
      "metadata": {
        "id": "VP6TL7UT2F7N"
      },
      "source": [
        "def compute_regularized_gradient(theta, X, y, _lambda):\n",
        "    m = len(y)\n",
        "    n = len(theta)\n",
        "    gradient = np.ones(n)\n",
        "    hx = sigmoid(X @ theta)\n",
        "    gradient = (1 / m) * X.T @ (hx - y)\n",
        "    regularization = (_lambda / m) * theta\n",
        "    regularization[0] = 0\n",
        "        \n",
        "    return gradient + regularization"
      ],
      "execution_count": 42,
      "outputs": []
    },
    {
      "cell_type": "markdown",
      "metadata": {
        "id": "sU690tqQ2F7N"
      },
      "source": [
        "We expect: $J \\approx 0.693$ and the first five values of $\\theta$: $\\begin{bmatrix} 0.0085 && 0.0188 && 0.0001 && 0.0503 && 0.0115 \\end{bmatrix}$"
      ]
    },
    {
      "cell_type": "code",
      "metadata": {
        "colab": {
          "base_uri": "https://localhost:8080/"
        },
        "id": "FikkO0Lp2F7N",
        "outputId": "274f39cd-209a-4749-debf-89d57d3933e2"
      },
      "source": [
        "_lambda = 1\n",
        "initial_theta = np.ones(n)\n",
        "\n",
        "cost = compute_regularized_cost(initial_theta, X, y, _lambda)\n",
        "grad = compute_regularized_gradient(initial_theta, X, y, _lambda)\n",
        "\n",
        "print('Cost at initial theta (zeros): {:.3}'.format(cost))\n",
        "print('Gradient at initial theta (zeros) - first five values only: \\n{}'.format(grad[:5]))"
      ],
      "execution_count": 45,
      "outputs": [
        {
          "output_type": "stream",
          "text": [
            "Cost at initial theta (zeros): 2.13\n",
            "Gradient at initial theta (zeros) - first five values only: \n",
            "[0.34604507 0.08508073 0.11852457 0.1505916  0.01591449]\n"
          ],
          "name": "stdout"
        }
      ]
    },
    {
      "cell_type": "markdown",
      "metadata": {
        "id": "XmDOOg3q2F7N"
      },
      "source": [
        "Find an optimimal value for theta using conjugate gradient."
      ]
    },
    {
      "cell_type": "code",
      "metadata": {
        "colab": {
          "base_uri": "https://localhost:8080/"
        },
        "id": "DOAORdUW2F7O",
        "outputId": "ea4e04af-879b-48c5-b6a7-a22d3d9cc989"
      },
      "source": [
        "from scipy.optimize import minimize\n",
        "result = minimize(compute_regularized_cost, initial_theta, args = (X, y, _lambda),\n",
        "                  method = 'CG', jac = compute_regularized_gradient, \n",
        "                  options = {\"maxiter\": 400, \"disp\" : 1})\n",
        "theta = result.x\n",
        "print('Conjugate gradient found the following values for theta - first five values only: {}'.format(theta[:5]))"
      ],
      "execution_count": 46,
      "outputs": [
        {
          "output_type": "stream",
          "text": [
            "Optimization terminated successfully.\n",
            "         Current function value: 0.529003\n",
            "         Iterations: 28\n",
            "         Function evaluations: 76\n",
            "         Gradient evaluations: 76\n",
            "Conjugate gradient found the following values for theta - first five values only: [ 1.27278161  0.62533884  1.18105652 -2.02009622 -0.91762257]\n"
          ],
          "name": "stdout"
        }
      ]
    },
    {
      "cell_type": "markdown",
      "metadata": {
        "id": "HJLiJOa22F7O"
      },
      "source": [
        "### Plotting the decision boundary\n",
        "We can plot a more complex decision boundary using `np.linspace` and `contour`."
      ]
    },
    {
      "cell_type": "code",
      "metadata": {
        "colab": {
          "base_uri": "https://localhost:8080/",
          "height": 286
        },
        "id": "LMVeXzha2F7O",
        "outputId": "8b0d63f5-a7b7-4cf0-fd7d-a68275548942"
      },
      "source": [
        "# Find indices of positive and negative examples\n",
        "pos = np.where(y==1)[0]\n",
        "neg = np.where(y==0)[0]\n",
        "\n",
        "# Plot examples\n",
        "plt.plot(X[pos, 1], X[pos, 2], 'b+', label='Admitted')\n",
        "plt.plot(X[neg, 1], X[neg, 2], 'yo', label='Not admitted')\n",
        "plt.legend()\n",
        "\n",
        "# Here is the grid range\n",
        "u = np.linspace(-1, 1.5, 50).reshape(50)\n",
        "v = np.linspace(-1, 1.5, 50).reshape(50)\n",
        "z = np.zeros((len(u), len(v)))\n",
        "\n",
        "# Evaluate z = theta*x over the grid\n",
        "for i in range(len(u)):\n",
        "    for j in range(len(v)):\n",
        "        z[i,j] = map_feature(u[i], v[j], degree=6).dot(theta)\n",
        "\n",
        "# Plot z = 0\n",
        "# Notice you need to specify the range [0, 0]\n",
        "#z = z.reshape(len(u), len(v))\n",
        "plt.contour(u, v, z.T, 0)"
      ],
      "execution_count": 47,
      "outputs": [
        {
          "output_type": "execute_result",
          "data": {
            "text/plain": [
              "<matplotlib.contour.QuadContourSet at 0x7f590b500cd0>"
            ]
          },
          "metadata": {
            "tags": []
          },
          "execution_count": 47
        },
        {
          "output_type": "display_data",
          "data": {
            "image/png": "[encoded data removed]",
            "text/plain": [
              "<Figure size 432x288 with 1 Axes>"
            ]
          },
          "metadata": {
            "tags": [],
            "needs_background": "light"
          }
        }
      ]
    },
    {
      "cell_type": "markdown",
      "metadata": {
        "id": "8I0Z7g7n2F7O"
      },
      "source": [
        "### Exploring regularization\n",
        "As mentioned before, $\\lambda$ is used to control the problem of overfitting. In the following graphs, models trained with different values of lambda are shown to give you some intuition on the problem of over/underfitting."
      ]
    },
    {
      "cell_type": "code",
      "metadata": {
        "id": "2gbIxp_A2F7O"
      },
      "source": [
        "def create_plot_for_lambda(X, y, _lambda):\n",
        "    from scipy.optimize import minimize\n",
        "    result = minimize(compute_regularized_cost, initial_theta, args = (X, y, _lambda),\n",
        "                      method = 'CG', jac = compute_regularized_gradient, \n",
        "                      options = {\"maxiter\": 400, \"disp\" : 1})\n",
        "    theta = result.x\n",
        "    print('Conjugate gradient found the following values for theta - first five values only: {}'.format(theta[:5]))\n",
        "\n",
        "    # Find indices of positive and negative examples\n",
        "    pos = np.where(y==1)[0]\n",
        "    neg = np.where(y==0)[0]\n",
        "\n",
        "    # Plot examples\n",
        "    plt.plot(X[pos, 1], X[pos, 2], 'b+', label='Admitted')\n",
        "    plt.plot(X[neg, 1], X[neg, 2], 'yo', label='Not admitted')\n",
        "    plt.legend()\n",
        "\n",
        "    # Here is the grid range\n",
        "    u = np.linspace(-1, 1.5, 50).reshape(50)\n",
        "    v = np.linspace(-1, 1.5, 50).reshape(50)\n",
        "    z = np.zeros((len(u), len(v)))\n",
        "\n",
        "    # Evaluate z = theta*x over the grid\n",
        "    for i in range(len(u)):\n",
        "        for j in range(len(v)):\n",
        "            z[i,j] = map_feature(u[i], v[j], degree=6).dot(theta)\n",
        "\n",
        "    # Plot z = 0\n",
        "    # Notice you need to specify the range [0, 0]\n",
        "    #z = z.reshape(len(u), len(v))\n",
        "    plt.contour(u, v, z.T, 0)"
      ],
      "execution_count": 48,
      "outputs": []
    },
    {
      "cell_type": "markdown",
      "metadata": {
        "id": "iI2mU2ju2F7P"
      },
      "source": [
        "#### Overfitting\n",
        "Remember: overfitting means the model probably only works on the training set and not well in the real world. If you model is overfit, consider adding regularization or choosing a higher value for $\\lambda$.\n",
        "\n",
        "You can check out other values of $\\lambda$ yourself."
      ]
    },
    {
      "cell_type": "code",
      "metadata": {
        "colab": {
          "base_uri": "https://localhost:8080/",
          "height": 371
        },
        "id": "YaDJFsTM2F7P",
        "outputId": "378f7acc-36ca-4d6f-a7f6-985e549ecb2a"
      },
      "source": [
        "create_plot_for_lambda(X, y, 0)"
      ],
      "execution_count": 49,
      "outputs": [
        {
          "output_type": "stream",
          "text": [
            "Warning: Maximum number of iterations has been exceeded.\n",
            "         Current function value: 0.280906\n",
            "         Iterations: 400\n",
            "         Function evaluations: 1452\n",
            "         Gradient evaluations: 1452\n",
            "Conjugate gradient found the following values for theta - first five values only: [ 2.53698102 -1.36823912  2.14168677 -7.32650661 -8.48460541]\n"
          ],
          "name": "stdout"
        },
        {
          "output_type": "display_data",
          "data": {
            "image/png": "[encoded data removed]",
            "text/plain": [
              "<Figure size 432x288 with 1 Axes>"
            ]
          },
          "metadata": {
            "tags": [],
            "needs_background": "light"
          }
        }
      ]
    },
    {
      "cell_type": "markdown",
      "metadata": {
        "id": "Z716xBb62F7P"
      },
      "source": [
        "#### Underfitting\n",
        "Underfitting means the model is not well trained. Having a high $\\lambda$ can cause underfitting."
      ]
    },
    {
      "cell_type": "code",
      "metadata": {
        "colab": {
          "base_uri": "https://localhost:8080/",
          "height": 371
        },
        "id": "r811cZ4G2F7P",
        "outputId": "a2d94878-dcb4-43c8-d884-9d0662734766"
      },
      "source": [
        "create_plot_for_lambda(X, y, 10)"
      ],
      "execution_count": 50,
      "outputs": [
        {
          "output_type": "stream",
          "text": [
            "Optimization terminated successfully.\n",
            "         Current function value: 0.648216\n",
            "         Iterations: 14\n",
            "         Function evaluations: 29\n",
            "         Gradient evaluations: 29\n",
            "Conjugate gradient found the following values for theta - first five values only: [ 0.326144   -0.00815789  0.16580133 -0.44666092 -0.11177511]\n"
          ],
          "name": "stdout"
        },
        {
          "output_type": "display_data",
          "data": {
            "image/png": "[encoded data removed]",
            "text/plain": [
              "<Figure size 432x288 with 1 Axes>"
            ]
          },
          "metadata": {
            "tags": [],
            "needs_background": "light"
          }
        }
      ]
    },
    {
      "cell_type": "markdown",
      "metadata": {
        "id": "KqaFhvvD2F7P"
      },
      "source": [
        "#### Underfitting$^2$\n",
        "This is what model trained with an extremely high value of $\\lambda$ looks like:"
      ]
    },
    {
      "cell_type": "code",
      "metadata": {
        "colab": {
          "base_uri": "https://localhost:8080/",
          "height": 371
        },
        "id": "ZsaYqLVF2F7P",
        "outputId": "345eff5d-f6cf-464c-cd06-c6d69eecbe90"
      },
      "source": [
        "create_plot_for_lambda(X, y, 130)"
      ],
      "execution_count": 51,
      "outputs": [
        {
          "output_type": "stream",
          "text": [
            "Optimization terminated successfully.\n",
            "         Current function value: 0.687913\n",
            "         Iterations: 10\n",
            "         Function evaluations: 23\n",
            "         Gradient evaluations: 23\n",
            "Conjugate gradient found the following values for theta - first five values only: [ 0.00980668 -0.01412537  0.00377853 -0.042739   -0.01022205]\n"
          ],
          "name": "stdout"
        },
        {
          "output_type": "display_data",
          "data": {
            "image/png": "[encoded data removed]",
            "text/plain": [
              "<Figure size 432x288 with 1 Axes>"
            ]
          },
          "metadata": {
            "tags": [],
            "needs_background": "light"
          }
        }
      ]
    },
    {
      "cell_type": "markdown",
      "metadata": {
        "id": "l5sk6j1g2F7Q"
      },
      "source": [
        "### Adjusted normal equation\n",
        "As you would have expected, the normal equation changes when you add normalization to your machine learning model. The adjusted version of the normal equation: \n",
        "\n",
        "$$\\theta=(X^TX+\\lambda\\begin{bmatrix} 0&\\dotsi&\\dotsi&\\dotsi &0\\\\\\vdots &1&0& 0 & \\vdots&\\\\\\vdots&0&1 &0 & \\vdots\\\\\\vdots&0&0&1&\\vdots\\\\0&\\dotsi&\\dotsi&\\dotsi&1 \\end{bmatrix})^{-1}X^Ty$$\n",
        "\n",
        "If $m < n$, $X$ is [non-invertable](https://www.quora.com/What-is-a-non-invertible-matrix-What-are-some-examples)."
      ]
    },
    {
      "cell_type": "code",
      "metadata": {
        "colab": {
          "base_uri": "https://localhost:8080/"
        },
        "id": "8QnzeHGw2F7Q",
        "outputId": "a381105a-f4f0-4e03-bcf9-5a5663fd993f"
      },
      "source": [
        "L = np.eye(n)\n",
        "L[0] = 0\n",
        "_lambda = 1\n",
        "theta = np.linalg.inv(X.T @ X + _lambda * L)@X.T@y\n",
        "theta"
      ],
      "execution_count": 52,
      "outputs": [
        {
          "output_type": "execute_result",
          "data": {
            "text/plain": [
              "array([ 0.94416708,  0.2315894 ,  0.41142826, -0.7380916 , -0.50116657,\n",
              "       -0.69193639,  0.1003575 , -0.10718673, -0.06667559, -0.05556887,\n",
              "       -0.45471969,  0.09321721, -0.23956536, -0.07088082, -0.40279421,\n",
              "        0.04618662, -0.01432296,  0.04153635, -0.10356044, -0.02654812,\n",
              "        0.05619122, -0.18296629,  0.12363998, -0.11445861,  0.06788982,\n",
              "       -0.10602358,  0.04149463, -0.05781815])"
            ]
          },
          "metadata": {
            "tags": []
          },
          "execution_count": 52
        }
      ]
    }
  ]
}