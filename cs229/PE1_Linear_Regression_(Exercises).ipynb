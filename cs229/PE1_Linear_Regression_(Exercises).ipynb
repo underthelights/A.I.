{
  "nbformat": 4,
  "nbformat_minor": 0,
  "metadata": {
    "kernelspec": {
      "display_name": "Python 3",
      "language": "python",
      "name": "python3"
    },
    "language_info": {
      "codemirror_mode": {
        "name": "ipython",
        "version": 3
      },
      "file_extension": ".py",
      "mimetype": "text/x-python",
      "name": "python",
      "nbconvert_exporter": "python",
      "pygments_lexer": "ipython3",
      "version": "3.7.1"
    },
    "colab": {
      "name": "PE1 - Linear Regression (Exercises).ipynb",
      "provenance": [],
      "collapsed_sections": [],
      "toc_visible": true,
      "include_colab_link": true
    }
  },
  "cells": [
    {
      "cell_type": "markdown",
      "metadata": {
        "id": "view-in-github",
        "colab_type": "text"
      },
      "source": [
        "<a href=\"https://colab.research.google.com/github/underthelights/A.I./blob/main/PE1_Linear_Regression_(Exercises).ipynb\" target=\"_parent\"><img src=\"https://colab.research.google.com/assets/colab-badge.svg\" alt=\"Open In Colab\"/></a>"
      ]
    },
    {
      "cell_type": "markdown",
      "metadata": {
        "id": "M97UB1iBPOnJ"
      },
      "source": [
        "# Linear Regression\n",
        "\n",
        "Stanford CS229 - Machine Learning by Andrew Ng. Programming exercise 1.\n",
        "\n",
        "Please check out [the repository on GitHub](https://github.com/rickwierenga/CS229-Python/). If you spot any mistakes or inconcistencies, please create an issue. For questions you can find me on Twitter: [@rickwierenga](https://twitter.com/rickwierenga). Starring the project on GitHub means a ton to me!"
      ]
    },
    {
      "cell_type": "code",
      "metadata": {
        "id": "14t52EP6POnL"
      },
      "source": [
        "import numpy as np\n",
        "import pandas as pd\n",
        "import matplotlib.pylab as plt\n",
        "%matplotlib inline"
      ],
      "execution_count": 1,
      "outputs": []
    },
    {
      "cell_type": "markdown",
      "metadata": {
        "id": "aRVMj-YUPOnM"
      },
      "source": [
        "## Linear Regression with a single variable\n",
        "---\n",
        "In this part of this exercise, you will implement linear regression with one variable to predict profits for a food truck. Suppose you are the CEO of a restaurant franchise and are considering different cities for opening a new outlet. The chain already has trucks in various cities and you have data for profits and populations from the cities. You would like to use this data to help you select which city to expand to next. "
      ]
    },
    {
      "cell_type": "code",
      "metadata": {
        "colab": {
          "base_uri": "https://localhost:8080/",
          "height": 221
        },
        "id": "ubdpVm9sPOnN",
        "outputId": "0d047f43-5e00-4992-ac94-45f9c3231df6"
      },
      "source": [
        "# start by loading the data\n",
        "from google.colab import drive \n",
        "drive.mount('/content/gdrive')\n",
        "\n",
        "data = pd.read_csv('/content/gdrive/MyDrive/(2020~2022) 🔥/study_lectures /🤗/Open Course /Stanford/cs229_ML/ex1/ex1data1.txt', header=None, names=['Population', 'Profit'])\n",
        "\n",
        "# initialize some useful variables\n",
        "m = len(data) # the number of training examples\n",
        "X = np.append(np.ones((m, 1)), np.array(data[\"Population\"]).reshape((m,1)), axis=1) # Add x0, a vector of 1's, to X.\n",
        "y = np.array(data[\"Profit\"]).reshape(m, 1)\n",
        "\n",
        "data.head()"
      ],
      "execution_count": 2,
      "outputs": [
        {
          "output_type": "stream",
          "text": [
            "Mounted at /content/gdrive\n"
          ],
          "name": "stdout"
        },
        {
          "output_type": "execute_result",
          "data": {
            "text/html": [
              "<div>\n",
              "<style scoped>\n",
              "    .dataframe tbody tr th:only-of-type {\n",
              "        vertical-align: middle;\n",
              "    }\n",
              "\n",
              "    .dataframe tbody tr th {\n",
              "        vertical-align: top;\n",
              "    }\n",
              "\n",
              "    .dataframe thead th {\n",
              "        text-align: right;\n",
              "    }\n",
              "</style>\n",
              "<table border=\"1\" class=\"dataframe\">\n",
              "  <thead>\n",
              "    <tr style=\"text-align: right;\">\n",
              "      <th></th>\n",
              "      <th>Population</th>\n",
              "      <th>Profit</th>\n",
              "    </tr>\n",
              "  </thead>\n",
              "  <tbody>\n",
              "    <tr>\n",
              "      <th>0</th>\n",
              "      <td>6.1101</td>\n",
              "      <td>17.5920</td>\n",
              "    </tr>\n",
              "    <tr>\n",
              "      <th>1</th>\n",
              "      <td>5.5277</td>\n",
              "      <td>9.1302</td>\n",
              "    </tr>\n",
              "    <tr>\n",
              "      <th>2</th>\n",
              "      <td>8.5186</td>\n",
              "      <td>13.6620</td>\n",
              "    </tr>\n",
              "    <tr>\n",
              "      <th>3</th>\n",
              "      <td>7.0032</td>\n",
              "      <td>11.8540</td>\n",
              "    </tr>\n",
              "    <tr>\n",
              "      <th>4</th>\n",
              "      <td>5.8598</td>\n",
              "      <td>6.8233</td>\n",
              "    </tr>\n",
              "  </tbody>\n",
              "</table>\n",
              "</div>"
            ],
            "text/plain": [
              "   Population   Profit\n",
              "0      6.1101  17.5920\n",
              "1      5.5277   9.1302\n",
              "2      8.5186  13.6620\n",
              "3      7.0032  11.8540\n",
              "4      5.8598   6.8233"
            ]
          },
          "metadata": {
            "tags": []
          },
          "execution_count": 2
        }
      ]
    },
    {
      "cell_type": "markdown",
      "metadata": {
        "id": "eEt7Y5V1POnO"
      },
      "source": [
        "### Visualising the data\n",
        "Plotting helps us get insight in the data we are working with. Using the `'bx'` option, we get blue crosses. You can read more about markers [here](https://matplotlib.org/api/markers_api.html)."
      ]
    },
    {
      "cell_type": "code",
      "metadata": {
        "colab": {
          "base_uri": "https://localhost:8080/",
          "height": 312
        },
        "id": "pSk1w-RlPOnO",
        "outputId": "c9994fb2-cbe1-4a13-8bdf-dc404ac79f11"
      },
      "source": [
        "plt.plot(data['Population'], data['Profit'], 'bx')\n",
        "plt.xlabel('Population in 10,000')\n",
        "plt.ylabel('Profit in $10,000')\n",
        "plt.title('Relation between profit and population')"
      ],
      "execution_count": 3,
      "outputs": [
        {
          "output_type": "execute_result",
          "data": {
            "text/plain": [
              "Text(0.5, 1.0, 'Relation between profit and population')"
            ]
          },
          "metadata": {
            "tags": []
          },
          "execution_count": 3
        },
        {
          "output_type": "display_data",
          "data": {
            "image/png": "[encoded data removed]",
            "text/plain": [
              "<Figure size 432x288 with 1 Axes>"
            ]
          },
          "metadata": {
            "tags": [],
            "needs_background": "light"
          }
        }
      ]
    },
    {
      "cell_type": "markdown",
      "metadata": {
        "id": "AHecmGNtPOnO"
      },
      "source": [
        "### The hypotheses function\n",
        "Our hypothesis function has the general form:\n",
        "$y= h_\\theta(x)= \\theta_0 + \\theta_1x$\n",
        "Note that this is like the equation of a straight line. We give to $h_\\theta(x)$ values for $\\theta_0$ and $\\theta_1$ to get our estimated output y. In other words, we are trying to create a function called $h_\\theta$ that is trying to map our input data (the x's) to our output data (the y's).\n",
        "\n",
        "### Cost function\n",
        "\n",
        "The cost functions yields \"how far off\" our hypotheses $h_\\theta$ is. It takes the avarage of the distance between our hypothesis and the actual point and squares it. Formally, the cost function has the following definition:\n",
        "\n",
        "$J(\\theta) = \\frac{1}{2m} \\displaystyle\\sum_{i = 0}^{m}(h_θ(x^{(i)}) - y^{(i)})^2$\n",
        "\n",
        "#### Vectorization\n",
        "Vectorizations is the act of replacing the loops in a computer program with matrix operations. If you have a good linear algebra library (like numpy), the library will optimize the code automatically for the computer the code runs on. Mathematically, the 'regular' function should mean the same as the vectorized function.\n",
        "\n",
        "Gradient descent vectorized:\n",
        "$\\theta = \\frac{1}{2m}(X\\theta - \\vec{y})^T(X\\theta-\\vec{y})$\n",
        "\n",
        "**Exercise**: Implement a vectorized implementation of the cost function."
      ]
    },
    {
      "cell_type": "code",
      "metadata": {
        "id": "qz9OkVjMPOnP"
      },
      "source": [
        "def cost_function(X, y, theta):\n",
        "    \"\"\" Computes the cost of using theta as the parameter for linear gression to fit the data in X and y. \"\"\"\n",
        "    m = len(y)\n",
        "    return (1 / (2 * m)) * sum(np.square((X @ theta) - y))\n"
      ],
      "execution_count": 4,
      "outputs": []
    },
    {
      "cell_type": "markdown",
      "metadata": {
        "id": "nfXxnNTbPOnP"
      },
      "source": [
        "With $\\theta = \\begin{bmatrix}0 & 0\\end{bmatrix}$, $J(\\theta)$ should return 32.07."
      ]
    },
    {
      "cell_type": "code",
      "metadata": {
        "colab": {
          "base_uri": "https://localhost:8080/"
        },
        "id": "Z3V_zK34POnQ",
        "outputId": "aa22eff4-e084-41be-a736-4f877c460d46"
      },
      "source": [
        "initial_theta = np.zeros((2,1))\n",
        "\n",
        "print(cost_function(X, y, initial_theta))"
      ],
      "execution_count": 5,
      "outputs": [
        {
          "output_type": "stream",
          "text": [
            "[32.07273388]\n"
          ],
          "name": "stdout"
        }
      ]
    },
    {
      "cell_type": "markdown",
      "metadata": {
        "id": "33FHjyi2POnQ"
      },
      "source": [
        "### Gradient descent\n",
        "We want are hypothesis $h_\\theta(x)$ to function as good as possibly. Therefore, we want to minimalize the cost function $J(\\theta)$. Gradient descent is an algorithm used to do that. \n",
        "\n",
        "The formal definition of gradient descent:\n",
        "\n",
        "$repeat \\ \\{ \\\\ \\enspace \\theta_j := \\theta_j - \\alpha \\frac{1}{m}\\displaystyle\\sum_{i = 1}^{m}(h_\\theta(x^{(i)})-y^{(i)})x_j^{(i)}\\\\\\}$\n",
        "\n",
        "An illustration of gradient descent on a single variable:\n",
        "<div>\n",
        "    <img style='max-width:50%;' src='notes/gradientdescent.png'>\n",
        "</div>\n",
        "\n",
        "**Exercise**: Implement the gradient descent algorithm in Python."
      ]
    },
    {
      "cell_type": "code",
      "metadata": {
        "id": "iRXVLcYQPOnQ",
        "colab": {
          "base_uri": "https://localhost:8080/"
        },
        "outputId": "2cbc27e7-2e0c-4f8b-a83f-b93ff6bf84d7"
      },
      "source": [
        "# references\n",
        "x = np.random.rand(3,2)\n",
        "print(x,\"\\n\\n\",x[:,1],\"\\n\\n\",x[:,1:])\n",
        "# x[:,1:] 는 1번째 Row 그대로, x[:,1은 1번째 row를 list로]\n",
        "# y = np.arange(4).reshape((2,2))\n",
        "# print(y,\"\\n\\n\", y.transpose(), \"\\n\\n\", y*y.transpose(),\"\\n\\n\", y*y)\n",
        "\n"
      ],
      "execution_count": 6,
      "outputs": [
        {
          "output_type": "stream",
          "text": [
            "[[5.93633626e-02 5.03572592e-03]\n",
            " [3.68516069e-01 3.26394526e-04]\n",
            " [5.15098274e-01 6.86993017e-01]] \n",
            "\n",
            " [5.03572592e-03 3.26394526e-04 6.86993017e-01] \n",
            "\n",
            " [[5.03572592e-03]\n",
            " [3.26394526e-04]\n",
            " [6.86993017e-01]]\n"
          ],
          "name": "stdout"
        }
      ]
    },
    {
      "cell_type": "code",
      "metadata": {
        "id": "xzLImh6qdHcS"
      },
      "source": [
        "\n",
        "def gradient_descent(X, y, theta, alpha, iterations):\n",
        "    \"\"\" Performs gradient descent to learn theta. \n",
        "    Returns the found value for theta and the history of the cost function.\n",
        "    \"\"\"\n",
        "    \n",
        "    m = len(y)\n",
        "    J_history = np.zeros((iterations, 1))\n",
        "    \n",
        "    for iter in range(iterations):\n",
        "        # Find the new values for theta. \n",
        "        # Note: the new values must be assigned after the computation because theta is used during the computation.\n",
        "        temp0 = theta[0] - (alpha/len(y)) * np.sum(X @ theta - y)\n",
        "        temp1 = theta[1] - (alpha/len(y)) * np.sum((X @ theta - y).transpose() @ X[:,1:])\n",
        "        \n",
        "        theta[0] = temp0\n",
        "        theta[1] = temp1\n",
        "        \n",
        "        # theta[0] = theta[0] - (alpha/m) * np.sum(X @ theta - y)\n",
        "        # theta[1]  = theta[1] - (alpha/m) * np.sum((X @ theta - y).transpose() @ X[:,1:])\n",
        "        \n",
        "        # Save the current cost for visualization.\n",
        "        J_history[iter] = cost_function(X, y, theta)\n",
        "    \n",
        "    return theta, J_history"
      ],
      "execution_count": 7,
      "outputs": []
    },
    {
      "cell_type": "markdown",
      "metadata": {
        "id": "DfpjHZRuPOnR"
      },
      "source": [
        "Gradient descent should have found approximately the following: $\\theta = \\begin{bmatrix}-3.6303\\\\1.1664\\end{bmatrix}$"
      ]
    },
    {
      "cell_type": "code",
      "metadata": {
        "scrolled": true,
        "colab": {
          "base_uri": "https://localhost:8080/"
        },
        "id": "W90jlZzPPOnR",
        "outputId": "fb4a5c39-dd82-4c70-abc7-95588de5f6f9"
      },
      "source": [
        "# You can change different values for these variables\n",
        "alpha = 0.01\n",
        "iterations = 15000\n",
        "\n",
        "theta, J_history = gradient_descent(X, y, initial_theta, alpha, iterations)\n",
        "theta"
      ],
      "execution_count": 8,
      "outputs": [
        {
          "output_type": "execute_result",
          "data": {
            "text/plain": [
              "array([[-3.89578088],\n",
              "       [ 1.19303364]])"
            ]
          },
          "metadata": {
            "tags": []
          },
          "execution_count": 8
        }
      ]
    },
    {
      "cell_type": "markdown",
      "metadata": {
        "id": "ShJQwLlnPOnR"
      },
      "source": [
        "### Using the results\n",
        "#### Plotting the regularization line"
      ]
    },
    {
      "cell_type": "code",
      "metadata": {
        "id": "ldqEGsrBPOnR",
        "colab": {
          "base_uri": "https://localhost:8080/",
          "height": 283
        },
        "outputId": "24b925cc-5c9a-4973-c0c1-f9e84426a2cf"
      },
      "source": [
        "plt.plot(X[:,1], y, 'rx', label='Training data')\n",
        "plt.plot(X[:,1], X.dot(theta), label='Linear regression')"
      ],
      "execution_count": 9,
      "outputs": [
        {
          "output_type": "execute_result",
          "data": {
            "text/plain": [
              "[<matplotlib.lines.Line2D at 0x7f032a01ac50>]"
            ]
          },
          "metadata": {
            "tags": []
          },
          "execution_count": 9
        },
        {
          "output_type": "display_data",
          "data": {
            "image/png": "[encoded data removed]",
            "text/plain": [
              "<Figure size 432x288 with 1 Axes>"
            ]
          },
          "metadata": {
            "tags": [],
            "needs_background": "light"
          }
        }
      ]
    },
    {
      "cell_type": "markdown",
      "metadata": {
        "id": "HQJzCu6_POnS"
      },
      "source": [
        "#### Plotting the cost history\n",
        "A plot of how $J(\\theta)$ decreases over time. This is are model learning."
      ]
    },
    {
      "cell_type": "code",
      "metadata": {
        "scrolled": true,
        "id": "T7zJNNSNPOnS",
        "colab": {
          "base_uri": "https://localhost:8080/",
          "height": 282
        },
        "outputId": "70902ff9-37a5-459a-ee99-ad5950d036c2"
      },
      "source": [
        "plt.plot(J_history)"
      ],
      "execution_count": 10,
      "outputs": [
        {
          "output_type": "execute_result",
          "data": {
            "text/plain": [
              "[<matplotlib.lines.Line2D at 0x7f0329f962d0>]"
            ]
          },
          "metadata": {
            "tags": []
          },
          "execution_count": 10
        },
        {
          "output_type": "display_data",
          "data": {
            "image/png": "[encoded data removed]",
            "text/plain": [
              "<Figure size 432x288 with 1 Axes>"
            ]
          },
          "metadata": {
            "tags": [],
            "needs_background": "light"
          }
        }
      ]
    },
    {
      "cell_type": "markdown",
      "metadata": {
        "id": "SeFhVMN2POnS"
      },
      "source": [
        "#### Making a prediction using the model\n",
        "The model can be used by calculating the dot product of the input and $\\theta$."
      ]
    },
    {
      "cell_type": "code",
      "metadata": {
        "id": "RyGzXUyKPOnS",
        "colab": {
          "base_uri": "https://localhost:8080/",
          "height": 36
        },
        "outputId": "8391e0ba-7272-44ab-ab9b-25bd2b6cdbf7"
      },
      "source": [
        "prediction = np.array([1, 3.5]).dot(theta) * 10000 # don't forget to multiply the prediction by 10000\n",
        "'In a city with a population of 35000, we predict a profit of $%.2f' % prediction"
      ],
      "execution_count": 11,
      "outputs": [
        {
          "output_type": "execute_result",
          "data": {
            "application/vnd.google.colaboratory.intrinsic+json": {
              "type": "string"
            },
            "text/plain": [
              "'In a city with a population of 35000, we predict a profit of $2798.37'"
            ]
          },
          "metadata": {
            "tags": []
          },
          "execution_count": 11
        }
      ]
    },
    {
      "cell_type": "markdown",
      "metadata": {
        "id": "RlVqjRBaPOnT"
      },
      "source": [
        "\n",
        "## Multivariate Linear Regression\n",
        "\n",
        "---\n",
        "In this part, you will implement linear regression with multiple variables to predict the prices of houses. Suppose you are selling your house and you want to know what a good market price would be. One way to do this is to first collect information on recent houses sold and make a model of housing prices."
      ]
    },
    {
      "cell_type": "code",
      "metadata": {
        "scrolled": true,
        "id": "an-6-PrYPOnT",
        "colab": {
          "base_uri": "https://localhost:8080/",
          "height": 204
        },
        "outputId": "36da992a-e73d-41f7-b0a4-aa87788789bf"
      },
      "source": [
        "# load data\n",
        "data = pd.read_csv(\"/content/gdrive/MyDrive/(2020~2022) 🔥/study_lectures /🤗/Open Course /Stanford/cs229_ML/ex1/ex1data2.txt\", header = None, names=[\"Size\", \"Bedrooms\",\"Price\"])\n",
        "m = len(data)\n",
        "\n",
        "# Initialize X, y and theta\n",
        "x0 = np.ones(m)\n",
        "size = np.array((data[\"Size\"]))\n",
        "bedrooms = np.array((data[\"Bedrooms\"]))\n",
        "X = np.array([x0, size, bedrooms]).T\n",
        "y = np.array(data[\"Price\"]).reshape(len(data.index), 1)\n",
        "theta_init = np.zeros((3,1))\n",
        "\n",
        "data.head()"
      ],
      "execution_count": 12,
      "outputs": [
        {
          "output_type": "execute_result",
          "data": {
            "text/html": [
              "<div>\n",
              "<style scoped>\n",
              "    .dataframe tbody tr th:only-of-type {\n",
              "        vertical-align: middle;\n",
              "    }\n",
              "\n",
              "    .dataframe tbody tr th {\n",
              "        vertical-align: top;\n",
              "    }\n",
              "\n",
              "    .dataframe thead th {\n",
              "        text-align: right;\n",
              "    }\n",
              "</style>\n",
              "<table border=\"1\" class=\"dataframe\">\n",
              "  <thead>\n",
              "    <tr style=\"text-align: right;\">\n",
              "      <th></th>\n",
              "      <th>Size</th>\n",
              "      <th>Bedrooms</th>\n",
              "      <th>Price</th>\n",
              "    </tr>\n",
              "  </thead>\n",
              "  <tbody>\n",
              "    <tr>\n",
              "      <th>0</th>\n",
              "      <td>2104</td>\n",
              "      <td>3</td>\n",
              "      <td>399900</td>\n",
              "    </tr>\n",
              "    <tr>\n",
              "      <th>1</th>\n",
              "      <td>1600</td>\n",
              "      <td>3</td>\n",
              "      <td>329900</td>\n",
              "    </tr>\n",
              "    <tr>\n",
              "      <th>2</th>\n",
              "      <td>2400</td>\n",
              "      <td>3</td>\n",
              "      <td>369000</td>\n",
              "    </tr>\n",
              "    <tr>\n",
              "      <th>3</th>\n",
              "      <td>1416</td>\n",
              "      <td>2</td>\n",
              "      <td>232000</td>\n",
              "    </tr>\n",
              "    <tr>\n",
              "      <th>4</th>\n",
              "      <td>3000</td>\n",
              "      <td>4</td>\n",
              "      <td>539900</td>\n",
              "    </tr>\n",
              "  </tbody>\n",
              "</table>\n",
              "</div>"
            ],
            "text/plain": [
              "   Size  Bedrooms   Price\n",
              "0  2104         3  399900\n",
              "1  1600         3  329900\n",
              "2  2400         3  369000\n",
              "3  1416         2  232000\n",
              "4  3000         4  539900"
            ]
          },
          "metadata": {
            "tags": []
          },
          "execution_count": 12
        }
      ]
    },
    {
      "cell_type": "markdown",
      "metadata": {
        "id": "LUx8R-TuPOnT"
      },
      "source": [
        "### Feature Normalization\n",
        "When features differ by order of magnitude, first performing feature scaling can make gradient descent converge much more quickly. Formally:\n",
        "\n",
        "$x := \\frac{x - \\mu}{\\sigma}$\n",
        "\n",
        "Where $\\mu$ is the average and $\\sigma$ the standard deviation.\n",
        "\n",
        "**Important**: It is crucial to store $\\mu$ and $\\sigma$ if you want to make predictions using the model later.\n",
        "\n",
        "**Exercise**: Perform feature normalization on the following dataset."
      ]
    },
    {
      "cell_type": "code",
      "metadata": {
        "id": "7U5vUYkKPOnU",
        "colab": {
          "base_uri": "https://localhost:8080/"
        },
        "outputId": "2ebcce74-3739-4528-810d-41f8d0ae687c"
      },
      "source": [
        "# perform normalization\n",
        "def normalize(X):\n",
        "    \"\"\" Normalizes the features in X\n",
        "    \n",
        "    returns a normalized version of X where\n",
        "    the mean value of each feature is 0 and the standard deviation\n",
        "    is 1. This is often a good preprocessing step to do when\n",
        "    working with learning algorithms.\n",
        "    \"\"\"\n",
        "    # initialize mu, sigma as 0 array\n",
        "    mu = np.zeros(len(X))\n",
        "    sigma = np.zeros(len(X))\n",
        "\n",
        "\n",
        "    for i, feature in enumerate(X.transpose()):\n",
        "        if i == 0 : continue\n",
        "        \n",
        "        mu_ = np.mean(feature)\n",
        "        sigma_ = np.std(feature)\n",
        "\n",
        "        mu[i] = mu_\n",
        "        sigma[i] = sigma_\n",
        "        X[:, i] = ((feature - mu_) / sigma_).T\n",
        "\n",
        "\n",
        "    return X, mu, sigma\n",
        "\n",
        "X, mu, sigma = normalize(X)\n",
        "X[0:5]"
      ],
      "execution_count": 14,
      "outputs": [
        {
          "output_type": "execute_result",
          "data": {
            "text/plain": [
              "array([[ 1.        ,  0.13141542, -0.22609337],\n",
              "       [ 1.        , -0.5096407 , -0.22609337],\n",
              "       [ 1.        ,  0.5079087 , -0.22609337],\n",
              "       [ 1.        , -0.74367706, -1.5543919 ],\n",
              "       [ 1.        ,  1.27107075,  1.10220517]])"
            ]
          },
          "metadata": {
            "tags": []
          },
          "execution_count": 14
        }
      ]
    },
    {
      "cell_type": "markdown",
      "metadata": {
        "id": "rTSrpfFwPOnU"
      },
      "source": [
        "## Gradient Descent\n",
        "\n",
        "Remember the algorithm for gradient descent:\n",
        "\n",
        "$repeat \\ \\{ \\\\ \\enspace \\theta_j := \\theta_j - \\alpha \\frac{1}{m}\\displaystyle\\sum_{i = 1}^{m}(h_\\theta(x^{(i)})-y^{(i)})x_j^{(i)}\\\\\\}$\n",
        "\n",
        "The vectorization for multivariate gradient descent:\n",
        "\n",
        "$\\theta := \\theta - \\frac{\\alpha}{m}X^T(X\\theta - \\vec{y})$\n",
        "\n",
        "**Exercise**: Implement gradient descent for multiple features. Make sure your solution is vectorized and supports any number of features."
      ]
    },
    {
      "cell_type": "code",
      "metadata": {
        "id": "8ycB_o6MPOnV",
        "colab": {
          "base_uri": "https://localhost:8080/"
        },
        "outputId": "5e6de0db-28a8-40b4-9ab1-9fd19b24cfc5"
      },
      "source": [
        "def gradient_descent_multi(X, y, theta, alpha, iterations):\n",
        "    m = len(y)\n",
        "    J_history = []\n",
        "    for i in range(iterations):\n",
        "        theta = theta - ((alpha/m) * X.transpose() @ (X @ theta - y))\n",
        "        J_history.append(float(cost_function(X, y, theta)))\n",
        "    return theta, J_history\n",
        "    \n",
        "alpha = 0.01\n",
        "iterations = 1500\n",
        "initial_theta = np.zeros((3,1))\n",
        "theta, J_history = gradient_descent_multi(X, y, initial_theta, alpha, iterations)\n",
        "theta"
      ],
      "execution_count": 15,
      "outputs": [
        {
          "output_type": "execute_result",
          "data": {
            "text/plain": [
              "array([[340412.56301439],\n",
              "       [109370.05670466],\n",
              "       [ -6500.61509507]])"
            ]
          },
          "metadata": {
            "tags": []
          },
          "execution_count": 15
        }
      ]
    },
    {
      "cell_type": "markdown",
      "metadata": {
        "id": "ldV5LA-yPOnV"
      },
      "source": [
        "As before we see how the cost decreases over time."
      ]
    },
    {
      "cell_type": "code",
      "metadata": {
        "id": "aWeJnsEAPOnV",
        "colab": {
          "base_uri": "https://localhost:8080/",
          "height": 307
        },
        "outputId": "fcc48d81-3387-4edc-beb1-f2355b8deec5"
      },
      "source": [
        "plt.plot(J_history)\n",
        "\n",
        "plt.xlabel('iteration')\n",
        "plt.ylabel('cost')"
      ],
      "execution_count": 16,
      "outputs": [
        {
          "output_type": "execute_result",
          "data": {
            "text/plain": [
              "Text(0, 0.5, 'cost')"
            ]
          },
          "metadata": {
            "tags": []
          },
          "execution_count": 16
        },
        {
          "output_type": "display_data",
          "data": {
            "image/png": "[encoded data removed]",
            "text/plain": [
              "<Figure size 432x288 with 1 Axes>"
            ]
          },
          "metadata": {
            "tags": [],
            "needs_background": "light"
          }
        }
      ]
    },
    {
      "cell_type": "markdown",
      "metadata": {
        "id": "7DA2FxCQPOnW"
      },
      "source": [
        "If we want to make a prediction on a normalized dataset, we have to normalize our input too."
      ]
    },
    {
      "cell_type": "code",
      "metadata": {
        "id": "mKGmwPNgPOnW",
        "colab": {
          "base_uri": "https://localhost:8080/",
          "height": 36
        },
        "outputId": "59a8d8db-88f9-43b3-e632-6d626e367e3d"
      },
      "source": [
        "price = theta.transpose() @ np.array([1, (1650-mu[1])/sigma[1], (3-mu[2])/sigma[2]]) # normalize the input\n",
        "'In a house of 1650 square feet with 3 rooms, we predict a price of $%.2f' % price"
      ],
      "execution_count": 17,
      "outputs": [
        {
          "output_type": "execute_result",
          "data": {
            "application/vnd.google.colaboratory.intrinsic+json": {
              "type": "string"
            },
            "text/plain": [
              "'In a house of 1650 square feet with 3 rooms, we predict a price of $293098.47'"
            ]
          },
          "metadata": {
            "tags": []
          },
          "execution_count": 17
        }
      ]
    },
    {
      "cell_type": "markdown",
      "metadata": {
        "id": "_2c3B7AFPOnW"
      },
      "source": [
        "### Using normal equations\n",
        "We can use normal equations to get the exact solution in only one calculation. Although using normal equations is very fast for a small datasets with a small number of features, it can be inefficient for larger datasets because the complexity of matrix multiplication is $O(n^3)$.\n",
        "\n",
        "The normal equation for linear regression is:\n",
        "\n",
        "$\\theta$ = $(X^TX)^{−1}X^T\\vec{y}$\n",
        "\n",
        "**Exercise**: Find theta using normal equations."
      ]
    },
    {
      "cell_type": "code",
      "metadata": {
        "id": "mVGjvJxkPOnW",
        "colab": {
          "base_uri": "https://localhost:8080/"
        },
        "outputId": "b68a341d-125b-41ee-9383-574002cbc680"
      },
      "source": [
        "theta"
      ],
      "execution_count": 18,
      "outputs": [
        {
          "output_type": "execute_result",
          "data": {
            "text/plain": [
              "array([[340412.56301439],\n",
              "       [109370.05670466],\n",
              "       [ -6500.61509507]])"
            ]
          },
          "metadata": {
            "tags": []
          },
          "execution_count": 18
        }
      ]
    },
    {
      "cell_type": "code",
      "metadata": {
        "id": "MYnYTym-POnW",
        "colab": {
          "base_uri": "https://localhost:8080/",
          "height": 36
        },
        "outputId": "fe74fdd1-8eea-45fe-bd2d-e98ade97aba5"
      },
      "source": [
        "price = theta.transpose() @ np.array([1, (1650-mu[1])/sigma[1], (3-mu[2])/sigma[2]]) # normalize the input\n",
        "'In a house of 1650 square feet with 3 rooms, we predict a price of $%.2f' % price"
      ],
      "execution_count": 19,
      "outputs": [
        {
          "output_type": "execute_result",
          "data": {
            "application/vnd.google.colaboratory.intrinsic+json": {
              "type": "string"
            },
            "text/plain": [
              "'In a house of 1650 square feet with 3 rooms, we predict a price of $293098.47'"
            ]
          },
          "metadata": {
            "tags": []
          },
          "execution_count": 19
        }
      ]
    }
  ]
}
