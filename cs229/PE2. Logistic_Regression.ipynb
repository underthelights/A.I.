{
  "nbformat": 4,
  "nbformat_minor": 0,
  "metadata": {
    "kernelspec": {
      "display_name": "Python 3",
      "language": "python",
      "name": "python3"
    },
    "language_info": {
      "codemirror_mode": {
        "name": "ipython",
        "version": 3
      },
      "file_extension": ".py",
      "mimetype": "text/x-python",
      "name": "python",
      "nbconvert_exporter": "python",
      "pygments_lexer": "ipython3",
      "version": "3.7.1"
    },
    "colab": {
      "name": "PE2 - Logistic Regression (Exercises).ipynb",
      "provenance": [],
      "collapsed_sections": [],
      "include_colab_link": true
    }
  },
  "cells": [
    {
      "cell_type": "markdown",
      "metadata": {
        "id": "view-in-github",
        "colab_type": "text"
      },
      "source": [
        "<a href=\"https://colab.research.google.com/github/underthelights/A.I./blob/main/cs229/PE2.%20Logistic_Regression.ipynb\" target=\"_parent\"><img src=\"https://colab.research.google.com/assets/colab-badge.svg\" alt=\"Open In Colab\"/></a>"
      ]
    },
    {
      "cell_type": "markdown",
      "metadata": {
        "id": "4w6RaBlGqqiH"
      },
      "source": [
        "# Linear Regression\n",
        "\n",
        "Stanford CS229 - Machine Learning by Andrew Ng. Programming exercise 2 with solutions.\n",
        "\n",
        "Please check out [the repository on GitHub](https://github.com/rickwierenga/CS229-Python/). If you spot any mistakes or inconcistencies, please create an issue. For questions you can find me on Twitter: [@rickwierenga](https://twitter.com/rickwierenga). Starring the project on GitHub means a ton to me!"
      ]
    },
    {
      "cell_type": "code",
      "metadata": {
        "id": "AECvP0C_qqiL"
      },
      "source": [
        "import numpy as np\n",
        "import pandas as pd\n",
        "import matplotlib.pylab as plt\n",
        "%matplotlib inline"
      ],
      "execution_count": 1,
      "outputs": []
    },
    {
      "cell_type": "code",
      "metadata": {
        "colab": {
          "base_uri": "https://localhost:8080/"
        },
        "id": "tXh4cKg0q2CC",
        "outputId": "f4e55990-6392-4911-8551-136397844c72"
      },
      "source": [
        "from google.colab import drive\n",
        "drive.mount('/content/drive')"
      ],
      "execution_count": 2,
      "outputs": [
        {
          "output_type": "stream",
          "text": [
            "Mounted at /content/drive\n"
          ],
          "name": "stdout"
        }
      ]
    },
    {
      "cell_type": "markdown",
      "metadata": {
        "id": "LdLz18TuqqiM"
      },
      "source": [
        "## Logistic Regression\n",
        "\n",
        "---\n",
        "Logistic regression is predicting in which category a given data point is. In binary classifiction, there are only two categories:\n",
        "\n",
        "$$y \\in \\{0,1\\}$$\n",
        "\n",
        "In this exercise, you will implement logistic regression and apply it to two different datasets. Before starting on the programming exercise, we strongly recommend watching the video lectures and completing the review questions for the associated topics."
      ]
    },
    {
      "cell_type": "code",
      "metadata": {
        "colab": {
          "base_uri": "https://localhost:8080/"
        },
        "id": "PELnuGbjqqiM",
        "outputId": "c534ab17-b6de-42d1-b493-dc92becdd1e6"
      },
      "source": [
        "# start by loading the data\n",
        "data = pd.read_csv(\"/content/drive/MyDrive/Colab Notebooks/cs229 @ Stanford/ex2/ex2data1.txt\", header = None,  names = [\"Exam 1 Score\", \"Exam 2 Score\", \"Accepted\"])\n",
        "\n",
        "# initialize some useful variables\n",
        "m = len(data[\"Accepted\"])\n",
        "x0 = np.ones(m)\n",
        "size = np.array((data[\"Exam 1 Score\"]))\n",
        "bedrooms = np.array((data[\"Exam 2 Score\"]))\n",
        "X = np.array([x0, size, bedrooms]).T\n",
        "y = np.array(data[\"Accepted\"]).reshape((m,1))\n",
        "m, n = X.shape\n",
        "\n",
        "X[:5]"
      ],
      "execution_count": 3,
      "outputs": [
        {
          "output_type": "execute_result",
          "data": {
            "text/plain": [
              "array([[ 1.        , 34.62365962, 78.02469282],\n",
              "       [ 1.        , 30.28671077, 43.89499752],\n",
              "       [ 1.        , 35.84740877, 72.90219803],\n",
              "       [ 1.        , 60.18259939, 86.3085521 ],\n",
              "       [ 1.        , 79.03273605, 75.34437644]])"
            ]
          },
          "metadata": {
            "tags": []
          },
          "execution_count": 3
        }
      ]
    },
    {
      "cell_type": "markdown",
      "metadata": {
        "id": "aVRHfdNnqqiO"
      },
      "source": [
        "### Visualising the data\n",
        "A blue cross means accepted. A yellow oval means rejected."
      ]
    },
    {
      "cell_type": "code",
      "metadata": {
        "colab": {
          "base_uri": "https://localhost:8080/",
          "height": 265
        },
        "id": "tVWHqHfuqqiO",
        "outputId": "6a57ef19-b04a-4d31-b60a-26a8a0c0d2b6"
      },
      "source": [
        "# Find indices of positive and negative examples\n",
        "pos = np.where(y==1)[0]\n",
        "neg = np.where(y==0)[0]\n",
        "\n",
        "# Plot examples\n",
        "plt.plot(X[pos, 1], X[pos, 2], 'b+', label='Admitted')\n",
        "plt.plot(X[neg, 1], X[neg, 2], 'yo', label='Not admitted')\n",
        "plt.legend()\n",
        "plt.show()"
      ],
      "execution_count": 4,
      "outputs": [
        {
          "output_type": "display_data",
          "data": {
            "image/png": "[encoded data removed]",
            "text/plain": [
              "<Figure size 432x288 with 1 Axes>"
            ]
          },
          "metadata": {
            "tags": [],
            "needs_background": "light"
          }
        }
      ]
    },
    {
      "cell_type": "markdown",
      "metadata": {
        "id": "bvjlThQzqqiP"
      },
      "source": [
        "### Sigmoid\n",
        "The sigmoid function, or logistic function, is a function that asymptotes at 0 and 1. The value at 0 is $\\frac{1}{2}$.\n",
        "\n",
        "$h_\\theta(x) = g(\\theta^Tx) = g(z) = \\frac{1}{1+ e^{-z}} = \\frac{1}{1+ e^{-\\theta^Tx}}$\n",
        "\n",
        "\n",
        "We are going to use the sigmoid function to predict how likely it is that a given data point is in category 0. Our hypothesis:\n",
        "\n",
        "$h_\\theta(x) = P(y = 0|x;\\theta)$\n",
        "\n",
        "Because there are only two categories (in this case), we can derrive that:\n",
        "\n",
        "$P(y = 0|x;\\theta) + P(y = 1|x;\\theta)= 1$\n",
        "\n",
        "**Exercise**: Implement the sigmoid function in Python."
      ]
    },
    {
      "cell_type": "code",
      "metadata": {
        "id": "VCHHYeCrqqiP"
      },
      "source": [
        "def sigmoid(z):\n",
        "    return 1 / (1 + np.exp(-z))"
      ],
      "execution_count": 5,
      "outputs": []
    },
    {
      "cell_type": "markdown",
      "metadata": {
        "id": "gnFPXbrhqqiQ"
      },
      "source": [
        "### Compute the Cost and Gradient\n",
        "\n",
        "#### The cost function\n",
        "\n",
        "The cost function in logistic regression differs from the one used in linear regression. The cost function in logistic regression:\n",
        "\n",
        "$$J(\\theta) = - \\begin{bmatrix}\\frac{1}{m}\\displaystyle\\sum_{i=1}^{m}-y^{(i)}\\log h(x^{(i)}-(1-y^{(i)})\\log(1-h_\\theta(x^{(i)}))\\end{bmatrix}$$\n",
        "\n",
        "Assume our hypothesis for an example is wrong, the higher probability $h_\\theta$ had predicted, the higher the penatly.\n",
        "\n",
        "A vectorized version of the cost function:\n",
        "\n",
        "$$J(\\theta) = \\frac{1}{m} ⋅(−y^T \\log(h)−(1−y)^T \\log(1−h))$$\n",
        "\n",
        "**Exercise**: Implement the vectorized cost function in Python."
      ]
    },
    {
      "cell_type": "code",
      "metadata": {
        "id": "i5QR4SEvqqiQ"
      },
      "source": [
        "def compute_cost(theta, X, y):\n",
        "  h = sigmoid(X @ theta)\n",
        "  return (-y.T @ np.log(h) - (1-y).T @ np.log(1-h)) / (len(y))"
      ],
      "execution_count": 6,
      "outputs": []
    },
    {
      "cell_type": "markdown",
      "metadata": {
        "id": "k7RX0nwrqqiQ"
      },
      "source": [
        "#### The gradient\n",
        "\n",
        "The gradient is the step a minimization algorithm, like gradient descent, takes to get to the (local) minimum. Note that this step can be taken in a higher dimension and hence the gradient is a vector. In the previous programming exercise we used gradient descent. This time, we are going to use an algorithm called conjugate gradient to find the minimum. How that algorithm works is beyond the scope if this course. If you are interested, you can learn more about it [here](https://en.wikipedia.org/wiki/Conjugate_gradient_method).\n",
        "\n",
        "The partial derrivative or $J(\\theta)$:\n",
        "\n",
        "$$\\frac{\\delta}{\\delta\\theta_J} = \\frac{1}{m}\\displaystyle\\sum_{i = 1}^{m} \\begin{bmatrix}(h_\\theta(x^{(i)}) - y^{(i)}\\end{bmatrix}x_j^{(i)}$$\n",
        "\n",
        "Vectorized:\n",
        "\n",
        "$$\\frac{\\delta}{\\delta\\theta_J} = \\frac{1}{m} \\cdot X^T \\cdot (g(X\\cdot\\theta)-\\vec{y})$$\n",
        "\n",
        "**Exercise**: Write a function to compute the gradient."
      ]
    },
    {
      "cell_type": "code",
      "metadata": {
        "id": "VHIly_nBqqiR"
      },
      "source": [
        "def compute_gradient(theta, X, y):\n",
        "  m = len(y)\n",
        "  h = sigmoid(X @ theta)\n",
        "  return (X.T @ (h-y))/m"
      ],
      "execution_count": 9,
      "outputs": []
    },
    {
      "cell_type": "markdown",
      "metadata": {
        "id": "bp2fdjawqqiR"
      },
      "source": [
        "Test the cost and gradient function. We expect $J \\approx 0.693$ and $\\frac{\\delta}{\\delta\\theta_J} \\approx \\begin{bmatrix}-0.1000 & -12.0092 & -11.2628 \\end{bmatrix}$"
      ]
    },
    {
      "cell_type": "code",
      "metadata": {
        "colab": {
          "base_uri": "https://localhost:8080/"
        },
        "id": "vWv7_RpDqqiR",
        "outputId": "ee1010f7-98de-4e14-d490-ae161a5ffb95"
      },
      "source": [
        "initial_theta = np.zeros(n)\n",
        "y = y.reshape(m)\n",
        "print('Cost: \\n{}\\n'.format(compute_cost(initial_theta, X, y)))\n",
        "print('Gradient: \\n{}'.format(compute_gradient(initial_theta, X, y)))"
      ],
      "execution_count": 11,
      "outputs": [
        {
          "output_type": "stream",
          "text": [
            "Cost: \n",
            "0.6931471805599453\n",
            "\n",
            "Gradient: \n",
            "[ -0.1        -12.00921659 -11.26284221]\n"
          ],
          "name": "stdout"
        }
      ]
    },
    {
      "cell_type": "markdown",
      "metadata": {
        "id": "Pw4U5b_vqqiR"
      },
      "source": [
        "### Learning $\\theta$ using conjugate gradient\n",
        "\n",
        "The optimization library we are going to use is `scipy.optimize`. We have to provide the algorithm with our cost function, initial guess, gradient among with some other (optional) configuration options.\n",
        "\n",
        "Please scan [the docs](https://docs.scipy.org/doc/scipy/reference/generated/scipy.optimize.minimize.html) of `minimize` first."
      ]
    },
    {
      "cell_type": "code",
      "metadata": {
        "scrolled": true,
        "colab": {
          "base_uri": "https://localhost:8080/"
        },
        "id": "LmxiqT77qqiS",
        "outputId": "1848e35a-2b39-43ce-c74d-10547e150224"
      },
      "source": [
        "from scipy.optimize import minimize\n",
        "result = minimize(compute_cost, initial_theta, args = (X, y),\n",
        "                   method = 'CG', jac = compute_gradient, \n",
        "                   options = {\"maxiter\": 400, \"disp\" : 1})\n",
        "theta = result.x\n",
        "print('Conjugate gradient found the following values for theta: {}'.format(theta))"
      ],
      "execution_count": 12,
      "outputs": [
        {
          "output_type": "stream",
          "text": [
            "Optimization terminated successfully.\n",
            "         Current function value: 0.203498\n",
            "         Iterations: 59\n",
            "         Function evaluations: 134\n",
            "         Gradient evaluations: 134\n",
            "Conjugate gradient found the following values for theta: [-25.17336152   0.20632796   0.20156889]\n"
          ],
          "name": "stdout"
        },
        {
          "output_type": "stream",
          "text": [
            "/usr/local/lib/python3.7/dist-packages/ipykernel_launcher.py:3: RuntimeWarning: divide by zero encountered in log\n",
            "  This is separate from the ipykernel package so we can avoid doing imports until\n",
            "/usr/local/lib/python3.7/dist-packages/ipykernel_launcher.py:3: RuntimeWarning: invalid value encountered in matmul\n",
            "  This is separate from the ipykernel package so we can avoid doing imports until\n"
          ],
          "name": "stderr"
        }
      ]
    },
    {
      "cell_type": "markdown",
      "metadata": {
        "id": "_rexeatKqqiS"
      },
      "source": [
        "### The decision boundary\n",
        "The decision boundary is a line (in case of a 2d plane) that seperates the area where we predict $y=1$ and $y=0$."
      ]
    },
    {
      "cell_type": "code",
      "metadata": {
        "colab": {
          "base_uri": "https://localhost:8080/",
          "height": 282
        },
        "id": "B8oxuJ_OqqiS",
        "outputId": "0d18c05e-674d-4e64-da9d-be029ac8bbb1"
      },
      "source": [
        "# Find indices of positive and negative examples\n",
        "pos = np.where(y==1)[0]\n",
        "neg = np.where(y==0)[0]\n",
        "\n",
        "# Plot examples\n",
        "plt.plot(X[pos, 1], X[pos, 2], 'b+', label='Admitted')\n",
        "plt.plot(X[neg, 1], X[neg, 2], 'yo', label='Not admitted')\n",
        "plt.legend()\n",
        "\n",
        "# Plot the decision boundary\n",
        "plot_x = np.array([min(X[:,1])-2,  max(X[:,1])+2])\n",
        "plot_y = (-1./theta[2]) * ((theta[1] * (plot_x) + theta[0]))\n",
        "\n",
        "plt.plot(plot_x, plot_y, label='Decision boundary')\n",
        "\n",
        "# Legend, specific for the exercise\n",
        "plt.legend()"
      ],
      "execution_count": 13,
      "outputs": [
        {
          "output_type": "execute_result",
          "data": {
            "text/plain": [
              "<matplotlib.legend.Legend at 0x7f0c81767f90>"
            ]
          },
          "metadata": {
            "tags": []
          },
          "execution_count": 13
        },
        {
          "output_type": "display_data",
          "data": {
            "image/png": "[encoded data removed]",
            "text/plain": [
              "<Figure size 432x288 with 1 Axes>"
            ]
          },
          "metadata": {
            "tags": [],
            "needs_background": "light"
          }
        }
      ]
    },
    {
      "cell_type": "markdown",
      "metadata": {
        "id": "adNgm9WXqqiT"
      },
      "source": [
        "### Evaluation\n",
        "#### Probability that a given student will be admitted"
      ]
    },
    {
      "cell_type": "code",
      "metadata": {
        "colab": {
          "base_uri": "https://localhost:8080/"
        },
        "id": "15xVWzWlqqiT",
        "outputId": "1e389f76-fb40-468d-88e1-31d408049112"
      },
      "source": [
        "prob = sigmoid(np.array([1, 45, 85]).dot(theta))\n",
        "print('For a student with scores 45 and 85, we predict an admission probability of {:.2}'.format(prob))"
      ],
      "execution_count": 14,
      "outputs": [
        {
          "output_type": "stream",
          "text": [
            "For a student with scores 45 and 85, we predict an admission probability of 0.78\n"
          ],
          "name": "stdout"
        }
      ]
    },
    {
      "cell_type": "markdown",
      "metadata": {
        "id": "gucQQJwbqqiT"
      },
      "source": [
        "#### Accuracy\n",
        "It's often a good idea to see how well your model trained. You can do that by checking how much datapoints we can predict correctly using $\\theta$. In a real world application, you should consider splitting your data (eg 80% - 20%) and test on data the model has not seen before. This gives you more realistic insight in how your model would perform in the real world - and that's your ultimate goal ;)\n",
        "\n",
        "In this example, we expect a training accuracy of 89.0%."
      ]
    },
    {
      "cell_type": "code",
      "metadata": {
        "colab": {
          "base_uri": "https://localhost:8080/"
        },
        "id": "d6u7tSYeqqiT",
        "outputId": "6c24f43d-7b3b-4824-bbb0-8b16eb392474"
      },
      "source": [
        "p = np.zeros((m, 1))\n",
        "for (i, example) in enumerate(X):\n",
        "    prob = sigmoid(np.array(example.dot(theta)))\n",
        "    if prob >= 0.5:\n",
        "        p[i] = 1\n",
        "    else:\n",
        "        p[i] = 0\n",
        "print('Training Accuracy: {}%'.format(np.mean(p == y.reshape((m, 1))) * 100))"
      ],
      "execution_count": 15,
      "outputs": [
        {
          "output_type": "stream",
          "text": [
            "Training Accuracy: 89.0%\n"
          ],
          "name": "stdout"
        }
      ]
    },
    {
      "cell_type": "markdown",
      "metadata": {
        "id": "XEmOnnQPqqiU"
      },
      "source": [
        "## Regularized linear regression\n",
        "\n",
        "---\n",
        "Regularization is a meganism for preventing overfitting. _Overfitting_ means that our model works extremely well on the training set but bad in the real world. It's focussed on the training data. _Underfitting_ is either a not well trained model or the feature mapping is not done (correctly). We will use regularization in this exercise. Furtermore, we are going to look at a more complex decision boundary\n",
        "\n",
        "In this part of the exercise, you will implement regularized logistic regression to predict whether microchips from a fabrication plant passes quality assur- ance (QA). During QA, each microchip goes through various tests to ensure it is functioning correctly.\n",
        "\n",
        "Suppose you are the product manager of the factory and you have the test results for some microchips on two different tests. From these two tests, you would like to determine whether the microchips should be accepted or rejected. To help you make the decision, you have a dataset of test results on past microchips, from which you can build a logistic regression model."
      ]
    },
    {
      "cell_type": "code",
      "metadata": {
        "colab": {
          "base_uri": "https://localhost:8080/"
        },
        "id": "93B-FDjYqqiU",
        "outputId": "9525226a-fe5c-43c1-e873-96bf7a884755"
      },
      "source": [
        "# start by loading the data\n",
        "data = pd.read_csv(\"/content/drive/MyDrive/Colab Notebooks/cs229 @ Stanford/ex2/ex2data2.txt\", header = None, names = [\"Test 1\", \"Test 2\", \"Status\"])\n",
        "\n",
        "# initialize some useful variables\n",
        "m = len(data[\"Status\"])\n",
        "size = np.array((data[\"Test 1\"]))\n",
        "bedrooms = np.array((data[\"Test 2\"]))\n",
        "X = np.array([size, bedrooms]).T # don't add a column of ones yet.\n",
        "y = np.array(data[\"Status\"])\n",
        "\n",
        "X[:5]"
      ],
      "execution_count": 16,
      "outputs": [
        {
          "output_type": "execute_result",
          "data": {
            "text/plain": [
              "array([[ 0.051267,  0.69956 ],\n",
              "       [-0.092742,  0.68494 ],\n",
              "       [-0.21371 ,  0.69225 ],\n",
              "       [-0.375   ,  0.50219 ],\n",
              "       [-0.51325 ,  0.46564 ]])"
            ]
          },
          "metadata": {
            "tags": []
          },
          "execution_count": 16
        }
      ]
    },
    {
      "cell_type": "markdown",
      "metadata": {
        "id": "uaCJbPa8qqiU"
      },
      "source": [
        "### Visualising the data"
      ]
    },
    {
      "cell_type": "code",
      "metadata": {
        "colab": {
          "base_uri": "https://localhost:8080/",
          "height": 265
        },
        "id": "0LlPAh31qqiU",
        "outputId": "eba78a9a-8552-4310-822e-deea2d31c756"
      },
      "source": [
        "# Find indices of positive and negative examples\n",
        "pos = np.where(y==1)[0]\n",
        "neg = np.where(y==0)[0]\n",
        "\n",
        "# Plot examples\n",
        "plt.plot(X[pos, 0], X[pos, 1], 'b+', label='Admitted')\n",
        "plt.plot(X[neg, 0], X[neg, 1], 'yo', label='Not admitted')\n",
        "plt.legend()\n",
        "plt.show()"
      ],
      "execution_count": 17,
      "outputs": [
        {
          "output_type": "display_data",
          "data": {
            "image/png": "[encoded data removed]",
            "text/plain": [
              "<Figure size 432x288 with 1 Axes>"
            ]
          },
          "metadata": {
            "tags": [],
            "needs_background": "light"
          }
        }
      ]
    },
    {
      "cell_type": "markdown",
      "metadata": {
        "id": "TyMdf_8tqqiV"
      },
      "source": [
        "### Feature Mapping\n",
        "\n",
        "One way to fit the data better is to create more features from each data point. While the feature mapping allows us to build a more expressive classifier, it also more susceptible to overfitting. This will also add $x_0$."
      ]
    },
    {
      "cell_type": "code",
      "metadata": {
        "id": "xhvBonayqqiV"
      },
      "source": [
        "def map_feature(X1, X2, degree):\n",
        "    if not type(X1) == np.ndarray:\n",
        "        X1 = np.array([X1])\n",
        "\n",
        "    if not type(X2) == np.ndarray:\n",
        "        X2 = np.array([X2])\n",
        "\n",
        "    assert X1.shape == X2.shape\n",
        "    \n",
        "    out = np.ones((len(X1), 1))\n",
        "    for i in range(1, degree+1):\n",
        "        for j in range(i + 1):\n",
        "            new = (X1 ** (i-j) * X2 ** j).reshape(len(X1), 1)\n",
        "            out = np.hstack((out, new))\n",
        "    return out\n",
        "\n",
        "X = map_feature(X[:,0], X[:,1], degree=6)\n",
        "m, n = X.shape"
      ],
      "execution_count": 18,
      "outputs": []
    },
    {
      "cell_type": "markdown",
      "metadata": {
        "id": "Jpj6NH1MqqiV"
      },
      "source": [
        "### Computing Cost and Gradient\n",
        "#### Cost function\n",
        "Regularization works by penalizing theta. Theta values can be high when an overfit occurs so we prefer to keep them low. $\\lambda$ is the regularization parameter. If $\\lambda=0$, no regularization happens. If $\\lambda$ is some big number, $\\theta$ has a very high penalty. Just like the learning rate $\\alpha$ you have to try out certain values and see which work.\n",
        "\n",
        "The cost function with regularization:\n",
        "\n",
        "$$J(\\theta) = \\frac{1}{m}\\displaystyle\\sum_{i=1}^{m}-\\begin{bmatrix}y^{(i)}\\log h(x^{(i)})+(1-y^{(i)}\\log(1-h_\\theta(x^{(i)})) \\end{bmatrix} + \\frac{\\lambda}{m}\\displaystyle\\sum_{j=1}^{n}{\\theta_j}^2$$\n",
        "\n",
        "**Exercise**: Implement the regularized cost function."
      ]
    },
    {
      "cell_type": "code",
      "metadata": {
        "id": "hSDoY1ZzqqiW"
      },
      "source": [
        "def compute_regularized_cost(theta, X, y, _lambda):\n",
        "  h = sigmoid(X@theta)\n",
        "  m = len(y)\n",
        "  reg = (_lambda)*(np.sum(theta[1:] **2 ))/(m)\n",
        "  cost = np.sum(-y@np.log(h) - (1-y)@np.log(1-h))/(m)\n",
        "  return cost + reg"
      ],
      "execution_count": 22,
      "outputs": []
    },
    {
      "cell_type": "markdown",
      "metadata": {
        "id": "CI0u28A0qqiW"
      },
      "source": [
        "#### Gradient descent\n",
        "Gradient descent, just like the cost function, is slightly modified for regularization.\n",
        "\n",
        "For $\\theta_{j}$ where $j = 0$: \n",
        "\n",
        "$$\\theta_j := \\theta_j -\\alpha \\begin{bmatrix}\\frac{1}{m}\\displaystyle\\sum_{i=1}^{m}(h_\\theta(x^{(i)}-y^{(i)}){x_0}^{(i)}\\end{bmatrix}$$\n",
        "\n",
        "For $\\theta_{j}$ where $j \\in \\{1, 2, ..., n\\} $: \n",
        "\n",
        "$$\\theta_j := \\theta_j -\\alpha \\begin{bmatrix}\\frac{1}{m}\\displaystyle\\sum_{i=1}^{m}(h_\\theta(x^{(i)}-y^{(i)})x_j^{(i)} + \\frac{\\lambda}{m}{\\theta_j} \\end{bmatrix}$$\n",
        "\n",
        "Note that we don't penalize our bias vector $X_1$.\n",
        "\n",
        "**Exercise**: Implement `compute_regularized_gradient`."
      ]
    },
    {
      "cell_type": "code",
      "metadata": {
        "id": "_RBMsG-iqqiW"
      },
      "source": [
        "def compute_regularized_gradient(theta, X, y, _lambda):\n",
        "    m = len(y)\n",
        "    grad = np.ones(len(theta))\n",
        "\n",
        "    h = sigmoid(X @ theta)\n",
        "    grad = (X.T @ (h - y))/m\n",
        "    reg = (_lambda * theta)/m\n",
        "    reg[0] = 0\n",
        "\n",
        "    return grad + reg"
      ],
      "execution_count": 37,
      "outputs": []
    },
    {
      "cell_type": "markdown",
      "metadata": {
        "id": "QFfGV_5HqqiW"
      },
      "source": [
        "We expect: $J \\approx 0.693$ and the first five values of $\\theta$: $\\begin{bmatrix} 0.0085 && 0.0188 && 0.0001 && 0.0503 && 0.0115 \\end{bmatrix}$"
      ]
    },
    {
      "cell_type": "code",
      "metadata": {
        "colab": {
          "base_uri": "https://localhost:8080/"
        },
        "id": "ZXtR72iQqqiW",
        "outputId": "c6956de6-985d-479f-b81a-9d73cddb547e"
      },
      "source": [
        "_lambda = 1\n",
        "initial_theta = np.ones(n)\n",
        "\n",
        "cost = compute_regularized_cost(initial_theta, X, y, _lambda)\n",
        "grad = compute_regularized_gradient(initial_theta, X, y, _lambda)\n",
        "\n",
        "print('Cost at initial theta (zeros): {:.3}'.format(cost))\n",
        "print('Gradient at initial theta (zeros) - first five values only: \\n{}'.format(grad[:5]))"
      ],
      "execution_count": 38,
      "outputs": [
        {
          "output_type": "stream",
          "text": [
            "Cost at initial theta (zeros): 2.25\n",
            "Gradient at initial theta (zeros) - first five values only: \n",
            "[0.34604507 0.08508073 0.11852457 0.1505916  0.01591449]\n"
          ],
          "name": "stdout"
        }
      ]
    },
    {
      "cell_type": "markdown",
      "metadata": {
        "id": "f_O8oUSnqqiX"
      },
      "source": [
        "Find an optimimal value for theta using conjugate gradient."
      ]
    },
    {
      "cell_type": "code",
      "metadata": {
        "colab": {
          "base_uri": "https://localhost:8080/"
        },
        "id": "Lb6w182FqqiX",
        "outputId": "e7996cbc-7d98-413d-d223-524a526d5eff"
      },
      "source": [
        "from scipy.optimize import minimize\n",
        "result = minimize(compute_regularized_cost, initial_theta, args = (X, y, _lambda),\n",
        "                  method = 'CG', jac = compute_regularized_gradient, \n",
        "                  options = {\"maxiter\": 400, \"disp\" : 1})\n",
        "theta = result.x\n",
        "print('Conjugate gradient found the following values for theta - first five values only: {}'.format(theta[:5]))"
      ],
      "execution_count": 39,
      "outputs": [
        {
          "output_type": "stream",
          "text": [
            "Warning: Desired error not necessarily achieved due to precision loss.\n",
            "         Current function value: 0.589830\n",
            "         Iterations: 7\n",
            "         Function evaluations: 60\n",
            "         Gradient evaluations: 49\n",
            "Conjugate gradient found the following values for theta - first five values only: [ 0.94200235  0.1534359   0.67869584 -1.58326961 -0.68280574]\n"
          ],
          "name": "stdout"
        }
      ]
    },
    {
      "cell_type": "markdown",
      "metadata": {
        "id": "1LdFI0WUqqiX"
      },
      "source": [
        "### Plotting the decision boundary\n",
        "We can plot a more complex decision boundary using `np.linspace` and `contour`."
      ]
    },
    {
      "cell_type": "code",
      "metadata": {
        "colab": {
          "base_uri": "https://localhost:8080/",
          "height": 286
        },
        "id": "yBVYQBYHqqiX",
        "outputId": "ca9b880e-0ad0-4d7a-b5db-e9e85e010883"
      },
      "source": [
        "# Find indices of positive and negative examples\n",
        "pos = np.where(y==1)[0]\n",
        "neg = np.where(y==0)[0]\n",
        "\n",
        "# Plot examples\n",
        "plt.plot(X[pos, 1], X[pos, 2], 'b+', label='Admitted')\n",
        "plt.plot(X[neg, 1], X[neg, 2], 'yo', label='Not admitted')\n",
        "plt.legend()\n",
        "\n",
        "# Here is the grid range\n",
        "u = np.linspace(-1, 1.5, 50).reshape(50)\n",
        "v = np.linspace(-1, 1.5, 50).reshape(50)\n",
        "z = np.zeros((len(u), len(v)))\n",
        "\n",
        "# Evaluate z = theta*x over the grid\n",
        "for i in range(len(u)):\n",
        "    for j in range(len(v)):\n",
        "        z[i,j] = map_feature(u[i], v[j], degree=6).dot(theta)\n",
        "\n",
        "# Plot z = 0\n",
        "# Notice you need to specify the range [0, 0]\n",
        "#z = z.reshape(len(u), len(v))\n",
        "plt.contour(u, v, z.T, 0)"
      ],
      "execution_count": 40,
      "outputs": [
        {
          "output_type": "execute_result",
          "data": {
            "text/plain": [
              "<matplotlib.contour.QuadContourSet at 0x7f0c71564190>"
            ]
          },
          "metadata": {
            "tags": []
          },
          "execution_count": 40
        },
        {
          "output_type": "display_data",
          "data": {
            "image/png": "[encoded data removed]",
            "text/plain": [
              "<Figure size 432x288 with 1 Axes>"
            ]
          },
          "metadata": {
            "tags": [],
            "needs_background": "light"
          }
        }
      ]
    },
    {
      "cell_type": "markdown",
      "metadata": {
        "id": "XakQXnZjqqiX"
      },
      "source": [
        "### Exploring regularization\n",
        "As mentioned before, $\\lambda$ is used to control the problem of overfitting. In the following graphs, models trained with different values of lambda are shown to give you some intuition on the problem of over/underfitting."
      ]
    },
    {
      "cell_type": "code",
      "metadata": {
        "id": "22WXmegxqqiY"
      },
      "source": [
        "def create_plot_for_lambda(X, y, _lambda):\n",
        "    from scipy.optimize import minimize\n",
        "    result = minimize(compute_regularized_cost, initial_theta, args = (X, y, _lambda),\n",
        "                      method = 'CG', jac = compute_regularized_gradient, \n",
        "                      options = {\"maxiter\": 400, \"disp\" : 1})\n",
        "    theta = result.x\n",
        "    print('Conjugate gradient found the following values for theta - first five values only: {}'.format(theta[:5]))\n",
        "\n",
        "    # Find indices of positive and negative examples\n",
        "    pos = np.where(y==1)[0]\n",
        "    neg = np.where(y==0)[0]\n",
        "\n",
        "    # Plot examples\n",
        "    plt.plot(X[pos, 1], X[pos, 2], 'b+', label='Admitted')\n",
        "    plt.plot(X[neg, 1], X[neg, 2], 'yo', label='Not admitted')\n",
        "    plt.legend()\n",
        "\n",
        "    # Here is the grid range\n",
        "    u = np.linspace(-1, 1.5, 50).reshape(50)\n",
        "    v = np.linspace(-1, 1.5, 50).reshape(50)\n",
        "    z = np.zeros((len(u), len(v)))\n",
        "\n",
        "    # Evaluate z = theta*x over the grid\n",
        "    for i in range(len(u)):\n",
        "        for j in range(len(v)):\n",
        "            z[i,j] = map_feature(u[i], v[j], degree=6).dot(theta)\n",
        "\n",
        "    # Plot z = 0\n",
        "    # Notice you need to specify the range [0, 0]\n",
        "    #z = z.reshape(len(u), len(v))\n",
        "    plt.contour(u, v, z.T, 0)"
      ],
      "execution_count": 41,
      "outputs": []
    },
    {
      "cell_type": "markdown",
      "metadata": {
        "id": "ANJ7K2e7qqiY"
      },
      "source": [
        "#### Overfitting\n",
        "Remember: overfitting means the model probably only works on the training set and not well in the real world. If you model is overfit, consider adding regularization or choosing a higher value for $\\lambda$.\n",
        "\n",
        "You can check out other values of $\\lambda$ yourself."
      ]
    },
    {
      "cell_type": "code",
      "metadata": {
        "colab": {
          "base_uri": "https://localhost:8080/",
          "height": 371
        },
        "id": "QHVBClULqqiY",
        "outputId": "26527cf7-41f5-4c36-da97-eb7090d9b28b"
      },
      "source": [
        "create_plot_for_lambda(X, y, 0)"
      ],
      "execution_count": 42,
      "outputs": [
        {
          "output_type": "stream",
          "text": [
            "Warning: Maximum number of iterations has been exceeded.\n",
            "         Current function value: 0.281313\n",
            "         Iterations: 400\n",
            "         Function evaluations: 1457\n",
            "         Gradient evaluations: 1457\n",
            "Conjugate gradient found the following values for theta - first five values only: [ 2.55388984 -1.45397102  2.37238065 -6.9409929  -8.42106648]\n"
          ],
          "name": "stdout"
        },
        {
          "output_type": "display_data",
          "data": {
            "image/png": "[encoded data removed]",
            "text/plain": [
              "<Figure size 432x288 with 1 Axes>"
            ]
          },
          "metadata": {
            "tags": [],
            "needs_background": "light"
          }
        }
      ]
    },
    {
      "cell_type": "markdown",
      "metadata": {
        "id": "H4DSKz-FqqiY"
      },
      "source": [
        "#### Underfitting\n",
        "Underfitting means the model is not well trained. Having a high $\\lambda$ can cause underfitting."
      ]
    },
    {
      "cell_type": "code",
      "metadata": {
        "colab": {
          "base_uri": "https://localhost:8080/",
          "height": 371
        },
        "id": "_2at0JIXqqiY",
        "outputId": "b944a987-c0e7-4638-fbff-0eb3f56f909b"
      },
      "source": [
        "create_plot_for_lambda(X, y, 10)"
      ],
      "execution_count": 43,
      "outputs": [
        {
          "output_type": "stream",
          "text": [
            "Warning: Desired error not necessarily achieved due to precision loss.\n",
            "         Current function value: 0.675377\n",
            "         Iterations: 5\n",
            "         Function evaluations: 61\n",
            "         Gradient evaluations: 50\n",
            "Conjugate gradient found the following values for theta - first five values only: [ 0.25270379 -0.0656864   0.1165246  -0.39811783 -0.10922469]\n"
          ],
          "name": "stdout"
        },
        {
          "output_type": "display_data",
          "data": {
            "image/png": "[encoded data removed]",
            "text/plain": [
              "<Figure size 432x288 with 1 Axes>"
            ]
          },
          "metadata": {
            "tags": [],
            "needs_background": "light"
          }
        }
      ]
    },
    {
      "cell_type": "markdown",
      "metadata": {
        "id": "8a5EW0HVqqiY"
      },
      "source": [
        "#### Underfitting$^2$\n",
        "This is what model trained with an extremely high value of $\\lambda$ looks like:"
      ]
    },
    {
      "cell_type": "code",
      "metadata": {
        "colab": {
          "base_uri": "https://localhost:8080/",
          "height": 371
        },
        "id": "sud3U0tLqqiZ",
        "outputId": "f6a8a44c-7c4a-435f-dbd7-29f445a8cf2c"
      },
      "source": [
        "create_plot_for_lambda(X, y, 130)"
      ],
      "execution_count": 44,
      "outputs": [
        {
          "output_type": "stream",
          "text": [
            "Warning: Desired error not necessarily achieved due to precision loss.\n",
            "         Current function value: 0.692389\n",
            "         Iterations: 4\n",
            "         Function evaluations: 98\n",
            "         Gradient evaluations: 86\n",
            "Conjugate gradient found the following values for theta - first five values only: [ 0.0060599  -0.00961326  0.00685227 -0.04014306 -0.00995456]\n"
          ],
          "name": "stdout"
        },
        {
          "output_type": "display_data",
          "data": {
            "image/png": "[encoded data removed]",
            "text/plain": [
              "<Figure size 432x288 with 1 Axes>"
            ]
          },
          "metadata": {
            "tags": [],
            "needs_background": "light"
          }
        }
      ]
    },
    {
      "cell_type": "markdown",
      "metadata": {
        "id": "t29m9gEMqqiZ"
      },
      "source": [
        "### Adjusted normal equation\n",
        "As you would have expected, the normal equation changes when you add normalization to your machine learning model. The adjusted version of the normal equation: \n",
        "\n",
        "$$\\theta=(X^TX+\\lambda\\begin{bmatrix} 0&\\dotsi&\\dotsi&\\dotsi &0\\\\\\vdots &1&0& 0 & \\vdots&\\\\\\vdots&0&1 &0 & \\vdots\\\\\\vdots&0&0&1&\\vdots\\\\0&\\dotsi&\\dotsi&\\dotsi&1 \\end{bmatrix})^{-1}X^Ty$$\n",
        "\n",
        "If $m < n$, $X$ is [non-invertable](https://www.quora.com/What-is-a-non-invertible-matrix-What-are-some-examples)."
      ]
    },
    {
      "cell_type": "code",
      "metadata": {
        "colab": {
          "base_uri": "https://localhost:8080/"
        },
        "id": "Aq4xvwS1qqiZ",
        "outputId": "a09ffea0-4d4d-41b6-f9d8-5317d3b831e9"
      },
      "source": [
        "L = np.eye(n)\n",
        "L[0] = 0\n",
        "_lambda = 1\n",
        "theta = np.linalg.inv(X.T @ X + _lambda * L)@X.T@y\n",
        "theta"
      ],
      "execution_count": 45,
      "outputs": [
        {
          "output_type": "execute_result",
          "data": {
            "text/plain": [
              "array([ 0.94416708,  0.2315894 ,  0.41142826, -0.7380916 , -0.50116657,\n",
              "       -0.69193639,  0.1003575 , -0.10718673, -0.06667559, -0.05556887,\n",
              "       -0.45471969,  0.09321721, -0.23956536, -0.07088082, -0.40279421,\n",
              "        0.04618662, -0.01432296,  0.04153635, -0.10356044, -0.02654812,\n",
              "        0.05619122, -0.18296629,  0.12363998, -0.11445861,  0.06788982,\n",
              "       -0.10602358,  0.04149463, -0.05781815])"
            ]
          },
          "metadata": {
            "tags": []
          },
          "execution_count": 45
        }
      ]
    }
  ]
}