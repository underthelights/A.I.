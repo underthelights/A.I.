{
  "nbformat": 4,
  "nbformat_minor": 0,
  "metadata": {
    "kernelspec": {
      "display_name": "Python 3",
      "language": "python",
      "name": "python3"
    },
    "language_info": {
      "codemirror_mode": {
        "name": "ipython",
        "version": 3
      },
      "file_extension": ".py",
      "mimetype": "text/x-python",
      "name": "python",
      "nbconvert_exporter": "python",
      "pygments_lexer": "ipython3",
      "version": "3.7.1"
    },
    "colab": {
      "name": "PE1 - Linear Regression (Exercises).ipynb",
      "provenance": [],
      "collapsed_sections": [],
      "include_colab_link": true
    }
  },
  "cells": [
    {
      "cell_type": "markdown",
      "metadata": {
        "id": "view-in-github",
        "colab_type": "text"
      },
      "source": [
        "<a href=\"https://colab.research.google.com/github/underthelights/A.I./blob/main/cs229/PE1.%20Linear_Regression%20(7.12.)(Exercises).ipynb\" target=\"_parent\"><img src=\"https://colab.research.google.com/assets/colab-badge.svg\" alt=\"Open In Colab\"/></a>"
      ]
    },
    {
      "cell_type": "markdown",
      "metadata": {
        "id": "VEHLtAhcbhc3"
      },
      "source": [
        "# Linear Regression\n",
        "\n",
        "Stanford CS229 - Machine Learning by Andrew Ng. Programming exercise 1.\n",
        "\n",
        "Please check out [the repository on GitHub](https://github.com/rickwierenga/CS229-Python/). If you spot any mistakes or inconcistencies, please create an issue. For questions you can find me on Twitter: [@rickwierenga](https://twitter.com/rickwierenga). Starring the project on GitHub means a ton to me!"
      ]
    },
    {
      "cell_type": "code",
      "metadata": {
        "id": "mXGY3YO2bhc6",
        "colab": {
          "base_uri": "https://localhost:8080/"
        },
        "outputId": "9e824cd2-4a10-4236-ba72-ef8db74d47e7"
      },
      "source": [
        "!pip install numpy\n",
        "import numpy as np\n",
        "import pandas as pd\n",
        "import matplotlib.pylab as plt\n",
        "%matplotlib inline"
      ],
      "execution_count": 64,
      "outputs": [
        {
          "output_type": "stream",
          "text": [
            "Requirement already satisfied: numpy in /usr/local/lib/python3.7/dist-packages (1.19.5)\n"
          ],
          "name": "stdout"
        }
      ]
    },
    {
      "cell_type": "markdown",
      "metadata": {
        "id": "jxyJAgWlbhc7"
      },
      "source": [
        "## Linear Regression with a single variable\n",
        "---\n",
        "In this part of this exercise, you will implement linear regression with one variable to predict profits for a food truck. Suppose you are the CEO of a restaurant franchise and are considering different cities for opening a new outlet. The chain already has trucks in various cities and you have data for profits and populations from the cities. You would like to use this data to help you select which city to expand to next. "
      ]
    },
    {
      "cell_type": "code",
      "metadata": {
        "colab": {
          "base_uri": "https://localhost:8080/"
        },
        "id": "3RavG-T6NkvB",
        "outputId": "38aebe99-5761-4b14-ae10-196babcdbac0"
      },
      "source": [
        "from google.colab import drive\n",
        "drive.mount('/content/drive')"
      ],
      "execution_count": 65,
      "outputs": [
        {
          "output_type": "stream",
          "text": [
            "Drive already mounted at /content/drive; to attempt to forcibly remount, call drive.mount(\"/content/drive\", force_remount=True).\n"
          ],
          "name": "stdout"
        }
      ]
    },
    {
      "cell_type": "code",
      "metadata": {
        "id": "mcMetei8bhc7",
        "colab": {
          "base_uri": "https://localhost:8080/",
          "height": 204
        },
        "outputId": "432947de-3263-4cf9-c832-8372c7d278d7"
      },
      "source": [
        "# start by loading the data\n",
        "data = pd.read_csv('/content/drive/MyDrive/Colab Notebooks/cs229 @ Stanford/ex1/ex1data1.txt', header=None, names=['Population', 'Profit'])\n",
        "\n",
        "# initialize some useful variables\n",
        "m = len(data) # the number of training examples\n",
        "X = np.append(np.ones((m, 1)), np.array(data[\"Population\"]).reshape((m,1)), axis=1) # Add x0, a vector of 1's, to X.\n",
        "y = np.array(data[\"Profit\"]).reshape(m, 1)\n",
        "\n",
        "data.head()"
      ],
      "execution_count": 66,
      "outputs": [
        {
          "output_type": "execute_result",
          "data": {
            "text/html": [
              "<div>\n",
              "<style scoped>\n",
              "    .dataframe tbody tr th:only-of-type {\n",
              "        vertical-align: middle;\n",
              "    }\n",
              "\n",
              "    .dataframe tbody tr th {\n",
              "        vertical-align: top;\n",
              "    }\n",
              "\n",
              "    .dataframe thead th {\n",
              "        text-align: right;\n",
              "    }\n",
              "</style>\n",
              "<table border=\"1\" class=\"dataframe\">\n",
              "  <thead>\n",
              "    <tr style=\"text-align: right;\">\n",
              "      <th></th>\n",
              "      <th>Population</th>\n",
              "      <th>Profit</th>\n",
              "    </tr>\n",
              "  </thead>\n",
              "  <tbody>\n",
              "    <tr>\n",
              "      <th>0</th>\n",
              "      <td>6.1101</td>\n",
              "      <td>17.5920</td>\n",
              "    </tr>\n",
              "    <tr>\n",
              "      <th>1</th>\n",
              "      <td>5.5277</td>\n",
              "      <td>9.1302</td>\n",
              "    </tr>\n",
              "    <tr>\n",
              "      <th>2</th>\n",
              "      <td>8.5186</td>\n",
              "      <td>13.6620</td>\n",
              "    </tr>\n",
              "    <tr>\n",
              "      <th>3</th>\n",
              "      <td>7.0032</td>\n",
              "      <td>11.8540</td>\n",
              "    </tr>\n",
              "    <tr>\n",
              "      <th>4</th>\n",
              "      <td>5.8598</td>\n",
              "      <td>6.8233</td>\n",
              "    </tr>\n",
              "  </tbody>\n",
              "</table>\n",
              "</div>"
            ],
            "text/plain": [
              "   Population   Profit\n",
              "0      6.1101  17.5920\n",
              "1      5.5277   9.1302\n",
              "2      8.5186  13.6620\n",
              "3      7.0032  11.8540\n",
              "4      5.8598   6.8233"
            ]
          },
          "metadata": {
            "tags": []
          },
          "execution_count": 66
        }
      ]
    },
    {
      "cell_type": "markdown",
      "metadata": {
        "id": "6H3ONocybhc8"
      },
      "source": [
        "### Visualising the data\n",
        "Plotting helps us get insight in the data we are working with. Using the `'bx'` option, we get blue crosses. You can read more about markers [here](https://matplotlib.org/api/markers_api.html)."
      ]
    },
    {
      "cell_type": "code",
      "metadata": {
        "id": "s67NXTpPbhc9",
        "colab": {
          "base_uri": "https://localhost:8080/",
          "height": 312
        },
        "outputId": "3340ce59-b3ab-4ca1-b0b6-cc6b849cb849"
      },
      "source": [
        "plt.plot(data['Population'], data['Profit'], '*')\n",
        "plt.xlabel('Population in 10,000')\n",
        "plt.ylabel('Profit in $10,000')\n",
        "plt.title('Relation between profit and population')"
      ],
      "execution_count": 67,
      "outputs": [
        {
          "output_type": "execute_result",
          "data": {
            "text/plain": [
              "Text(0.5, 1.0, 'Relation between profit and population')"
            ]
          },
          "metadata": {
            "tags": []
          },
          "execution_count": 67
        },
        {
          "output_type": "display_data",
          "data": {
            "image/png": "[encoded data removed]",
            "text/plain": [
              "<Figure size 432x288 with 1 Axes>"
            ]
          },
          "metadata": {
            "tags": [],
            "needs_background": "light"
          }
        }
      ]
    },
    {
      "cell_type": "markdown",
      "metadata": {
        "id": "QHOvi_0sbhc9"
      },
      "source": [
        "### The hypotheses function\n",
        "Our hypothesis function has the general form:\n",
        "$y= h_\\theta(x)= \\theta_0 + \\theta_1x$\n",
        "Note that this is like the equation of a straight line. We give to $h_\\theta(x)$ values for $\\theta_0$ and $\\theta_1$ to get our estimated output y. In other words, we are trying to create a function called $h_\\theta$ that is trying to map our input data (the x's) to our output data (the y's).\n",
        "\n",
        "### Cost function\n",
        "\n",
        "The cost functions yields \"how far off\" our hypotheses $h_\\theta$ is. It takes the avarage of the distance between our hypothesis and the actual point and squares it. Formally, the cost function has the following definition:\n",
        "\n",
        "$J(\\theta) = \\frac{1}{2m} \\displaystyle\\sum_{i = 0}^{m}(h_θ(x^{(i)}) - y^{(i)})^2$\n",
        "\n",
        "#### Vectorization\n",
        "Vectorizations is the act of replacing the loops in a computer program with matrix operations. If you have a good linear algebra library (like numpy), the library will optimize the code automatically for the computer the code runs on. Mathematically, the 'regular' function should mean the same as the vectorized function.\n",
        "\n",
        "Gradient descent vectorized:\n",
        "$\\theta = \\frac{1}{2m}(X\\theta - \\vec{y})^T(X\\theta-\\vec{y})$\n",
        "\n",
        "**Exercise**: Implement a vectorized implementation of the cost function."
      ]
    },
    {
      "cell_type": "code",
      "metadata": {
        "id": "aw6T9ntPbhc-"
      },
      "source": [
        "def cost_function(X, y, theta):\n",
        "    \"\"\" Computes the cost of using theta as the parameter for linear gression to fit the data in X and y. \"\"\"\n",
        "    return (sum(np.square(X@theta - y)))/(2 * len(y))"
      ],
      "execution_count": 68,
      "outputs": []
    },
    {
      "cell_type": "markdown",
      "metadata": {
        "id": "EahGBxvUbhc-"
      },
      "source": [
        "With $\\theta = \\begin{bmatrix}0 & 0\\end{bmatrix}$, $J(\\theta)$ should return 32.07."
      ]
    },
    {
      "cell_type": "code",
      "metadata": {
        "id": "psGrMzenbhc_",
        "colab": {
          "base_uri": "https://localhost:8080/"
        },
        "outputId": "dd858ef9-d6ac-4a86-fa16-d897851e9301"
      },
      "source": [
        "initial_theta = np.zeros((2,1))\n",
        "print(cost_function(X, y, initial_theta))"
      ],
      "execution_count": 69,
      "outputs": [
        {
          "output_type": "stream",
          "text": [
            "[32.07273388]\n"
          ],
          "name": "stdout"
        }
      ]
    },
    {
      "cell_type": "markdown",
      "metadata": {
        "id": "r7twXiNtbhc_"
      },
      "source": [
        "### Gradient descent\n",
        "We want are hypothesis $h_\\theta(x)$ to function as good as possibly. Therefore, we want to minimalize the cost function $J(\\theta)$. Gradient descent is an algorithm used to do that. \n",
        "\n",
        "The formal definition of gradient descent:\n",
        "\n",
        "$repeat \\ \\{ \\\\ \\enspace \\theta_j := \\theta_j - \\alpha \\frac{1}{m}\\displaystyle\\sum_{i = 1}^{m}(h_\\theta(x^{(i)})-y^{(i)})x_j^{(i)}\\\\\\}$\n",
        "\n",
        "An illustration of gradient descent on a single variable:\n",
        "<div>\n",
        "    <img style='max-width:50%;' src='/content/drive/MyDrive/Colab Notebooks/cs229 @ Stanford/ex1/notes/gradientdescent.png'>\n",
        "</div>\n",
        "\n",
        "**Exercise**: Implement the gradient descent algorithm in Python."
      ]
    },
    {
      "cell_type": "code",
      "metadata": {
        "id": "Lx1NeiMobhc_"
      },
      "source": [
        "def gradient_descent(X, y, theta, alpha, iterations):\n",
        "    \"\"\" Performs gradient descent to learn theta. \n",
        "    Returns the found value for theta and the history of the cost function.\n",
        "    \"\"\"\n",
        "    J_history = np.zeros((iterations, 1))\n",
        "    \n",
        "    for i in range(iterations):\n",
        "      tmp0= theta[0] - (alpha/len(y)) * np.sum(X @ theta - y)\n",
        "      theta[0] = tmp0\n",
        "      tmp1 = theta[1] - (alpha/len(y)) * np.sum((X @ theta - y).transpose()@ X[:,1:])\n",
        "      theta[1] = tmp1\n",
        "\n",
        "      J_history[i] = cost_function(X, y ,theta)\n",
        "\n",
        "    return theta, J_history"
      ],
      "execution_count": 70,
      "outputs": []
    },
    {
      "cell_type": "markdown",
      "metadata": {
        "id": "qHQAIJuvbhdA"
      },
      "source": [
        "Gradient descent should have found approximately the following: $\\theta = \\begin{bmatrix}-3.6303\\\\1.1664\\end{bmatrix}$"
      ]
    },
    {
      "cell_type": "code",
      "metadata": {
        "scrolled": true,
        "id": "PnSpg7qYbhdA",
        "colab": {
          "base_uri": "https://localhost:8080/"
        },
        "outputId": "fdeef2f8-2830-4d17-c0d0-b193026f2e10"
      },
      "source": [
        "# You can change different values for these variables\n",
        "alpha = 0.01\n",
        "iterations = 1500\n",
        "\n",
        "theta, J_history = gradient_descent(X, y, initial_theta, alpha, iterations)\n",
        "theta"
      ],
      "execution_count": 71,
      "outputs": [
        {
          "output_type": "execute_result",
          "data": {
            "text/plain": [
              "array([[-3.63606348],\n",
              "       [ 1.16698916]])"
            ]
          },
          "metadata": {
            "tags": []
          },
          "execution_count": 71
        }
      ]
    },
    {
      "cell_type": "markdown",
      "metadata": {
        "id": "-xYDTFdzbhdA"
      },
      "source": [
        "### Using the results\n",
        "#### Plotting the regularization line"
      ]
    },
    {
      "cell_type": "code",
      "metadata": {
        "id": "2arUOueQbhdA",
        "colab": {
          "base_uri": "https://localhost:8080/",
          "height": 283
        },
        "outputId": "cf43c284-1eb9-4914-8172-3ff2af5b89ff"
      },
      "source": [
        "plt.plot(X[:,1], y, 'rx', label='Training data')\n",
        "plt.plot(X[:,1], X.dot(theta), label='Linear regression')"
      ],
      "execution_count": 72,
      "outputs": [
        {
          "output_type": "execute_result",
          "data": {
            "text/plain": [
              "[<matplotlib.lines.Line2D at 0x7f8e257dd550>]"
            ]
          },
          "metadata": {
            "tags": []
          },
          "execution_count": 72
        },
        {
          "output_type": "display_data",
          "data": {
            "image/png": "[encoded data removed]",
            "text/plain": [
              "<Figure size 432x288 with 1 Axes>"
            ]
          },
          "metadata": {
            "tags": [],
            "needs_background": "light"
          }
        }
      ]
    },
    {
      "cell_type": "markdown",
      "metadata": {
        "id": "7KL_tJVobhdB"
      },
      "source": [
        "#### Plotting the cost history\n",
        "A plot of how $J(\\theta)$ decreases over time. This is are model learning."
      ]
    },
    {
      "cell_type": "code",
      "metadata": {
        "scrolled": true,
        "id": "L6e0og1-bhdB",
        "colab": {
          "base_uri": "https://localhost:8080/",
          "height": 282
        },
        "outputId": "28fca60a-821d-4a5c-a63d-f7304647f57f"
      },
      "source": [
        "plt.plot(J_history)"
      ],
      "execution_count": 73,
      "outputs": [
        {
          "output_type": "execute_result",
          "data": {
            "text/plain": [
              "[<matplotlib.lines.Line2D at 0x7f8e257c5710>]"
            ]
          },
          "metadata": {
            "tags": []
          },
          "execution_count": 73
        },
        {
          "output_type": "display_data",
          "data": {
            "image/png": "[encoded data removed]",
            "text/plain": [
              "<Figure size 432x288 with 1 Axes>"
            ]
          },
          "metadata": {
            "tags": [],
            "needs_background": "light"
          }
        }
      ]
    },
    {
      "cell_type": "markdown",
      "metadata": {
        "id": "iOwoBxUtbhdB"
      },
      "source": [
        "#### Making a prediction using the model\n",
        "The model can be used by calculating the dot product of the input and $\\theta$."
      ]
    },
    {
      "cell_type": "code",
      "metadata": {
        "id": "VirQ8sKrbhdB",
        "colab": {
          "base_uri": "https://localhost:8080/",
          "height": 36
        },
        "outputId": "9bc795a1-5e4b-4153-8e26-2d5ce645d21e"
      },
      "source": [
        "prediction = np.array([1, 3.5]).dot(theta) * 10000 # don't forget to multiply the prediction by 10000\n",
        "'In a city with a population of 35000, we predict a profit of $%.2f' % prediction"
      ],
      "execution_count": 74,
      "outputs": [
        {
          "output_type": "execute_result",
          "data": {
            "application/vnd.google.colaboratory.intrinsic+json": {
              "type": "string"
            },
            "text/plain": [
              "'In a city with a population of 35000, we predict a profit of $4483.99'"
            ]
          },
          "metadata": {
            "tags": []
          },
          "execution_count": 74
        }
      ]
    },
    {
      "cell_type": "markdown",
      "metadata": {
        "id": "8El2BmK-bhdD"
      },
      "source": [
        "\n",
        "## Multivariate Linear Regression\n",
        "\n",
        "---\n",
        "In this part, you will implement linear regression with multiple variables to predict the prices of houses. Suppose you are selling your house and you want to know what a good market price would be. One way to do this is to first collect information on recent houses sold and make a model of housing prices."
      ]
    },
    {
      "cell_type": "code",
      "metadata": {
        "scrolled": true,
        "id": "bnTPQ7JBbhdD",
        "colab": {
          "base_uri": "https://localhost:8080/",
          "height": 204
        },
        "outputId": "b858aded-b9f8-4f0b-b048-2e50d11bf121"
      },
      "source": [
        "# load data\n",
        "data = pd.read_csv(\"/content/drive/MyDrive/Colab Notebooks/cs229 @ Stanford/ex1/ex1data2.txt\", header = None, names=[\"Size\", \"Bedrooms\",\"Price\"])\n",
        "m = len(data)\n",
        "\n",
        "# Initialize X, y and theta\n",
        "x0 = np.ones(m)\n",
        "size = np.array((data[\"Size\"]))\n",
        "bedrooms = np.array((data[\"Bedrooms\"]))\n",
        "X = np.array([x0, size, bedrooms]).T\n",
        "y = np.array(data[\"Price\"]).reshape(len(data.index), 1)\n",
        "theta_init = np.zeros((3,1))\n",
        "\n",
        "data.head()"
      ],
      "execution_count": 75,
      "outputs": [
        {
          "output_type": "execute_result",
          "data": {
            "text/html": [
              "<div>\n",
              "<style scoped>\n",
              "    .dataframe tbody tr th:only-of-type {\n",
              "        vertical-align: middle;\n",
              "    }\n",
              "\n",
              "    .dataframe tbody tr th {\n",
              "        vertical-align: top;\n",
              "    }\n",
              "\n",
              "    .dataframe thead th {\n",
              "        text-align: right;\n",
              "    }\n",
              "</style>\n",
              "<table border=\"1\" class=\"dataframe\">\n",
              "  <thead>\n",
              "    <tr style=\"text-align: right;\">\n",
              "      <th></th>\n",
              "      <th>Size</th>\n",
              "      <th>Bedrooms</th>\n",
              "      <th>Price</th>\n",
              "    </tr>\n",
              "  </thead>\n",
              "  <tbody>\n",
              "    <tr>\n",
              "      <th>0</th>\n",
              "      <td>2104</td>\n",
              "      <td>3</td>\n",
              "      <td>399900</td>\n",
              "    </tr>\n",
              "    <tr>\n",
              "      <th>1</th>\n",
              "      <td>1600</td>\n",
              "      <td>3</td>\n",
              "      <td>329900</td>\n",
              "    </tr>\n",
              "    <tr>\n",
              "      <th>2</th>\n",
              "      <td>2400</td>\n",
              "      <td>3</td>\n",
              "      <td>369000</td>\n",
              "    </tr>\n",
              "    <tr>\n",
              "      <th>3</th>\n",
              "      <td>1416</td>\n",
              "      <td>2</td>\n",
              "      <td>232000</td>\n",
              "    </tr>\n",
              "    <tr>\n",
              "      <th>4</th>\n",
              "      <td>3000</td>\n",
              "      <td>4</td>\n",
              "      <td>539900</td>\n",
              "    </tr>\n",
              "  </tbody>\n",
              "</table>\n",
              "</div>"
            ],
            "text/plain": [
              "   Size  Bedrooms   Price\n",
              "0  2104         3  399900\n",
              "1  1600         3  329900\n",
              "2  2400         3  369000\n",
              "3  1416         2  232000\n",
              "4  3000         4  539900"
            ]
          },
          "metadata": {
            "tags": []
          },
          "execution_count": 75
        }
      ]
    },
    {
      "cell_type": "markdown",
      "metadata": {
        "id": "hKTeZTFHbhdD"
      },
      "source": [
        "### Feature Normalization\n",
        "When features differ by order of magnitude, first performing feature scaling can make gradient descent converge much more quickly. Formally:\n",
        "\n",
        "$x := \\frac{x - \\mu}{\\sigma}$\n",
        "\n",
        "Where $\\mu$ is the average and $\\sigma$ the standard deviation.\n",
        "\n",
        "**Important**: It is crucial to store $\\mu$ and $\\sigma$ if you want to make predictions using the model later.\n",
        "\n",
        "**Exercise**: Perform feature normalization on the following dataset."
      ]
    },
    {
      "cell_type": "code",
      "metadata": {
        "id": "3vOQIgyDbhdE",
        "colab": {
          "base_uri": "https://localhost:8080/"
        },
        "outputId": "8d5c8515-139c-4ec1-d989-4f0235492d11"
      },
      "source": [
        "# perform normalization\n",
        "def normalize(X):\n",
        "    \"\"\" Normalizes the features in X\n",
        "    \n",
        "    returns a normalized version of X where\n",
        "    the mean value of each feature is 0 and the standard deviation\n",
        "    is 1. This is often a good preprocessing step to do when\n",
        "    working with learning algorithms.\n",
        "    \"\"\"\n",
        "    mu = np.zeros(len(X))\n",
        "    sigma = np.zeros(len(X))\n",
        "    for i, feature in enumerate(X.transpose()):\n",
        "        if i==0 : continue\n",
        "        myu = np.mean(feature)\n",
        "        std = np.std(feature)\n",
        "\n",
        "        mu[i] = myu\n",
        "        sigma[i] = std\n",
        "        X[:, i] = ((feature-myu)/std).T\n",
        "    return X, mu, sigma\n",
        "\n",
        "X, mu, sigma = normalize(X)\n",
        "X[0:5]"
      ],
      "execution_count": 86,
      "outputs": [
        {
          "output_type": "execute_result",
          "data": {
            "text/plain": [
              "array([[ 1.        ,  0.13141542, -0.22609337],\n",
              "       [ 1.        , -0.5096407 , -0.22609337],\n",
              "       [ 1.        ,  0.5079087 , -0.22609337],\n",
              "       [ 1.        , -0.74367706, -1.5543919 ],\n",
              "       [ 1.        ,  1.27107075,  1.10220517]])"
            ]
          },
          "metadata": {
            "tags": []
          },
          "execution_count": 86
        }
      ]
    },
    {
      "cell_type": "markdown",
      "metadata": {
        "id": "UiASINMHbhdE"
      },
      "source": [
        "## Gradient Descent\n",
        "\n",
        "Remember the algorithm for gradient descent:\n",
        "\n",
        "$repeat \\ \\{ \\\\ \\enspace \\theta_j := \\theta_j - \\alpha \\frac{1}{m}\\displaystyle\\sum_{i = 1}^{m}(h_\\theta(x^{(i)})-y^{(i)})x_j^{(i)}\\\\\\}$\n",
        "\n",
        "The vectorization for multivariate gradient descent:\n",
        "\n",
        "$\\theta := \\theta - \\frac{\\alpha}{m}X^T(X\\theta - \\vec{y})$\n",
        "\n",
        "**Exercise**: Implement gradient descent for multiple features. Make sure your solution is vectorized and supports any number of features."
      ]
    },
    {
      "cell_type": "code",
      "metadata": {
        "id": "BTqQrpZibhdE",
        "colab": {
          "base_uri": "https://localhost:8080/"
        },
        "outputId": "19935877-b3db-4c07-d094-9f577fb8b0b8"
      },
      "source": [
        "def gradient_descent_multi(X, y, theta, alpha, iterations):\n",
        "    J_history = []\n",
        "    for i in range(iterations):\n",
        "        theta = theta - ((alpha/len(y)) * X.transpose() @ (X @ theta - y))\n",
        "        J_history.append(float(cost_function(X, y, theta)))\n",
        "    return theta, J_history\n",
        "\n",
        "alpha = 0.01\n",
        "iterations = 1500\n",
        "initial_theta = np.zeros((3,1))\n",
        "theta, J_history = gradient_descent_multi(X, y, initial_theta, alpha, iterations)\n",
        "theta"
      ],
      "execution_count": 88,
      "outputs": [
        {
          "output_type": "execute_result",
          "data": {
            "text/plain": [
              "array([[340412.56301439],\n",
              "       [109370.05670466],\n",
              "       [ -6500.61509507]])"
            ]
          },
          "metadata": {
            "tags": []
          },
          "execution_count": 88
        }
      ]
    },
    {
      "cell_type": "markdown",
      "metadata": {
        "id": "ksEAh_QTbhdF"
      },
      "source": [
        "As before we see how the cost decreases over time."
      ]
    },
    {
      "cell_type": "code",
      "metadata": {
        "id": "g_0HhFG2bhdF",
        "colab": {
          "base_uri": "https://localhost:8080/",
          "height": 312
        },
        "outputId": "4a33e27f-7d4a-4689-a2ad-c31f296a1517"
      },
      "source": [
        "plt.plot(J_history)\n",
        "plt.title('J per iteration')\n",
        "plt.xlabel('iteration')\n",
        "plt.ylabel('cost')"
      ],
      "execution_count": 89,
      "outputs": [
        {
          "output_type": "execute_result",
          "data": {
            "text/plain": [
              "Text(0, 0.5, 'cost')"
            ]
          },
          "metadata": {
            "tags": []
          },
          "execution_count": 89
        },
        {
          "output_type": "display_data",
          "data": {
            "image/png": "[encoded data removed]",
            "text/plain": [
              "<Figure size 432x288 with 1 Axes>"
            ]
          },
          "metadata": {
            "tags": [],
            "needs_background": "light"
          }
        }
      ]
    },
    {
      "cell_type": "markdown",
      "metadata": {
        "id": "USlhSHYEbhdF"
      },
      "source": [
        "If we want to make a prediction on a normalized dataset, we have to normalize our input too."
      ]
    },
    {
      "cell_type": "code",
      "metadata": {
        "id": "f-kCivCQbhdG",
        "colab": {
          "base_uri": "https://localhost:8080/",
          "height": 36
        },
        "outputId": "ebbeeb7e-ba80-4e37-c1a7-ba309684637b"
      },
      "source": [
        "price = theta.transpose() @ np.array([1, (1650-mu[1])/sigma[1], (3-mu[2])/sigma[2]]) # normalize the input\n",
        "'In a house of 1650 square feet with 3 rooms, we predict a price of $%.2f' % price"
      ],
      "execution_count": 90,
      "outputs": [
        {
          "output_type": "execute_result",
          "data": {
            "application/vnd.google.colaboratory.intrinsic+json": {
              "type": "string"
            },
            "text/plain": [
              "'In a house of 1650 square feet with 3 rooms, we predict a price of $293098.47'"
            ]
          },
          "metadata": {
            "tags": []
          },
          "execution_count": 90
        }
      ]
    },
    {
      "cell_type": "markdown",
      "metadata": {
        "id": "g1dlRWbgbhdG"
      },
      "source": [
        "### Using normal equations\n",
        "We can use normal equations to get the exact solution in only one calculation. Although using normal equations is very fast for a small datasets with a small number of features, it can be inefficient for larger datasets because the complexity of matrix multiplication is $O(n^3)$.\n",
        "\n",
        "The normal equation for linear regression is:\n",
        "\n",
        "$\\theta=(X^TX)^{−1}X^T\\vec{y}$\n",
        "\n",
        "**Exercise**: Find theta using normal equations."
      ]
    },
    {
      "cell_type": "code",
      "metadata": {
        "id": "_icRSgnobhdG",
        "colab": {
          "base_uri": "https://localhost:8080/"
        },
        "outputId": "6724cbe0-f045-41d4-9641-e6a7f572224a"
      },
      "source": [
        "theta = 0\n",
        "\n",
        "theta = np.linalg.inv(X.T @ X) @ (X.T@y)\n",
        "\n",
        "theta"
      ],
      "execution_count": 93,
      "outputs": [
        {
          "output_type": "execute_result",
          "data": {
            "text/plain": [
              "array([[340412.65957447],\n",
              "       [109447.79646964],\n",
              "       [ -6578.35485416]])"
            ]
          },
          "metadata": {
            "tags": []
          },
          "execution_count": 93
        }
      ]
    },
    {
      "cell_type": "code",
      "metadata": {
        "id": "ZEiAaVXJbhdG",
        "colab": {
          "base_uri": "https://localhost:8080/",
          "height": 36
        },
        "outputId": "f615bcdd-2fa2-451c-f1eb-3b808310f0d7"
      },
      "source": [
        "price = theta.transpose() @ np.array([1, (1650-mu[1])/sigma[1], (3-mu[2])/sigma[2]]) # normalize the input\n",
        "'In a house of 1650 square feet with 3 rooms, we predict a price of $%.2f' % price"
      ],
      "execution_count": 94,
      "outputs": [
        {
          "output_type": "execute_result",
          "data": {
            "application/vnd.google.colaboratory.intrinsic+json": {
              "type": "string"
            },
            "text/plain": [
              "'In a house of 1650 square feet with 3 rooms, we predict a price of $293081.46'"
            ]
          },
          "metadata": {
            "tags": []
          },
          "execution_count": 94
        }
      ]
    }
  ]
}